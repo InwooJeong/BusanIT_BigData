{
 "cells": [
  {
   "cell_type": "code",
   "execution_count": 1,
   "id": "7d8b428f-dc94-443e-9bcd-25b3c430dfa6",
   "metadata": {},
   "outputs": [
    {
     "name": "stdout",
     "output_type": "stream",
     "text": [
      "2.6.0\n",
      "3.35.4\n"
     ]
    }
   ],
   "source": [
    "import sqlite3\n",
    "print(sqlite3.version)\n",
    "print(sqlite3.sqlite_version)"
   ]
  },
  {
   "cell_type": "code",
   "execution_count": 3,
   "id": "34c779c1-e809-4452-a191-183baf52f3e5",
   "metadata": {},
   "outputs": [],
   "source": [
    "def create_table():\n",
    "    conn=sqlite3.connect('my_book.db')\n",
    "    cursor=conn.cursor()\n",
    "    sql=\"\"\"CREATE TABLE if not exists books(\n",
    "    title text,\n",
    "    published_date text,\n",
    "    publisher text,\n",
    "    pages integer\n",
    "    )\"\"\"\n",
    "    cursor.execute(sql)\n",
    "    conn.commit()\n",
    "    conn.close()\n",
    "create_table()"
   ]
  },
  {
   "cell_type": "code",
   "execution_count": 15,
   "id": "4dd814a6-2813-4fcc-a622-90e0c0d0a1a8",
   "metadata": {},
   "outputs": [],
   "source": [
    "def insert_books(data):\n",
    "    conn=sqlite3.connect('my_book.db')\n",
    "    cursor=conn.cursor()\n",
    "    #sql=\"\"\"INSERT INTO books \n",
    "    #      values('java','2021-01-12','길벗',500)\"\"\"\n",
    "    sql=\"INSERT INTO books values(?,?,?,?)\"\n",
    "    cursor.execute(sql,data)\n",
    "    conn.commit()\n",
    "    conn.close()"
   ]
  },
  {
   "cell_type": "code",
   "execution_count": 16,
   "id": "73fde815-e53b-4e48-9f83-f52cd34a04dc",
   "metadata": {},
   "outputs": [],
   "source": [
    "data=('python','2011-01-12','한빛',450)\n",
    "insert_books(data)"
   ]
  },
  {
   "cell_type": "code",
   "execution_count": 18,
   "id": "00e17039-3d84-42bb-890f-9750b179a11b",
   "metadata": {},
   "outputs": [],
   "source": [
    "def insert_many_books(data):\n",
    "    conn=sqlite3.connect('my_book.db')\n",
    "    cursor=conn.cursor()\n",
    "    #sql=\"\"\"INSERT INTO books \n",
    "    #      values('java','2021-01-12','길벗',500)\"\"\"\n",
    "    sql=\"INSERT INTO books values(?,?,?,?)\"\n",
    "    cursor.executemany(sql,data)\n",
    "    conn.commit()\n",
    "    conn.close()"
   ]
  },
  {
   "cell_type": "code",
   "execution_count": 19,
   "id": "4ad23323-28bd-40d9-bedb-6cb984689948",
   "metadata": {},
   "outputs": [],
   "source": [
    "items=[('Big data','2021-05-05','영진',550),('android','2022-01-01','한빛',600)]\n",
    "insert_many_books(items)"
   ]
  },
  {
   "cell_type": "code",
   "execution_count": 12,
   "id": "d6fd4cf9-57c4-436a-b299-ae319660eee0",
   "metadata": {},
   "outputs": [],
   "source": [
    "def all_books():\n",
    "    conn=sqlite3.connect('my_book.db')\n",
    "    cursor=conn.cursor()\n",
    "    sql=\"\"\"SELECT  *\n",
    "           FROM    books\"\"\"\n",
    "    cursor.execute(sql)\n",
    "    books=cursor.fetchall()\n",
    "    print(books)\n",
    "    print(type(books))\n",
    "    \n",
    "    for book in books:\n",
    "        print(book)\n",
    "        print(type(book))\n",
    "    conn.close()"
   ]
  },
  {
   "cell_type": "code",
   "execution_count": 20,
   "id": "23be58c2-94b8-4a8d-a969-b1aec2e7e19b",
   "metadata": {},
   "outputs": [
    {
     "name": "stdout",
     "output_type": "stream",
     "text": [
      "[('java', '2021-01-12', '길벗', 500), ('python', '2011-01-12', '한빛', 450), ('Big data', '2021-05-05', '영진', 550), ('android', '2022-01-01', '한빛', 600)]\n",
      "<class 'list'>\n",
      "('java', '2021-01-12', '길벗', 500)\n",
      "<class 'tuple'>\n",
      "('python', '2011-01-12', '한빛', 450)\n",
      "<class 'tuple'>\n",
      "('Big data', '2021-05-05', '영진', 550)\n",
      "<class 'tuple'>\n",
      "('android', '2022-01-01', '한빛', 600)\n",
      "<class 'tuple'>\n"
     ]
    }
   ],
   "source": [
    "all_books()"
   ]
  },
  {
   "cell_type": "code",
   "execution_count": 21,
   "id": "32046fe2-9a0a-4557-8e86-7594a518a845",
   "metadata": {},
   "outputs": [],
   "source": [
    "def some_books(number):\n",
    "    conn=sqlite3.connect('my_book.db')\n",
    "    cursor=conn.cursor()\n",
    "    sql=\"\"\"SELECT  *\n",
    "           FROM    books\"\"\"\n",
    "    cursor.execute(sql)\n",
    "    books=cursor.fetchmany(number)\n",
    "    for book in books:\n",
    "        print(book)\n",
    "    conn.close()"
   ]
  },
  {
   "cell_type": "code",
   "execution_count": 23,
   "id": "2462d921-ab2b-4025-b0ee-11fcd19a6e37",
   "metadata": {},
   "outputs": [
    {
     "name": "stdout",
     "output_type": "stream",
     "text": [
      "('java', '2021-01-12', '길벗', 500)\n",
      "('python', '2011-01-12', '한빛', 450)\n",
      "('Big data', '2021-05-05', '영진', 550)\n"
     ]
    }
   ],
   "source": [
    "some_books(3)"
   ]
  },
  {
   "cell_type": "code",
   "execution_count": 24,
   "id": "4592dcf4-9ccf-4483-a772-c35fec1ad41f",
   "metadata": {},
   "outputs": [],
   "source": [
    "def one_book():\n",
    "    conn=sqlite3.connect('my_book.db')\n",
    "    cursor=conn.cursor()\n",
    "    sql=\"\"\"SELECT  *\n",
    "           FROM    books\"\"\"\n",
    "    cursor.execute(sql)\n",
    "    books=cursor.fetchone()\n",
    "    for book in books:\n",
    "        print(book)\n",
    "    conn.close()"
   ]
  },
  {
   "cell_type": "code",
   "execution_count": 25,
   "id": "c95a93b8-3737-4baf-b774-fc5122899d41",
   "metadata": {},
   "outputs": [
    {
     "name": "stdout",
     "output_type": "stream",
     "text": [
      "java\n",
      "2021-01-12\n",
      "길벗\n",
      "500\n"
     ]
    }
   ],
   "source": [
    "one_book()"
   ]
  },
  {
   "cell_type": "code",
   "execution_count": 37,
   "id": "a66ab7bb-5129-47b0-a56f-026abfa85f94",
   "metadata": {},
   "outputs": [],
   "source": [
    "def select_books(data):\n",
    "    conn=sqlite3.connect('my_book.db')\n",
    "    cursor=conn.cursor()\n",
    "    sql=\"\"\"SELECT   *\n",
    "           FROM     books\n",
    "           WHERE    pages>? or publisher=?\n",
    "           ORDER BY title\"\"\"\n",
    "    cursor.execute(sql,data)\n",
    "    books=cursor.fetchall()\n",
    "    for book in books:\n",
    "        print(book)\n",
    "    conn.close()"
   ]
  },
  {
   "cell_type": "code",
   "execution_count": 38,
   "id": "f4a31076-8e28-4e06-81aa-ad984e7c9984",
   "metadata": {},
   "outputs": [
    {
     "name": "stdout",
     "output_type": "stream",
     "text": [
      "('Big data', '2021-05-05', '영진', 550)\n",
      "('android', '2022-01-01', '한빛', 600)\n",
      "('python', '2011-01-12', '한빛', 450)\n"
     ]
    }
   ],
   "source": [
    "data=(500,'한빛')\n",
    "select_books(data)"
   ]
  },
  {
   "cell_type": "code",
   "execution_count": 40,
   "id": "0b340542-eaae-492b-8e58-c63c9a338f98",
   "metadata": {},
   "outputs": [],
   "source": [
    "def update_book(data):\n",
    "    conn=sqlite3.connect('my_book.db')\n",
    "    cursor=conn.cursor()\n",
    "    sql=\"UPDATE books SET pages=? WHERE title=?\"\n",
    "    cursor.execute(sql,data)\n",
    "    conn.commit()\n",
    "    conn.close()"
   ]
  },
  {
   "cell_type": "code",
   "execution_count": 45,
   "id": "d25dac21-19ef-45e2-bca2-fce4efda7f57",
   "metadata": {},
   "outputs": [
    {
     "name": "stdout",
     "output_type": "stream",
     "text": [
      "[('java', '2021-01-12', '길벗', 300), ('python', '2011-01-12', '한빛', 450), ('Big data', '2021-05-05', '영진', 550), ('android', '2022-01-01', '한빛', 700)]\n",
      "<class 'list'>\n",
      "('java', '2021-01-12', '길벗', 300)\n",
      "<class 'tuple'>\n",
      "('python', '2011-01-12', '한빛', 450)\n",
      "<class 'tuple'>\n",
      "('Big data', '2021-05-05', '영진', 550)\n",
      "<class 'tuple'>\n",
      "('android', '2022-01-01', '한빛', 700)\n",
      "<class 'tuple'>\n"
     ]
    }
   ],
   "source": [
    "update_book((700,'android'))\n",
    "all_books()"
   ]
  },
  {
   "cell_type": "code",
   "execution_count": 48,
   "id": "76b0fd7d-be9d-4d80-a1af-0d817a99e1fb",
   "metadata": {},
   "outputs": [],
   "source": [
    "def update_books(datas):\n",
    "    conn=sqlite3.connect('my_book.db')\n",
    "    cursor=conn.cursor()\n",
    "    sql=\"UPDATE books SET pages=? WHERE title=?\"\n",
    "    cursor.executemany(sql,datas)\n",
    "    conn.commit()\n",
    "    conn.close()"
   ]
  },
  {
   "cell_type": "code",
   "execution_count": 50,
   "id": "ed904a90-d31c-4f53-aa65-2f9d887ac87b",
   "metadata": {},
   "outputs": [
    {
     "name": "stdout",
     "output_type": "stream",
     "text": [
      "[('java', '2021-01-12', '길벗', 400), ('python', '2011-01-12', '한빛', 450), ('Big data', '2021-05-05', '영진', 550), ('android', '2022-01-01', '한빛', 550)]\n",
      "<class 'list'>\n",
      "('java', '2021-01-12', '길벗', 400)\n",
      "<class 'tuple'>\n",
      "('python', '2011-01-12', '한빛', 450)\n",
      "<class 'tuple'>\n",
      "('Big data', '2021-05-05', '영진', 550)\n",
      "<class 'tuple'>\n",
      "('android', '2022-01-01', '한빛', 550)\n",
      "<class 'tuple'>\n"
     ]
    }
   ],
   "source": [
    "datas=[(400,'java'),(550,'android')]\n",
    "update_books(datas)\n",
    "all_books()"
   ]
  },
  {
   "cell_type": "code",
   "execution_count": 51,
   "id": "28a4a595-2b71-4cc2-a902-ab902695f6b3",
   "metadata": {},
   "outputs": [],
   "source": [
    "def delete_books():\n",
    "    conn=sqlite3.connect('my_book.db')\n",
    "    cursor=conn.cursor()\n",
    "    sql=\"DELETE FROM books WHERE title='java'\"\n",
    "    cursor.execute(sql)\n",
    "    conn.commit()\n",
    "    conn.close()"
   ]
  },
  {
   "cell_type": "code",
   "execution_count": 53,
   "id": "24006758-d1c1-44af-a5a3-0635f17f6dd8",
   "metadata": {},
   "outputs": [
    {
     "name": "stdout",
     "output_type": "stream",
     "text": [
      "[('python', '2011-01-12', '한빛', 450), ('Big data', '2021-05-05', '영진', 550), ('android', '2022-01-01', '한빛', 550)]\n",
      "<class 'list'>\n",
      "('python', '2011-01-12', '한빛', 450)\n",
      "<class 'tuple'>\n",
      "('Big data', '2021-05-05', '영진', 550)\n",
      "<class 'tuple'>\n",
      "('android', '2022-01-01', '한빛', 550)\n",
      "<class 'tuple'>\n"
     ]
    }
   ],
   "source": [
    "delete_books()\n",
    "all_books()"
   ]
  },
  {
   "cell_type": "code",
   "execution_count": 1,
   "id": "694612df-2b3d-4792-9831-7af10df71d54",
   "metadata": {},
   "outputs": [],
   "source": [
    "import cx_Oracle"
   ]
  },
  {
   "cell_type": "code",
   "execution_count": 4,
   "id": "aca30925-bbe1-4937-8ed6-0ffe890e9979",
   "metadata": {},
   "outputs": [],
   "source": [
    "def insert_product():\n",
    "    conn=cx_Oracle.connect(\"inwoo/inwoo@localhost:1521/xe\")\n",
    "    cursor=conn.cursor()\n",
    "    sql=\"\"\"INSERT INTO product(product_id,product_name,price,description,picture_url)\n",
    "         VALUES(:1,:2,:3,:4,:5)\"\"\"\n",
    "    data=(1,'레몬',1500,'레몬에 포함된 구연산은 피로회복에 좋습니다.','lemon.jpg')\n",
    "    cursor.execute(sql,data)\n",
    "    cursor.close()\n",
    "    conn.commit()\n",
    "    conn.close()\n",
    "insert_product()"
   ]
  },
  {
   "cell_type": "code",
   "execution_count": 7,
   "id": "6aa6be96-3374-4578-b479-e58996b2d086",
   "metadata": {},
   "outputs": [
    {
     "name": "stdout",
     "output_type": "stream",
     "text": [
      "[1, '레몬', 1500, '레몬에 포함된 구연산은 피로회복에 좋습니다.', 'lemon.jpg']\n"
     ]
    }
   ],
   "source": [
    "def all_product():\n",
    "    conn=cx_Oracle.connect(\"inwoo/inwoo@localhost:1521/xe\")\n",
    "    cursor=conn.cursor()\n",
    "    sql=\"\"\"SELECT * FROM product\"\"\"\n",
    "    cursor.execute(sql)\n",
    "    #product=cursor.fetchall()\n",
    "    for row in cursor:\n",
    "        description=row[3].read() #CLOB필드 읽는 방법\n",
    "        data=list(row) #tuple->list로 변경\n",
    "        data[3]=description\n",
    "        print(data)\n",
    "    cursor.close()\n",
    "    conn.close()\n",
    "all_product()"
   ]
  },
  {
   "cell_type": "code",
   "execution_count": 29,
   "id": "9be5e50a-5838-4e6b-b2c7-6e530f24fe8e",
   "metadata": {},
   "outputs": [],
   "source": [
    "def insert_one_product(data):\n",
    "    conn=cx_Oracle.connect(\"inwoo/inwoo@localhost:1521/xe\")\n",
    "    cursor=conn.cursor()\n",
    "    sql=\"\"\"INSERT INTO product(product_id,product_name,price,description,picture_url)\n",
    "         VALUES(:1,:2,:3,:4,:5)\"\"\"\n",
    "    #data=(1,'레몬',1500,'레몬에 포함된 구연산은 피로회복에 좋습니다.','lemon.jpg')\n",
    "    cursor.execute(sql,data)\n",
    "    cursor.close()\n",
    "    conn.commit()\n",
    "    conn.close()\n",
    "#insert_product()"
   ]
  },
  {
   "cell_type": "code",
   "execution_count": 30,
   "id": "73cf8d77-6977-43c7-931d-b29fb10fdeed",
   "metadata": {},
   "outputs": [],
   "source": [
    "data=(2,'오렌지',5000,'비타민C가 풍부합니다. 생과일 주스로 마시면 좋습니다.','orange.jpg')\n",
    "insert_one_product(data)"
   ]
  },
  {
   "cell_type": "code",
   "execution_count": 31,
   "id": "7c689129-ea93-4b2d-bf67-a00625e6d66b",
   "metadata": {},
   "outputs": [
    {
     "name": "stdout",
     "output_type": "stream",
     "text": [
      "[1, '레몬', 1500, '레몬에 포함된 구연산은 피로회복에 좋습니다.', 'lemon.jpg']\n",
      "[2, '오렌지', 5000, '비타민C가 풍부합니다. 생과일 주스로 마시면 좋습니다.', 'orange.jpg']\n"
     ]
    }
   ],
   "source": [
    "all_product()"
   ]
  },
  {
   "cell_type": "code",
   "execution_count": 13,
   "id": "e7e7d264-32fe-4056-a569-85e89f2919dd",
   "metadata": {},
   "outputs": [],
   "source": [
    "def insert_many_products(datas):\n",
    "    conn=cx_Oracle.connect(\"inwoo/inwoo@localhost:1521/xe\")\n",
    "    cursor=conn.cursor()\n",
    "    sql=\"\"\"INSERT INTO product(product_id,product_name,price,description,picture_url)\n",
    "         VALUES(:1,:2,:3,:4,:5)\"\"\"\n",
    "    cursor.executemany(sql,datas)\n",
    "    cursor.close()\n",
    "    conn.commit()\n",
    "    conn.close()"
   ]
  },
  {
   "cell_type": "code",
   "execution_count": 32,
   "id": "2f91076f-956a-4a25-acdc-80250823dde4",
   "metadata": {},
   "outputs": [
    {
     "name": "stdout",
     "output_type": "stream",
     "text": [
      "[1, '레몬', 1500, '레몬에 포함된 구연산은 피로회복에 좋습니다.', 'lemon.jpg']\n",
      "[2, '오렌지', 5000, '비타민C가 풍부합니다. 생과일 주스로 마시면 좋습니다.', 'orange.jpg']\n",
      "[3, '키위', 5000, '다이어트나 미용에 좋습니다.', 'kiwi.jpg']\n",
      "[4, '포도', 8000, '폴리페놀을 다량 함유하고 있어 항산화 작용을 합니다.', 'grape.jpg']\n"
     ]
    }
   ],
   "source": [
    "datas=[(3,'키위',5000,'다이어트나 미용에 좋습니다.','kiwi.jpg'),\n",
    "       (4,'포도',8000,'폴리페놀을 다량 함유하고 있어 항산화 작용을 합니다.','grape.jpg')]\n",
    "insert_many_products(datas)\n",
    "all_product()"
   ]
  },
  {
   "cell_type": "code",
   "execution_count": 24,
   "id": "90c1f3a7-7f3e-49e9-a71f-2cddd3e3d72e",
   "metadata": {},
   "outputs": [
    {
     "name": "stdout",
     "output_type": "stream",
     "text": [
      "상품갯수: 0\n"
     ]
    }
   ],
   "source": [
    "def select_one():\n",
    "    conn=cx_Oracle.connect(\"inwoo/inwoo@localhost:1521/xe\")\n",
    "    cursor=conn.cursor()\n",
    "    sql=\"SELECT count(*) FROM product\"\n",
    "    cursor.execute(sql)\n",
    "    count=cursor.fetchone()\n",
    "    print(\"상품갯수:\",count[0])\n",
    "    cursor.close()\n",
    "    conn.close()\n",
    "    \n",
    "select_one()"
   ]
  },
  {
   "cell_type": "code",
   "execution_count": 19,
   "id": "1e3e2f31-a064-4508-ba4f-942d5d46adb2",
   "metadata": {},
   "outputs": [
    {
     "name": "stdout",
     "output_type": "stream",
     "text": [
      "[2, '오렌지', 5000, '비타민C가 풍부합니다. 생과일 주스로 마시면 좋습니다.', 'orange.jpg']\n",
      "[3, '키위', 5000, '다이어트나 미용에 좋습니다.', 'kiwi.jpg']\n",
      "[4, '포도', 8000, '폴리페놀을 다량 함유하고 있어 항산화 작용을 합니다.', 'grape.jpg']\n"
     ]
    }
   ],
   "source": [
    "def delete_product():\n",
    "    conn=cx_Oracle.connect(\"inwoo/inwoo@localhost:1521/xe\")\n",
    "    cursor=conn.cursor()\n",
    "    sql=\"DELETE FROM product WHERE product_id=:product_id\"\n",
    "    cursor.execute(sql,{'product_id':1})\n",
    "    #cursor.close()\n",
    "    conn.commit()\n",
    "    conn.close()\n",
    "\n",
    "delete_product()\n",
    "all_product()"
   ]
  },
  {
   "cell_type": "code",
   "execution_count": 20,
   "id": "b825fc27-a1de-4664-9f42-ebd524246865",
   "metadata": {},
   "outputs": [],
   "source": [
    "def delete_all_products():\n",
    "    conn=cx_Oracle.connect(\"inwoo/inwoo@localhost:1521/xe\")\n",
    "    cursor=conn.cursor()\n",
    "    sql=\"DELETE FROM product\"\n",
    "    cursor.execute(sql)\n",
    "    #cursor.close()\n",
    "    conn.commit()\n",
    "    conn.close()"
   ]
  },
  {
   "cell_type": "code",
   "execution_count": 23,
   "id": "34d68dc6-d949-4e5c-b98d-4cee33aacc1e",
   "metadata": {},
   "outputs": [],
   "source": [
    "delete_all_products()\n",
    "all_product()"
   ]
  },
  {
   "cell_type": "code",
   "execution_count": 33,
   "id": "f952dd81-6464-40a2-bd18-e78da8fc72fe",
   "metadata": {},
   "outputs": [],
   "source": [
    "def update(price,product_id):\n",
    "    conn=cx_Oracle.connect(\"inwoo/inwoo@localhost:1521/xe\")\n",
    "    cursor=conn.cursor()\n",
    "    sql=\"update product set price=:1 where product_id=:2\"\n",
    "    data=(price,product_id)\n",
    "    cursor.execute(sql,data)\n",
    "    conn.commit()\n",
    "    conn.close()"
   ]
  },
  {
   "cell_type": "code",
   "execution_count": 34,
   "id": "8d01a404-9873-4b4d-8623-aca20c81cd8c",
   "metadata": {},
   "outputs": [
    {
     "name": "stdout",
     "output_type": "stream",
     "text": [
      "[1, '레몬', 1500, '레몬에 포함된 구연산은 피로회복에 좋습니다.', 'lemon.jpg']\n",
      "[2, '오렌지', 5000, '비타민C가 풍부합니다. 생과일 주스로 마시면 좋습니다.', 'orange.jpg']\n",
      "[3, '키위', 5000, '다이어트나 미용에 좋습니다.', 'kiwi.jpg']\n",
      "[4, '포도', 8000, '폴리페놀을 다량 함유하고 있어 항산화 작용을 합니다.', 'grape.jpg']\n"
     ]
    }
   ],
   "source": [
    "all_product()"
   ]
  },
  {
   "cell_type": "code",
   "execution_count": 37,
   "id": "0637e157-50ff-40d3-921a-cbc4c89bf819",
   "metadata": {},
   "outputs": [
    {
     "name": "stdin",
     "output_type": "stream",
     "text": [
      "input price :  2500\n",
      "input product_id :  1\n"
     ]
    },
    {
     "name": "stdout",
     "output_type": "stream",
     "text": [
      "[1, '레몬', 2500, '레몬에 포함된 구연산은 피로회복에 좋습니다.', 'lemon.jpg']\n",
      "[2, '오렌지', 5000, '비타민C가 풍부합니다. 생과일 주스로 마시면 좋습니다.', 'orange.jpg']\n",
      "[3, '키위', 5000, '다이어트나 미용에 좋습니다.', 'kiwi.jpg']\n",
      "[4, '포도', 8000, '폴리페놀을 다량 함유하고 있어 항산화 작용을 합니다.', 'grape.jpg']\n"
     ]
    }
   ],
   "source": [
    "price=int(input(\"input price : \"))\n",
    "product_id=str(input(\"input product_id : \"))\n",
    "update(price,product_id)\n",
    "all_product()"
   ]
  },
  {
   "cell_type": "code",
   "execution_count": 38,
   "id": "3cc9d5b6-0ee9-47e9-acfc-6752c385767c",
   "metadata": {},
   "outputs": [],
   "source": [
    "import pymysql"
   ]
  },
  {
   "cell_type": "code",
   "execution_count": 39,
   "id": "4b027c4e-4e82-478f-997c-afb2651ca961",
   "metadata": {},
   "outputs": [],
   "source": [
    "def insert_one_mysql(data):\n",
    "    conn=pymysql.connect(host='localhost',user='iwj',password='1234',\n",
    "                     db='py_mysql_db',charset='utf8')\n",
    "    cursor=conn.cursor()\n",
    "    sql=\"\"\"INSERT INTO books(title,pub,pages,author)\n",
    "           VALUES(%s,%s,%s,%s)\"\"\"\n",
    "    cursor.execute(sql,data)\n",
    "    conn.commit()\n",
    "    conn.close()"
   ]
  },
  {
   "cell_type": "code",
   "execution_count": 40,
   "id": "e2704d6a-7801-4eed-9cf8-1032ca1fe511",
   "metadata": {},
   "outputs": [],
   "source": [
    "data=('java','한빛',500,'홍길동')\n",
    "insert_one_mysql(data)"
   ]
  },
  {
   "cell_type": "code",
   "execution_count": 42,
   "id": "4e6e6ff4-7138-4abc-9799-20a680f8f05f",
   "metadata": {},
   "outputs": [],
   "source": [
    "def insert_many_mysql(datas):\n",
    "    conn=pymysql.connect(host='localhost',user='iwj',password='1234',\n",
    "                     db='py_mysql_db',charset='utf8')\n",
    "    cursor=conn.cursor()\n",
    "    sql=\"\"\"INSERT INTO books(title,pub,pages,author)\n",
    "           VALUES(%s,%s,%s,%s)\"\"\"\n",
    "    cursor.executemany(sql,datas)\n",
    "    conn.commit()\n",
    "    conn.close()"
   ]
  },
  {
   "cell_type": "code",
   "execution_count": 43,
   "id": "aa3d0e63-6ffc-421a-a589-0ac4c7eaf4a2",
   "metadata": {},
   "outputs": [],
   "source": [
    "datas=[('database','한빛',500,'홍길동'),('spring','길벗',600,'홍길동')]\n",
    "insert_many_mysql(datas)"
   ]
  },
  {
   "cell_type": "code",
   "execution_count": 45,
   "id": "c25ba5c3-e0ab-4c5a-bc0a-7dcf206c4f8a",
   "metadata": {},
   "outputs": [],
   "source": [
    "def select_mysql_all():\n",
    "    conn=pymysql.connect(host='localhost',user='iwj',password='1234',\n",
    "                     db='py_mysql_db',charset='utf8')\n",
    "    cursor=conn.cursor()\n",
    "    sql=\"SELECT * FROM books\"\n",
    "    cursor.execute(sql)\n",
    "    for book in cursor:\n",
    "        print(book)\n",
    "    conn.close()"
   ]
  },
  {
   "cell_type": "code",
   "execution_count": 62,
   "id": "295aeee5-4fdd-4924-9dbc-db97112709bb",
   "metadata": {},
   "outputs": [],
   "source": [
    "select_mysql_all()"
   ]
  },
  {
   "cell_type": "code",
   "execution_count": 55,
   "id": "3521dd15-f66c-42c4-9277-ebe23eebf1f0",
   "metadata": {},
   "outputs": [],
   "source": [
    "def update_mysql(data):\n",
    "    conn=pymysql.connect(host='localhost',user='iwj',password='1234',\n",
    "                     db='py_mysql_db',charset='utf8')\n",
    "    cursor=conn.cursor()\n",
    "    sql=\"UPDATE books SET title=%s,pub=%s,pages=%s,author=%s WHERE id=%s\"\n",
    "    cursor.execute(sql,data)\n",
    "    conn.commit()\n",
    "    conn.close()"
   ]
  },
  {
   "cell_type": "code",
   "execution_count": 56,
   "id": "9e5a6327-3cc7-4d63-851a-1156da29389d",
   "metadata": {},
   "outputs": [
    {
     "name": "stdout",
     "output_type": "stream",
     "text": [
      "(1, 'java2', '생능', 750, '박경미')\n",
      "(2, 'database', '한빛', 500, '홍길동')\n",
      "(3, 'spring', '길벗', 600, '홍길동')\n"
     ]
    }
   ],
   "source": [
    "data=('java2','생능',750,'박경미',1)\n",
    "update_mysql(data)\n",
    "select_mysql_all()"
   ]
  },
  {
   "cell_type": "code",
   "execution_count": 57,
   "id": "3069a486-4ec3-4d51-9020-0bb609f3847b",
   "metadata": {},
   "outputs": [],
   "source": [
    "def delete_mysql_book(data):\n",
    "    conn=pymysql.connect(host='localhost',user='iwj',password='1234',\n",
    "                     db='py_mysql_db',charset='utf8')\n",
    "    cursor=conn.cursor()\n",
    "    sql=\"DELETE FROM books WHERE id=%s\"\n",
    "    cursor.execute(sql,data)\n",
    "    conn.commit()\n",
    "    conn.close()"
   ]
  },
  {
   "cell_type": "code",
   "execution_count": 58,
   "id": "39992abf-04dd-4491-ae01-7c09e4dcc23a",
   "metadata": {},
   "outputs": [
    {
     "name": "stdout",
     "output_type": "stream",
     "text": [
      "(1, 'java2', '생능', 750, '박경미')\n",
      "(3, 'spring', '길벗', 600, '홍길동')\n"
     ]
    }
   ],
   "source": [
    "delete_mysql_book(2)\n",
    "select_mysql_all()"
   ]
  },
  {
   "cell_type": "code",
   "execution_count": 59,
   "id": "2be51aa0-2657-4ab0-af48-48e9e534ed5f",
   "metadata": {},
   "outputs": [],
   "source": [
    "def delete_mysql_books(data):\n",
    "    conn=pymysql.connect(host='localhost',user='iwj',password='1234',\n",
    "                     db='py_mysql_db',charset='utf8')\n",
    "    cursor=conn.cursor()\n",
    "    sql=\"DELETE FROM books WHERE id=%s\"\n",
    "    cursor.executemany(sql,data)\n",
    "    conn.commit()\n",
    "    conn.close()"
   ]
  },
  {
   "cell_type": "code",
   "execution_count": 61,
   "id": "b56b61c8-e402-4cc5-a0be-f1b1e119de50",
   "metadata": {},
   "outputs": [],
   "source": [
    "delete_mysql_books([1,3])\n",
    "select_mysql_all()"
   ]
  }
 ],
 "metadata": {
  "kernelspec": {
   "display_name": "Python 3",
   "language": "python",
   "name": "python3"
  },
  "language_info": {
   "codemirror_mode": {
    "name": "ipython",
    "version": 3
   },
   "file_extension": ".py",
   "mimetype": "text/x-python",
   "name": "python",
   "nbconvert_exporter": "python",
   "pygments_lexer": "ipython3",
   "version": "3.8.8"
  }
 },
 "nbformat": 4,
 "nbformat_minor": 5
}
