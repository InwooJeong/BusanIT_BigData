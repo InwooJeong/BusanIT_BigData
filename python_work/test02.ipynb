{
 "cells": [
  {
   "cell_type": "code",
   "execution_count": 2,
   "id": "37968b80-a587-4b9e-82f5-b1edc49a4f7f",
   "metadata": {},
   "outputs": [
    {
     "name": "stdout",
     "output_type": "stream",
     "text": [
      "10 20 30\n"
     ]
    }
   ],
   "source": [
    "a=10\n",
    "b=20\n",
    "c=a+b\n",
    "print(a,b,c)"
   ]
  },
  {
   "cell_type": "code",
   "execution_count": 9,
   "id": "be27d5a5-d8e7-49dd-bf95-fbaa54a91262",
   "metadata": {},
   "outputs": [
    {
     "name": "stdout",
     "output_type": "stream",
     "text": [
      "1, 10\n",
      "1 10\n"
     ]
    }
   ],
   "source": [
    "a=1\n",
    "b=10\n",
    "print(a, end = ', ')\n",
    "print(b)\n",
    "print(a,b)"
   ]
  },
  {
   "cell_type": "code",
   "execution_count": 12,
   "id": "e63e005d-d292-4151-9278-5bbe82ee9478",
   "metadata": {},
   "outputs": [
    {
     "name": "stdout",
     "output_type": "stream",
     "text": [
      "1.5 10.3 11.8\n"
     ]
    }
   ],
   "source": [
    "f1=1.5\n",
    "f2=10.3\n",
    "f3=f1+f2\n",
    "print(f1,f2,f3)"
   ]
  },
  {
   "cell_type": "code",
   "execution_count": 14,
   "id": "114476c0-9a24-4193-8bbd-fed2563b67c6",
   "metadata": {},
   "outputs": [
    {
     "name": "stdout",
     "output_type": "stream",
     "text": [
      "abc 가나다라\n"
     ]
    }
   ],
   "source": [
    "s1='abc'\n",
    "s2=\"가나다라\"\n",
    "print(s1, s2)"
   ]
  },
  {
   "cell_type": "code",
   "execution_count": 15,
   "id": "27db9cc4-e50b-4825-90b7-e6c1250641ad",
   "metadata": {},
   "outputs": [
    {
     "name": "stdout",
     "output_type": "stream",
     "text": [
      "True False\n"
     ]
    }
   ],
   "source": [
    "b1=True\n",
    "b2=False\n",
    "print(b1, b2)"
   ]
  },
  {
   "cell_type": "code",
   "execution_count": 22,
   "id": "3d8060d0-7d7b-4837-ad99-e9bbcfea9e8b",
   "metadata": {},
   "outputs": [
    {
     "name": "stdout",
     "output_type": "stream",
     "text": [
      "a+b: 14\n",
      "a-b: 6\n",
      "a*b: 40\n",
      "a/b: 2.5\n",
      "a%b: 2\n",
      "a//b: 2\n",
      "a**b: 10000\n"
     ]
    }
   ],
   "source": [
    "a=10\n",
    "b=4\n",
    "print('a+b:',a+b)\n",
    "print('a-b:',a-b)\n",
    "print('a*b:',a*b)\n",
    "print('a/b:',a/b)\n",
    "print('a%b:',a%b)\n",
    "print('a//b:',a//b)\n",
    "print('a**b:',a**b)"
   ]
  },
  {
   "cell_type": "code",
   "execution_count": 28,
   "id": "02c1d6bd-2bad-4824-a2f2-a97622a0c2c8",
   "metadata": {},
   "outputs": [
    {
     "name": "stdout",
     "output_type": "stream",
     "text": [
      "243\n",
      "243\n",
      "가다나, 가다나, 가다나, 가다나, 가다나, 가다나, 가다나, 가다나, 가다나, 가다나, \n"
     ]
    }
   ],
   "source": [
    "print(3*3*3*3*3)\n",
    "print(3**5)\n",
    "print(\"가다나, \"*10)"
   ]
  },
  {
   "cell_type": "code",
   "execution_count": 31,
   "id": "825cf34e-5856-40e7-bde8-31b56b0d2c77",
   "metadata": {},
   "outputs": [
    {
     "name": "stdout",
     "output_type": "stream",
     "text": [
      "2장\n"
     ]
    }
   ],
   "source": [
    "print(str(2)+'장')"
   ]
  },
  {
   "cell_type": "code",
   "execution_count": 35,
   "id": "bb336d38-b0ae-4455-9886-d9d5d7e889b4",
   "metadata": {},
   "outputs": [
    {
     "name": "stdout",
     "output_type": "stream",
     "text": [
      "2\n",
      "1\n"
     ]
    }
   ],
   "source": [
    "a=1\n",
    "a+=1\n",
    "print(a)\n",
    "a-=1\n",
    "print(a)"
   ]
  },
  {
   "cell_type": "code",
   "execution_count": 39,
   "id": "024784d8-53d1-4a1c-b07d-3a2d5209e19b",
   "metadata": {},
   "outputs": [
    {
     "name": "stdout",
     "output_type": "stream",
     "text": [
      "a>b: True\n",
      "a<b: False\n",
      "a>=b: True\n",
      "a<=b: False\n",
      "a==b: False\n",
      "a!=b: True\n"
     ]
    }
   ],
   "source": [
    "a=10\n",
    "b=5\n",
    "print('a>b:',a>b)\n",
    "print('a<b:',a<b)\n",
    "print('a>=b:',a>=b)\n",
    "print('a<=b:',a<=b)\n",
    "print('a==b:',a==b)\n",
    "print('a!=b:',a!=b)"
   ]
  },
  {
   "cell_type": "code",
   "execution_count": 48,
   "id": "ee9b3c93-1f5d-488b-a546-e57937f605ca",
   "metadata": {},
   "outputs": [
    {
     "name": "stdout",
     "output_type": "stream",
     "text": [
      "a&b: 2\n",
      "a|b: 6\n",
      "a^b: 4\n",
      "~a+1: -6\n",
      "a<<1: 12\n",
      "a>>1: 3\n"
     ]
    }
   ],
   "source": [
    "#비트 연산\n",
    "a=6 #110\n",
    "b=2 #010\n",
    "\n",
    "print('a&b:',a&b)\n",
    "print('a|b:',a|b)\n",
    "print('a^b:',a^b)\n",
    "print('~a+1:',~a+1)\n",
    "print('a<<1:',a<<1) #a*2**1\n",
    "print('a>>1:',a>>1) #a/2**1"
   ]
  },
  {
   "cell_type": "code",
   "execution_count": 58,
   "id": "358ef860-9513-4553-8bf3-dcc5c1b03fc1",
   "metadata": {},
   "outputs": [
    {
     "name": "stdout",
     "output_type": "stream",
     "text": [
      "a>b && c>b :  False\n",
      "a>b or c>b :  True\n",
      "not(a>b && c>b) :  True\n",
      "not(a>b or c>b) :  False\n"
     ]
    }
   ],
   "source": [
    "#논리 연산\n",
    "a=10\n",
    "b=5\n",
    "c=3\n",
    "\n",
    "print('a>b && c>b : ',a>b and c>b) #&&\n",
    "print('a>b or c>b : ',a>b or c>b) #||\n",
    "print('not(a>b && c>b) : ',not(a>b and c>b)) #!\n",
    "print('not(a>b or c>b) : ',not(a>b or c>b))"
   ]
  },
  {
   "cell_type": "code",
   "execution_count": 60,
   "id": "d967be94-4211-44d5-a275-acc7a96150c1",
   "metadata": {},
   "outputs": [
    {
     "name": "stdout",
     "output_type": "stream",
     "text": [
      "10 10.0 10\n"
     ]
    }
   ],
   "source": [
    "#형변환\n",
    "a=10\n",
    "b=float(a)\n",
    "c=int(b)\n",
    "print(a,b,c)"
   ]
  },
  {
   "cell_type": "code",
   "execution_count": 64,
   "id": "7e58a430-8f93-488e-bad3-c2b0b597a0e5",
   "metadata": {},
   "outputs": [
    {
     "name": "stdout",
     "output_type": "stream",
     "text": [
      "20.0\n",
      "20.0점\n"
     ]
    }
   ],
   "source": [
    "s='10.0'\n",
    "f1=float(s)\n",
    "print(f1+10)\n",
    "print(str(f1+10)+'점')"
   ]
  },
  {
   "cell_type": "code",
   "execution_count": 67,
   "id": "9f76f2d4-3a72-406c-904c-26db7d087b19",
   "metadata": {},
   "outputs": [
    {
     "name": "stdout",
     "output_type": "stream",
     "text": [
      "True\n",
      "True\n"
     ]
    }
   ],
   "source": [
    "print(1==True)\n",
    "print(0==False)"
   ]
  },
  {
   "cell_type": "code",
   "execution_count": 68,
   "id": "878aab9d-6a49-49f7-a656-f10a2fedeb2c",
   "metadata": {},
   "outputs": [
    {
     "name": "stdout",
     "output_type": "stream",
     "text": [
      "<class 'int'> <class 'float'> <class 'str'> <class 'bool'>\n"
     ]
    }
   ],
   "source": [
    "a=10\n",
    "b=10.0\n",
    "c='abc'\n",
    "d=True\n",
    "print(type(a),type(b),type(c),type(d))"
   ]
  },
  {
   "cell_type": "code",
   "execution_count": 87,
   "id": "e2549f49-dab0-426d-b03d-064ae0b0152a",
   "metadata": {},
   "outputs": [
    {
     "name": "stdout",
     "output_type": "stream",
     "text": [
      "이름은 홍길동이고, 나이는 20세 이며, 신장은 180.5cm입니다.\n",
      "이름은 홍길동이고, 나이는 20세 이며, 신장은 180.5cm입니다.\n"
     ]
    }
   ],
   "source": [
    "name=\"홍길동\"\n",
    "age=20\n",
    "height=180.5\n",
    "\n",
    "print('이름은',name+'이고, 나이는',str(age)+'세 이며, 신장은',str(height)+'cm입니다.')\n",
    "print('이름은 %s이고, 나이는 %d세 이며, 신장은 %.1fcm입니다.'%(name,age,height))"
   ]
  },
  {
   "cell_type": "code",
   "execution_count": 91,
   "id": "18655192-3ebd-47de-8419-f4752a2c7dad",
   "metadata": {},
   "outputs": [
    {
     "name": "stdout",
     "output_type": "stream",
     "text": [
      "24\n",
      "14\n"
     ]
    }
   ],
   "source": [
    "print(\"%o\"%age)\n",
    "print(\"%x\"%age)"
   ]
  },
  {
   "cell_type": "code",
   "execution_count": 99,
   "id": "8fcda645-2491-49ca-a7d7-ae89cb07d5fd",
   "metadata": {},
   "outputs": [
    {
     "name": "stdin",
     "output_type": "stream",
     "text": [
      "이름을 입력하세요. dd\n",
      "성적을 입력하세요. 20\n",
      "신장을 입력하세요. 170.5\n"
     ]
    },
    {
     "name": "stdout",
     "output_type": "stream",
     "text": [
      "dd 21 171.5\n"
     ]
    }
   ],
   "source": [
    "name=input('이름을 입력하세요.')\n",
    "score=int(input('성적을 입력하세요.')) #입력값은 무조건 문자열(str) 값을 리턴한다.\n",
    "height=float(input('신장을 입력하세요.'))\n",
    "print(name, score+1, height+1)"
   ]
  }
 ],
 "metadata": {
  "kernelspec": {
   "display_name": "Python 3",
   "language": "python",
   "name": "python3"
  },
  "language_info": {
   "codemirror_mode": {
    "name": "ipython",
    "version": 3
   },
   "file_extension": ".py",
   "mimetype": "text/x-python",
   "name": "python",
   "nbconvert_exporter": "python",
   "pygments_lexer": "ipython3",
   "version": "3.8.8"
  }
 },
 "nbformat": 4,
 "nbformat_minor": 5
}
