{
 "cells": [
  {
   "cell_type": "code",
   "execution_count": 1,
   "id": "81bdb563-8d2b-4283-bfbc-174dcf1185f7",
   "metadata": {},
   "outputs": [],
   "source": [
    "from bs4 import BeautifulSoup"
   ]
  },
  {
   "cell_type": "code",
   "execution_count": 2,
   "id": "bb873b8a-11d6-4b50-a346-32cd4b471140",
   "metadata": {},
   "outputs": [],
   "source": [
    "html_doc=\"\"\"\n",
    "<!DOCTYPE html>\n",
    "<html>\n",
    "    <head>\n",
    "        <meta charset=\"utf-8\">\n",
    "        <title>Test BeautifulSoup</title>\n",
    "    </head>\n",
    "    <body>\n",
    "        <h1>테스트</h1>\n",
    "    </body>\n",
    "</html>\n",
    "\"\"\""
   ]
  },
  {
   "cell_type": "code",
   "execution_count": 6,
   "id": "1c7b222b-3b1e-4453-9e81-b285940826e8",
   "metadata": {
    "collapsed": true,
    "jupyter": {
     "outputs_hidden": true
    },
    "tags": []
   },
   "outputs": [
    {
     "name": "stdout",
     "output_type": "stream",
     "text": [
      "<class 'bs4.BeautifulSoup'>\n",
      "<!DOCTYPE html>\n",
      "<html>\n",
      " <head>\n",
      "  <meta charset=\"utf-8\"/>\n",
      "  <title>\n",
      "   Test BeautifulSoup\n",
      "  </title>\n",
      " </head>\n",
      " <body>\n",
      "  <h1>\n",
      "   테스트\n",
      "  </h1>\n",
      " </body>\n",
      "</html>\n",
      "\n",
      "********************\n",
      "<!DOCTYPE html>\n",
      "<html>\n",
      "<head>\n",
      "<meta charset=\"utf-8\"/>\n",
      "<title>Test BeautifulSoup</title>\n",
      "</head>\n",
      "<body>\n",
      "<h1>테스트</h1>\n",
      "</body>\n",
      "</html>\n",
      "\n",
      "********************\n",
      "<?xml version=\"1.0\" encoding=\"utf-8\"?>\n",
      "<!DOCTYPE html>\n",
      "<html>\n",
      "<head>\n",
      "<meta charset=\"utf-8\">\n",
      "<title>Test BeautifulSoup</title>\n",
      "</meta>\n",
      "<body>\n",
      "<h1>테스트</h1>\n",
      "</body>\n",
      "</head></html>\n",
      "********************\n",
      "<!DOCTYPE html>\n",
      "<html><head>\n",
      "        <meta charset=\"utf-8\"/>\n",
      "        <title>Test BeautifulSoup</title>\n",
      "    </head>\n",
      "    <body>\n",
      "        <h1>테스트</h1>\n",
      "    \n",
      "\n",
      "</body></html>\n"
     ]
    }
   ],
   "source": [
    "bs=BeautifulSoup(html_doc,'html.parser')\n",
    "print(type(bs))\n",
    "print(bs.prettify())\n",
    "print(\"*\"*20)\n",
    "bs1=BeautifulSoup(html_doc,'lxml')\n",
    "print(bs1)\n",
    "print(\"*\"*20)\n",
    "bs2=BeautifulSoup(html_doc,'lxml-xml')\n",
    "print(bs2)\n",
    "print(\"*\"*20)\n",
    "bs3=BeautifulSoup(html_doc,'html5lib')\n",
    "print(bs3)"
   ]
  },
  {
   "cell_type": "code",
   "execution_count": 14,
   "id": "32195414-0546-45f6-b26f-39fd5d09f582",
   "metadata": {},
   "outputs": [
    {
     "name": "stdout",
     "output_type": "stream",
     "text": [
      "<class 'bs4.element.Tag'> : <title>Test BeautifulSoup</title>\n",
      "<class 'str'> : title\n",
      "<class 'bs4.element.NavigableString'> : Test BeautifulSoup\n",
      "********************\n",
      "<class 'str'> : center\n",
      "<class 'str'> : http://unico2013.dothome.co.kr/image/flower.jpg\n",
      "<class 'dict'> : {'src': 'http://unico2013.dothome.co.kr/image/flower.jpg', 'width': '300'}\n"
     ]
    }
   ],
   "source": [
    "html_doc='''<!DOCTYPE html>\n",
    "<html>\n",
    "    <head>\n",
    "        <meta charset='utf-8'>\n",
    "        <title>Test BeautifulSoup</title>\n",
    "    </head>\n",
    "    <body>\n",
    "        <p align=\"center\">P태그의 컨텐트</p>\n",
    "        <img src=\"http://unico2013.dothome.co.kr/image/flower.jpg\" width=\"300\">\n",
    "        <ul>\n",
    "            <li>테스트1<strong>강조</strong></li>\n",
    "            <li>테스트2</li>\n",
    "            <li>테스트3</li>\n",
    "        </ul>\n",
    "    </body>\n",
    "</html>'''\n",
    "bs=BeautifulSoup(html_doc,'html.parser')\n",
    "print(type(bs.title),':',bs.title)\n",
    "print(type(bs.title.name),':',bs.title.name)\n",
    "print(type(bs.title.string),':',bs.title.string)\n",
    "print('*'*20)\n",
    "print(type(bs.p['align']),':',bs.p['align'])\n",
    "print(type(bs.img['src']),':',bs.img['src'])\n",
    "print(type(bs.img.attrs),':',bs.img.attrs)"
   ]
  }
 ],
 "metadata": {
  "kernelspec": {
   "display_name": "Python 3",
   "language": "python",
   "name": "python3"
  },
  "language_info": {
   "codemirror_mode": {
    "name": "ipython",
    "version": 3
   },
   "file_extension": ".py",
   "mimetype": "text/x-python",
   "name": "python",
   "nbconvert_exporter": "python",
   "pygments_lexer": "ipython3",
   "version": "3.8.8"
  }
 },
 "nbformat": 4,
 "nbformat_minor": 5
}
