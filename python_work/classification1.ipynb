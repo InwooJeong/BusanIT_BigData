{
 "cells": [
  {
   "cell_type": "code",
   "execution_count": 4,
   "id": "2bef3e8b-a285-4809-8de8-25f15433eb25",
   "metadata": {},
   "outputs": [
    {
     "name": "stdout",
     "output_type": "stream",
     "text": [
      "x_data.shape= (10, 1) , t_data.shape= (10, 1)\n"
     ]
    }
   ],
   "source": [
    "import numpy as np\n",
    "\n",
    "x_data=np.array([2,4,6,8,10,12,14,16,18,20]).reshape(10,1)\n",
    "t_data=np.array([0,0,0,0,0,0,1,1,1,1]).reshape(10,1)\n",
    "\n",
    "print('x_data.shape=',x_data.shape,', t_data.shape=',t_data.shape)"
   ]
  },
  {
   "cell_type": "code",
   "execution_count": 5,
   "id": "0a88e5c3-377a-40d5-8945-0077d0ad9ed9",
   "metadata": {},
   "outputs": [
    {
     "name": "stdout",
     "output_type": "stream",
     "text": [
      "W= [[0.55276552]] ,W.shape= (1, 1) ,b= [0.2973738] ,b.shape= (1,)\n"
     ]
    }
   ],
   "source": [
    "W=np.random.rand(1,1)\n",
    "b=np.random.rand(1)\n",
    "print('W=',W,',W.shape=',W.shape,',b=',b,',b.shape=',b.shape)"
   ]
  },
  {
   "cell_type": "code",
   "execution_count": 19,
   "id": "b80ce065-cb72-4930-860e-abb30f9efa6a",
   "metadata": {},
   "outputs": [],
   "source": [
    "#최종출력은 y=sigmoind(Wx+b)이며, 손실함수는 cross=entropy로 나타냄\n",
    "\n",
    "def sigmoid(x):\n",
    "    return 1/(1+np.exp(-x))"
   ]
  },
  {
   "cell_type": "code",
   "execution_count": 11,
   "id": "315eedf0-819b-44c5-a453-edf234eb5624",
   "metadata": {},
   "outputs": [],
   "source": [
    "def loss_func(x,t):\n",
    "    \n",
    "    delta=1e-7 #log 무한대 발산 방지\n",
    "    \n",
    "    z=np.dot(x,W)+b #y=Wx+b\n",
    "    y=sigmoid(z)\n",
    "    \n",
    "    return -np.sum(t*np.log(y+delta)+(1-t)*np.log((1-y)+delta))"
   ]
  },
  {
   "cell_type": "code",
   "execution_count": 12,
   "id": "e7551dbd-df86-47d3-9417-85fcf1ca0159",
   "metadata": {},
   "outputs": [],
   "source": [
    "def numerical_derivative(f,x):\n",
    "    delta_x=1e-4\n",
    "    grad=np.zeros_like(x)\n",
    "    #print(\"debug1. initial input variable =\",x)\n",
    "    #print(\"debug2. initial grad =\",grad)\n",
    "    #print(\"==============================================\")\n",
    "    \n",
    "    it=np.nditer(x,flags=['multi_index'],op_flags=['readwrite'])\n",
    "    \n",
    "    while not it.finished:\n",
    "        idx=it.multi_index\n",
    "        #print(\"debug3. idx= \", idx, \", x[idx] =\",x[idx])\n",
    "        \n",
    "        tmp_val = x[idx]\n",
    "        x[idx] = float(tmp_val) + delta_x\n",
    "        fx1 = f(x) # f(x+delta_x)\n",
    "        \n",
    "        x[idx] = tmp_val - delta_x\n",
    "        fx2 = f(x) # f(x-delta_x)\n",
    "        grad[idx] = (fx1 - fx2) / (2*delta_x)\n",
    "        \n",
    "        #print(\"debug4. grad[idx] =\",grad[idx])\n",
    "        #print(\"debug5. grad =\",grad)\n",
    "        #print(\"==============================================\")\n",
    "        \n",
    "        x[idx] = tmp_val\n",
    "        it.iternext() \n",
    "        \n",
    "    return grad"
   ]
  },
  {
   "cell_type": "code",
   "execution_count": 15,
   "id": "1fa99d35-7d36-4fee-9c5b-3d0f81a37609",
   "metadata": {},
   "outputs": [],
   "source": [
    "def error_val(x,t):\n",
    "    delta=1e-7 #log 무한대 발산 방지\n",
    "    \n",
    "    z=np.dot(x,W)+b #y=Wx+b\n",
    "    y=sigmoid(z)\n",
    "    \n",
    "    #cross-entropy\n",
    "    return -np.sum(t*np.log(y+delta)+(1-t)*np.log((1-y)+delta))"
   ]
  },
  {
   "cell_type": "code",
   "execution_count": 22,
   "id": "48c0f6fc-22ea-4625-b9cf-7de45cadfad7",
   "metadata": {},
   "outputs": [],
   "source": [
    "#학습을 마친 후, 임의 데이터에 대한 미래 값 예측 함수\n",
    "#입력변수 x:numpy type\n",
    "def predict(x):\n",
    "    z=np.dot(x,W)+b\n",
    "    y=sigmoid(z)\n",
    "    \n",
    "    if y>0.5:\n",
    "        result=1 #True\n",
    "    else:\n",
    "        result=0 #False\n",
    "        \n",
    "    return y, result"
   ]
  },
  {
   "cell_type": "code",
   "execution_count": 28,
   "id": "7f31bdd5-3a98-494b-b09b-749b5188422d",
   "metadata": {},
   "outputs": [
    {
     "name": "stdout",
     "output_type": "stream",
     "text": [
      "Initial error value= 0.14632114648923017 Initial W= [[2.58761491]] \n",
      " ,b= [-33.55563292]\n",
      "step= 0 , error value= 0.14631994454258915 , W= [[2.58762332]] , b= [-33.5557423]\n",
      "step= 400 , error value= 0.14584073055118335 , W= [[2.59098142]] , b= [-33.59942378]\n",
      "step= 800 , error value= 0.14536461775861417 , W= [[2.59432863]] , b= [-33.64296359]\n",
      "step= 1200 , error value= 0.14489157601125852 , W= [[2.59766504]] , b= [-33.68636268]\n",
      "step= 1600 , error value= 0.1444215755499507 , W= [[2.6009907]] , b= [-33.72962195]\n",
      "step= 2000 , error value= 0.14395458700344602 , W= [[2.6043057]] , b= [-33.77274231]\n",
      "step= 2400 , error value= 0.14349058138201465 , W= [[2.60761009]] , b= [-33.81572465]\n",
      "step= 2800 , error value= 0.14302953007117078 , W= [[2.61090395]] , b= [-33.85856985]\n",
      "step= 3200 , error value= 0.14257140482552655 , W= [[2.61418734]] , b= [-33.9012788]\n",
      "step= 3600 , error value= 0.1421161777627606 , W= [[2.61746033]] , b= [-33.94385237]\n",
      "step= 4000 , error value= 0.1416638213577129 , W= [[2.62072299]] , b= [-33.98629141]\n",
      "step= 4400 , error value= 0.14121430843659896 , W= [[2.62397538]] , b= [-34.02859679]\n",
      "step= 4800 , error value= 0.1407676121713263 , W= [[2.62721756]] , b= [-34.07076933]\n",
      "step= 5200 , error value= 0.14032370607394684 , W= [[2.63044961]] , b= [-34.11280988]\n",
      "step= 5600 , error value= 0.13988256399117907 , W= [[2.63367158]] , b= [-34.15471927]\n",
      "step= 6000 , error value= 0.13944416009908478 , W= [[2.63688353]] , b= [-34.19649832]\n",
      "step= 6400 , error value= 0.13900846889780227 , W= [[2.64008554]] , b= [-34.23814783]\n",
      "step= 6800 , error value= 0.13857546520642905 , W= [[2.64327765]] , b= [-34.27966862]\n",
      "step= 7200 , error value= 0.13814512415795174 , W= [[2.64645994]] , b= [-34.32106147]\n",
      "step= 7600 , error value= 0.13771742119430924 , W= [[2.64963246]] , b= [-34.36232719]\n",
      "step= 8000 , error value= 0.13729233206154942 , W= [[2.65279527]] , b= [-34.40346655]\n",
      "step= 8400 , error value= 0.13686983280506945 , W= [[2.65594844]] , b= [-34.44448032]\n",
      "step= 8800 , error value= 0.1364498997649226 , W= [[2.65909202]] , b= [-34.48536928]\n",
      "step= 9200 , error value= 0.13603250957128737 , W= [[2.66222606]] , b= [-34.52613418]\n",
      "step= 9600 , error value= 0.13561763913991862 , W= [[2.66535064]] , b= [-34.56677578]\n",
      "step= 10000 , error value= 0.13520526566777338 , W= [[2.66846579]] , b= [-34.60729483]\n",
      "step= 10400 , error value= 0.13479536662867264 , W= [[2.67157159]] , b= [-34.64769205]\n",
      "step= 10800 , error value= 0.1343879197690588 , W= [[2.67466809]] , b= [-34.6879682]\n",
      "step= 11200 , error value= 0.1339829031038411 , W= [[2.67775534]] , b= [-34.72812398]\n",
      "step= 11600 , error value= 0.13358029491228032 , W= [[2.6808334]] , b= [-34.76816012]\n",
      "step= 12000 , error value= 0.1331800737339985 , W= [[2.68390232]] , b= [-34.80807734]\n",
      "step= 12400 , error value= 0.1327822183650234 , W= [[2.68696216]] , b= [-34.84787634]\n",
      "step= 12800 , error value= 0.13238670785394407 , W= [[2.69001297]] , b= [-34.88755782]\n",
      "step= 13200 , error value= 0.13199352149808702 , W= [[2.6930548]] , b= [-34.92712247]\n",
      "step= 13600 , error value= 0.13160263883980772 , W= [[2.69608771]] , b= [-34.96657098]\n",
      "step= 14000 , error value= 0.13121403966283046 , W= [[2.69911175]] , b= [-35.00590403]\n",
      "step= 14400 , error value= 0.13082770398864452 , W= [[2.70212697]] , b= [-35.0451223]\n",
      "step= 14800 , error value= 0.13044361207299054 , W= [[2.70513343]] , b= [-35.08422646]\n",
      "step= 15200 , error value= 0.13006174440238819 , W= [[2.70813117]] , b= [-35.12321717]\n",
      "step= 15600 , error value= 0.12968208169072998 , W= [[2.71112024]] , b= [-35.16209509]\n",
      "step= 16000 , error value= 0.129304604875948 , W= [[2.71410069]] , b= [-35.20086086]\n",
      "step= 16400 , error value= 0.12892929511673326 , W= [[2.71707258]] , b= [-35.23951514]\n",
      "step= 16800 , error value= 0.1285561337893071 , W= [[2.72003596]] , b= [-35.27805856]\n",
      "step= 17200 , error value= 0.1281851024842559 , W= [[2.72299086]] , b= [-35.31649177]\n",
      "step= 17600 , error value= 0.1278161830034269 , W= [[2.72593734]] , b= [-35.35481538]\n",
      "step= 18000 , error value= 0.12744935735685414 , W= [[2.72887545]] , b= [-35.39303003]\n",
      "step= 18400 , error value= 0.1270846077597851 , W= [[2.73180524]] , b= [-35.43113633]\n",
      "step= 18800 , error value= 0.1267219166297039 , W= [[2.73472675]] , b= [-35.46913489]\n",
      "step= 19200 , error value= 0.12636126658345273 , W= [[2.73764002]] , b= [-35.50702633]\n",
      "step= 19600 , error value= 0.12600264043437348 , W= [[2.74054512]] , b= [-35.54481124]\n",
      "step= 20000 , error value= 0.12564602118950152 , W= [[2.74344207]] , b= [-35.58249022]\n"
     ]
    }
   ],
   "source": [
    "learning_rate=1e-2 #발산하는 경우 1e-3 ~ 1e-6 등으로 바꿔서 실행\n",
    "\n",
    "f=lambda x : loss_func(x_data,t_data) #f(x)=loss_funcs(x_data,t_data)\n",
    "\n",
    "print('Initial error value=',error_val(x_data,t_data),'Initial W=',W,'\\n',',b=',b)\n",
    "\n",
    "for step in range(20001):\n",
    "    W-=learning_rate*numerical_derivative(f,W)\n",
    "    b-=learning_rate*numerical_derivative(f,b)\n",
    "    \n",
    "    if(step%400==0):\n",
    "        print('step=',step,', error value=',error_val(x_data,t_data),', W=',W,', b=',b)"
   ]
  },
  {
   "cell_type": "code",
   "execution_count": 32,
   "id": "cdf261f7-9075-4786-af02-1549665b6008",
   "metadata": {},
   "outputs": [
    {
     "name": "stdout",
     "output_type": "stream",
     "text": [
      "[[0.52055259]] 1\n"
     ]
    }
   ],
   "source": [
    "(real_val,logical_val)=predict(13)\n",
    "print(real_val,logical_val)"
   ]
  },
  {
   "cell_type": "code",
   "execution_count": 26,
   "id": "cad3ac26-6df6-4dcc-87a8-0a4c0701d01e",
   "metadata": {},
   "outputs": [
    {
     "name": "stdout",
     "output_type": "stream",
     "text": [
      "[[0.99131363]] 1\n"
     ]
    }
   ],
   "source": [
    "(real_val,logical_val)=predict(17)\n",
    "print(real_val,logical_val)"
   ]
  }
 ],
 "metadata": {
  "kernelspec": {
   "display_name": "Python 3",
   "language": "python",
   "name": "python3"
  },
  "language_info": {
   "codemirror_mode": {
    "name": "ipython",
    "version": 3
   },
   "file_extension": ".py",
   "mimetype": "text/x-python",
   "name": "python",
   "nbconvert_exporter": "python",
   "pygments_lexer": "ipython3",
   "version": "3.8.8"
  }
 },
 "nbformat": 4,
 "nbformat_minor": 5
}
