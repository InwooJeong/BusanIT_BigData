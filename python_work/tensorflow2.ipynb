{
 "cells": [
  {
   "cell_type": "code",
   "execution_count": 1,
   "id": "cf1f38d4-67d8-4dfe-bff4-91f6db0b7cd7",
   "metadata": {},
   "outputs": [
    {
     "name": "stderr",
     "output_type": "stream",
     "text": [
      "C:\\ProgramData\\Anaconda3\\lib\\site-packages\\keras\\optimizer_v2\\gradient_descent.py:102: UserWarning: The `lr` argument is deprecated, use `learning_rate` instead.\n",
      "  super(SGD, self).__init__(name, **kwargs)\n"
     ]
    }
   ],
   "source": [
    "import numpy as np\n",
    "import tensorflow as tf\n",
    "\n",
    "x_train=[1,2,3,4]\n",
    "y_train=[1,2,3,4]\n",
    "\n",
    "tf.model=tf.keras.Sequential()\n",
    "#units==output shape, input_dim==input shape\n",
    "tf.model.add(tf.keras.layers.Dense(units=1,input_dim=1))\n",
    "\n",
    "sgd=tf.keras.optimizers.SGD(lr=0.1) #SGD==standard gradient descendent, lr==learning rate\n",
    "tf.model.compile(loss='mse',optimizer=sgd) #mse==mean_squared_error, 1/m*sig(y'-y)^2"
   ]
  }
 ],
 "metadata": {
  "kernelspec": {
   "display_name": "Python 3",
   "language": "python",
   "name": "python3"
  },
  "language_info": {
   "codemirror_mode": {
    "name": "ipython",
    "version": 3
   },
   "file_extension": ".py",
   "mimetype": "text/x-python",
   "name": "python",
   "nbconvert_exporter": "python",
   "pygments_lexer": "ipython3",
   "version": "3.8.8"
  }
 },
 "nbformat": 4,
 "nbformat_minor": 5
}
