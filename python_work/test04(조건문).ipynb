{
 "cells": [
  {
   "cell_type": "code",
   "execution_count": 2,
   "id": "bfae34a0-d307-4e11-ab6f-07119b2125bd",
   "metadata": {},
   "outputs": [
    {
     "name": "stdout",
     "output_type": "stream",
     "text": [
      "end\n"
     ]
    }
   ],
   "source": [
    "#단순 if문\n",
    "score=60\n",
    "\n",
    "if score>70:\n",
    "    print(\"합격\")\n",
    "    \n",
    "print(\"end\")"
   ]
  },
  {
   "cell_type": "code",
   "execution_count": 6,
   "id": "ca38c885-9a70-4d8a-bb74-b1e6d9434bd4",
   "metadata": {},
   "outputs": [
    {
     "name": "stdout",
     "output_type": "stream",
     "text": [
      "합격\n",
      "축하합니다.\n",
      "end\n"
     ]
    }
   ],
   "source": [
    "#if-else문\n",
    "score=80\n",
    "\n",
    "if score>70:\n",
    "    print(\"합격\")\n",
    "    print(\"축하합니다.\")\n",
    "else:\n",
    "    print(\"불합격\")\n",
    "    print(\"다음 기회에 다시 도전하세요.\")\n",
    "    \n",
    "print(\"end\")"
   ]
  }
 ],
 "metadata": {
  "kernelspec": {
   "display_name": "Python 3",
   "language": "python",
   "name": "python3"
  },
  "language_info": {
   "codemirror_mode": {
    "name": "ipython",
    "version": 3
   },
   "file_extension": ".py",
   "mimetype": "text/x-python",
   "name": "python",
   "nbconvert_exporter": "python",
   "pygments_lexer": "ipython3",
   "version": "3.8.8"
  }
 },
 "nbformat": 4,
 "nbformat_minor": 5
}
