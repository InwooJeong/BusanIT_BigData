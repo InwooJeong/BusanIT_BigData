{
 "cells": [
  {
   "cell_type": "code",
   "execution_count": 1,
   "id": "cf8fa1bc-fd76-47ad-b04a-105962e15f66",
   "metadata": {},
   "outputs": [],
   "source": [
    "from pymongo import MongoClient"
   ]
  },
  {
   "cell_type": "code",
   "execution_count": 2,
   "id": "ab2cda84-cfbd-46ec-b5cf-ef9cbb2b425f",
   "metadata": {},
   "outputs": [],
   "source": [
    "client=MongoClient('localhost',27017)"
   ]
  },
  {
   "cell_type": "code",
   "execution_count": 3,
   "id": "d7dde36b-11e0-4613-a7a8-a8def52bd62d",
   "metadata": {},
   "outputs": [],
   "source": [
    "db=client['test']"
   ]
  },
  {
   "cell_type": "code",
   "execution_count": 13,
   "id": "049bfec0-d38a-42f0-b154-15bd5bc4f53b",
   "metadata": {},
   "outputs": [],
   "source": [
    "emp1=db.emp1 #db['emp1']"
   ]
  },
  {
   "cell_type": "code",
   "execution_count": 12,
   "id": "dc2b55d2-ac85-4dc3-86d9-482ef1e13c2b",
   "metadata": {},
   "outputs": [],
   "source": [
    "data={'eno':1, 'ename':'kim', 'dept':'영업', 'sal':1000}"
   ]
  },
  {
   "cell_type": "code",
   "execution_count": 16,
   "id": "6a991b16-42ef-4cc9-aa36-3f0d63a7d361",
   "metadata": {},
   "outputs": [],
   "source": [
    "data_list=[\n",
    "    {'eno':2, 'ename':'song', 'dept':'영업', 'sal':1000},\n",
    "    {'eno':3, 'ename':'lee', 'dept':'기획', 'sal':1000},\n",
    "    {'eno':4, 'ename':'park', 'dept':'홍보', 'sal':1000}\n",
    "]"
   ]
  },
  {
   "cell_type": "code",
   "execution_count": 14,
   "id": "75f0044e-4390-4b40-b032-f1d3c3cc2b0b",
   "metadata": {},
   "outputs": [
    {
     "data": {
      "text/plain": [
       "<pymongo.results.InsertOneResult at 0x1d0efb2bf00>"
      ]
     },
     "execution_count": 14,
     "metadata": {},
     "output_type": "execute_result"
    }
   ],
   "source": [
    "emp1.insert_one(data)"
   ]
  },
  {
   "cell_type": "code",
   "execution_count": 17,
   "id": "6877aa9b-0238-436c-955e-3b5fc46e57a8",
   "metadata": {},
   "outputs": [
    {
     "data": {
      "text/plain": [
       "<pymongo.results.InsertManyResult at 0x1d0ef5fb1c0>"
      ]
     },
     "execution_count": 17,
     "metadata": {},
     "output_type": "execute_result"
    }
   ],
   "source": [
    "emp1.insert_many(data_list)"
   ]
  },
  {
   "cell_type": "code",
   "execution_count": 18,
   "id": "7d1f73cc-37f2-4a65-9bf2-e65a8b7e0028",
   "metadata": {},
   "outputs": [
    {
     "name": "stdout",
     "output_type": "stream",
     "text": [
      "{'_id': ObjectId('61a6ce84ac29017b0c0ad00b'), 'eno': 1, 'ename': 'kim', 'dept': '영업', 'sal': 1000}\n"
     ]
    }
   ],
   "source": [
    "doc=emp1.find_one()\n",
    "print(doc)"
   ]
  },
  {
   "cell_type": "code",
   "execution_count": 25,
   "id": "90038cf4-6105-4668-baaa-6cb4c95c3c5b",
   "metadata": {},
   "outputs": [
    {
     "name": "stdout",
     "output_type": "stream",
     "text": [
      "{'_id': ObjectId('61a6d0caac29017b0c0ad00c'), 'eno': 2, 'ename': 'song', 'dept': '영업', 'sal': 3000}\n",
      "{'_id': ObjectId('61a6d0caac29017b0c0ad00d'), 'eno': 3, 'ename': 'lee', 'dept': '기획', 'sal': 1000}\n",
      "{'_id': ObjectId('61a6d0caac29017b0c0ad00e'), 'eno': 4, 'ename': 'park', 'dept': '홍보', 'sal': 1000}\n"
     ]
    }
   ],
   "source": [
    "docs=emp1.find()\n",
    "#print(docs)\n",
    "\n",
    "for i in docs:\n",
    "    print(i)"
   ]
  },
  {
   "cell_type": "code",
   "execution_count": 20,
   "id": "5d811044-2f5f-4d00-8071-dc652d4d82f5",
   "metadata": {},
   "outputs": [
    {
     "data": {
      "text/plain": [
       "<pymongo.results.UpdateResult at 0x1d0efbc6880>"
      ]
     },
     "execution_count": 20,
     "metadata": {},
     "output_type": "execute_result"
    }
   ],
   "source": [
    "emp1.update_one({'eno':1},{'$set':{'sal':2000}})"
   ]
  },
  {
   "cell_type": "code",
   "execution_count": 22,
   "id": "17f91133-e458-4054-a737-ddcb2d3a7b81",
   "metadata": {},
   "outputs": [
    {
     "data": {
      "text/plain": [
       "<pymongo.results.UpdateResult at 0x1d0ef55ee40>"
      ]
     },
     "execution_count": 22,
     "metadata": {},
     "output_type": "execute_result"
    }
   ],
   "source": [
    "emp1.update_many({'dept':'영업'},{'$set':{'sal':3000}})"
   ]
  },
  {
   "cell_type": "code",
   "execution_count": 24,
   "id": "38111b60-71b9-42b4-90f1-b9462049ce58",
   "metadata": {},
   "outputs": [
    {
     "data": {
      "text/plain": [
       "<pymongo.results.DeleteResult at 0x1d0efbbd600>"
      ]
     },
     "execution_count": 24,
     "metadata": {},
     "output_type": "execute_result"
    }
   ],
   "source": [
    "emp1.delete_one({'eno':1})"
   ]
  }
 ],
 "metadata": {
  "kernelspec": {
   "display_name": "Python 3",
   "language": "python",
   "name": "python3"
  },
  "language_info": {
   "codemirror_mode": {
    "name": "ipython",
    "version": 3
   },
   "file_extension": ".py",
   "mimetype": "text/x-python",
   "name": "python",
   "nbconvert_exporter": "python",
   "pygments_lexer": "ipython3",
   "version": "3.8.8"
  }
 },
 "nbformat": 4,
 "nbformat_minor": 5
}
