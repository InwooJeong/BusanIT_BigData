{
 "cells": [
  {
   "cell_type": "code",
   "execution_count": 27,
   "id": "636c650e-56e3-485b-829e-a31396dd343b",
   "metadata": {},
   "outputs": [],
   "source": [
    "import numpy as np\n",
    "\n",
    "def sigmoid(x):\n",
    "    return 1/(1+np.exp(-x))\n",
    "\n",
    "def numerical_derivative(f,x):\n",
    "    delta_x=1e-4\n",
    "    grad=np.zeros_like(x)\n",
    "    #print(\"debug1. initial input variable =\",x)\n",
    "    #print(\"debug2. initial grad =\",grad)\n",
    "    #print(\"==============================================\")\n",
    "    \n",
    "    it=np.nditer(x,flags=['multi_index'],op_flags=['readwrite'])\n",
    "    \n",
    "    while not it.finished:\n",
    "        idx=it.multi_index\n",
    "        #print(\"debug3. idx= \", idx, \", x[idx] =\",x[idx])\n",
    "        \n",
    "        tmp_val = x[idx]\n",
    "        x[idx] = float(tmp_val) + delta_x\n",
    "        fx1 = f(x) # f(x+delta_x)\n",
    "        \n",
    "        x[idx] = tmp_val - delta_x\n",
    "        fx2 = f(x) # f(x-delta_x)\n",
    "        grad[idx] = (fx1 - fx2) / (2*delta_x)\n",
    "        \n",
    "        #print(\"debug4. grad[idx] =\",grad[idx])\n",
    "        #print(\"debug5. grad =\",grad)\n",
    "        #print(\"==============================================\")\n",
    "        \n",
    "        x[idx] = tmp_val\n",
    "        it.iternext() \n",
    "        \n",
    "    return grad"
   ]
  },
  {
   "cell_type": "code",
   "execution_count": 28,
   "id": "23c37afd-dc70-4508-8f78-dba8078632ed",
   "metadata": {},
   "outputs": [],
   "source": [
    "#LogicGate Class\n",
    "\n",
    "class LogicGate:\n",
    "    \n",
    "    def __init__(self,gate_name,xdata,tdata): #xdata,tdata => numpy.array(...)\n",
    "        \n",
    "        self.name=gate_name\n",
    "        \n",
    "        #입력 데이터, 정답 데이터 초기화\n",
    "        self.__xdata=xdata.reshape(4,2)\n",
    "        self.__tdata=tdata.reshape(4,1)\n",
    "        \n",
    "        #가중치 W, 바이어스 b 초기화\n",
    "        self.__W=np.random.rand(2,1) #weight, 2X1 matrix\n",
    "        self.__b=np.random.rand(1)\n",
    "        \n",
    "        #학습률 learning_rate 초기화\n",
    "        self.__learning_rate=1e-2\n",
    "        \n",
    "    def predict(self,input_data):\n",
    "        \n",
    "        z=np.dot(input_data,self.__W)+self.__b #y=Wx+b\n",
    "        y=sigmoid(z)\n",
    "    \n",
    "        if y>0.5:\n",
    "            result=1 #True\n",
    "        else:\n",
    "            result=0 #False\n",
    "        \n",
    "        return y, result\n",
    "    \n",
    "    #손실함수\n",
    "    def __loss_func(self):\n",
    "        \n",
    "        delta=1e-7 #log 무한대 발산 방지\n",
    "    \n",
    "        z=np.dot(self.__xdata,self.__W)+self.__b #y=Wx+b\n",
    "        y=sigmoid(z)\n",
    "    \n",
    "        return -np.sum(self.__tdata*np.log(y+delta)+(1-self.__tdata)*np.log((1-y)+delta))\n",
    "    \n",
    "    def error_val(self):\n",
    "        \n",
    "        delta=1e-7 #log 무한대 발산 방지\n",
    "    \n",
    "        z=np.dot(self.__xdata,self.__W)+self.__b #y=Wx+b\n",
    "        y=sigmoid(z)\n",
    "    \n",
    "        #cross-entropy\n",
    "        return -np.sum(self.__tdata*np.log(y+delta)+(1-self.__tdata)*np.log((1-y)+delta))\n",
    "    \n",
    "    def train(self):\n",
    "        \n",
    "        f=lambda x : self.__loss_func()\n",
    "        \n",
    "        print('Initial error value=',self.error_val())\n",
    "        \n",
    "        for step in range(8001):\n",
    "            self.__W-=self.__learning_rate*numerical_derivative(f,self.__W)\n",
    "            self.__b-=self.__learning_rate*numerical_derivative(f,self.__b)\n",
    "    \n",
    "            if(step%400==0):\n",
    "                print('step=',step,', error value=',self.error_val())"
   ]
  },
  {
   "cell_type": "code",
   "execution_count": 29,
   "id": "fd5bd6ff-9309-4a6b-b2ea-0ad79de9a15a",
   "metadata": {},
   "outputs": [
    {
     "name": "stdout",
     "output_type": "stream",
     "text": [
      "Initial error value= 4.333515254492174\n",
      "step= 0 , error value= 4.2814496177153165\n",
      "step= 400 , error value= 1.5583057018531739\n",
      "step= 800 , error value= 1.153291911404234\n",
      "step= 1200 , error value= 0.925339084694214\n",
      "step= 1600 , error value= 0.7755020196292848\n",
      "step= 2000 , error value= 0.6680728806946472\n",
      "step= 2400 , error value= 0.5867539815612374\n",
      "step= 2800 , error value= 0.5228661190224149\n",
      "step= 3200 , error value= 0.4712814176241783\n",
      "step= 3600 , error value= 0.42874047695517653\n",
      "step= 4000 , error value= 0.39305715680152387\n",
      "step= 4400 , error value= 0.3627036606378897\n",
      "step= 4800 , error value= 0.3365770136791437\n",
      "step= 5200 , error value= 0.31385961261605955\n",
      "step= 5600 , error value= 0.2939319132275219\n",
      "step= 6000 , error value= 0.2763156092234656\n",
      "step= 6400 , error value= 0.26063544764887997\n",
      "step= 6800 , error value= 0.24659286259081392\n",
      "step= 7200 , error value= 0.23394734085772617\n",
      "step= 7600 , error value= 0.22250298338784685\n",
      "step= 8000 , error value= 0.21209864013989127\n"
     ]
    }
   ],
   "source": [
    "#AND GATE\n",
    "xdata=np.array([[0,0],[0,1],[1,0],[1,1]])\n",
    "tdata=np.array([0,0,0,1])\n",
    "\n",
    "AND_obj=LogicGate('AND_GATE',xdata,tdata)\n",
    "AND_obj.train()"
   ]
  },
  {
   "cell_type": "code",
   "execution_count": 30,
   "id": "be122f73-fae2-4c55-9017-3dc5d828e9c8",
   "metadata": {},
   "outputs": [
    {
     "name": "stdout",
     "output_type": "stream",
     "text": [
      "AND_GATE \n",
      "\n",
      "[0 0]  =  0 \n",
      "\n",
      "[0 1]  =  0 \n",
      "\n",
      "[1 0]  =  0 \n",
      "\n",
      "[1 1]  =  1 \n",
      "\n"
     ]
    }
   ],
   "source": [
    "#AND Gate prediction\n",
    "print(AND_obj.name, '\\n')\n",
    "\n",
    "test_data=np.array([[0,0],[0,1],[1,0],[1,1]])\n",
    "\n",
    "for input_data in test_data:\n",
    "    (sigmoid_val, logical_val)=AND_obj.predict(input_data)\n",
    "    print(input_data,' = ',logical_val,'\\n')"
   ]
  },
  {
   "cell_type": "code",
   "execution_count": 31,
   "id": "6af27ce0-a978-4748-873c-fc6fcff94745",
   "metadata": {},
   "outputs": [
    {
     "name": "stdout",
     "output_type": "stream",
     "text": [
      "Initial error value= 1.7847261572966726\n",
      "step= 0 , error value= 1.7817127700224258\n",
      "step= 400 , error value= 1.1255149985653123\n",
      "step= 800 , error value= 0.8125668792602764\n",
      "step= 1200 , error value= 0.6297607091650663\n",
      "step= 1600 , error value= 0.51102571706636\n",
      "step= 2000 , error value= 0.42821606947013646\n",
      "step= 2400 , error value= 0.3674605079771487\n",
      "step= 2800 , error value= 0.3211540376580435\n",
      "step= 3200 , error value= 0.28479184338167135\n",
      "step= 3600 , error value= 0.25554419010635765\n",
      "step= 4000 , error value= 0.23154922998564573\n",
      "step= 4400 , error value= 0.2115348472885936\n",
      "step= 4800 , error value= 0.1946041291271983\n",
      "step= 5200 , error value= 0.1801076467903934\n",
      "step= 5600 , error value= 0.1675642930592739\n",
      "step= 6000 , error value= 0.1566105045652412\n",
      "step= 6400 , error value= 0.14696671327645933\n",
      "step= 6800 , error value= 0.13841460101467168\n",
      "step= 7200 , error value= 0.13078132290678915\n",
      "step= 7600 , error value= 0.12392834066093261\n",
      "step= 8000 , error value= 0.11774337405990655\n"
     ]
    }
   ],
   "source": [
    "#OR GATE\n",
    "xdata=np.array([[0,0],[0,1],[1,0],[1,1]])\n",
    "tdata=np.array([0,1,1,1])\n",
    "\n",
    "OR_obj=LogicGate('OR_GATE',xdata,tdata)\n",
    "OR_obj.train()"
   ]
  },
  {
   "cell_type": "code",
   "execution_count": 32,
   "id": "f290421c-b8d9-4429-a145-f04e37263b66",
   "metadata": {},
   "outputs": [
    {
     "name": "stdout",
     "output_type": "stream",
     "text": [
      "OR_GATE \n",
      "\n",
      "[0 0]  =  0 \n",
      "\n",
      "[0 1]  =  1 \n",
      "\n",
      "[1 0]  =  1 \n",
      "\n",
      "[1 1]  =  1 \n",
      "\n"
     ]
    }
   ],
   "source": [
    "#OR Gate prediction\n",
    "print(OR_obj.name, '\\n')\n",
    "\n",
    "test_data=np.array([[0,0],[0,1],[1,0],[1,1]])\n",
    "\n",
    "for input_data in test_data:\n",
    "    (sigmoid_val, logical_val)=OR_obj.predict(input_data)\n",
    "    print(input_data,' = ',logical_val,'\\n')"
   ]
  },
  {
   "cell_type": "code",
   "execution_count": 33,
   "id": "848152a9-670a-450a-958a-49300fc0f487",
   "metadata": {},
   "outputs": [
    {
     "name": "stdout",
     "output_type": "stream",
     "text": [
      "Initial error value= 3.1445687042057298\n",
      "step= 0 , error value= 3.1330358116607067\n",
      "step= 400 , error value= 1.6462737999959223\n",
      "step= 800 , error value= 1.1968089849846133\n",
      "step= 1200 , error value= 0.9520321701007113\n",
      "step= 1600 , error value= 0.7938818953848367\n",
      "step= 2000 , error value= 0.6816253947277455\n",
      "step= 2400 , error value= 0.5972061477449848\n",
      "step= 2800 , error value= 0.5311889131064137\n",
      "step= 3200 , error value= 0.4780704468068826\n",
      "step= 3600 , error value= 0.43438473645677605\n",
      "step= 4000 , error value= 0.39782293895454357\n",
      "step= 4400 , error value= 0.3667800551515939\n",
      "step= 4800 , error value= 0.34010229119664454\n",
      "step= 5200 , error value= 0.3169373562128321\n",
      "step= 5600 , error value= 0.29664131304006275\n",
      "step= 6000 , error value= 0.2787182679708602\n",
      "step= 6400 , error value= 0.26278001456335853\n",
      "step= 6800 , error value= 0.24851826911500186\n",
      "step= 7200 , error value= 0.23568510963065736\n",
      "step= 7600 , error value= 0.22407890750209788\n",
      "step= 8000 , error value= 0.21353402504808455\n"
     ]
    }
   ],
   "source": [
    "#NAND GATE\n",
    "xdata=np.array([[0,0],[0,1],[1,0],[1,1]])\n",
    "tdata=np.array([1,1,1,0])\n",
    "\n",
    "NAND_obj=LogicGate('NAND_GATE',xdata,tdata)\n",
    "NAND_obj.train()"
   ]
  },
  {
   "cell_type": "code",
   "execution_count": 34,
   "id": "0a9c24df-4ead-4589-b24a-d353f7d8ee19",
   "metadata": {},
   "outputs": [
    {
     "name": "stdout",
     "output_type": "stream",
     "text": [
      "NAND_GATE \n",
      "\n",
      "[0 0]  =  1 \n",
      "\n",
      "[0 1]  =  1 \n",
      "\n",
      "[1 0]  =  1 \n",
      "\n",
      "[1 1]  =  0 \n",
      "\n"
     ]
    }
   ],
   "source": [
    "#NAND Gate prediction\n",
    "print(NAND_obj.name, '\\n')\n",
    "\n",
    "test_data=np.array([[0,0],[0,1],[1,0],[1,1]])\n",
    "\n",
    "for input_data in test_data:\n",
    "    (sigmoid_val, logical_val)=NAND_obj.predict(input_data)\n",
    "    print(input_data,' = ',logical_val,'\\n')"
   ]
  },
  {
   "cell_type": "code",
   "execution_count": 35,
   "id": "817a48da-eafa-4f59-81c8-5ed0050b2a8c",
   "metadata": {},
   "outputs": [
    {
     "name": "stdout",
     "output_type": "stream",
     "text": [
      "Initial error value= 3.0691673334481706\n",
      "step= 0 , error value= 3.0607938771458443\n",
      "step= 400 , error value= 2.7756935462759653\n",
      "step= 800 , error value= 2.7734477361140732\n",
      "step= 1200 , error value= 2.7728288299982395\n",
      "step= 1600 , error value= 2.7726558209857766\n",
      "step= 2000 , error value= 2.772607114634516\n",
      "step= 2400 , error value= 2.772593354795241\n",
      "step= 2800 , error value= 2.772589461000092\n",
      "step= 3200 , error value= 2.7725883582306987\n",
      "step= 3600 , error value= 2.7725880457920495\n",
      "step= 4000 , error value= 2.7725879572549577\n",
      "step= 4400 , error value= 2.772587932163601\n",
      "step= 4800 , error value= 2.772587925052427\n",
      "step= 5200 , error value= 2.7725879230369994\n",
      "step= 5600 , error value= 2.772587922465787\n",
      "step= 6000 , error value= 2.772587922303894\n",
      "step= 6400 , error value= 2.7725879222580097\n",
      "step= 6800 , error value= 2.7725879222450045\n",
      "step= 7200 , error value= 2.7725879222413194\n",
      "step= 7600 , error value= 2.772587922240275\n",
      "step= 8000 , error value= 2.7725879222399787\n"
     ]
    }
   ],
   "source": [
    "#XOR GATE\n",
    "xdata=np.array([[0,0],[0,1],[1,0],[1,1]])\n",
    "tdata=np.array([0,1,1,0])\n",
    "\n",
    "XOR_obj=LogicGate('XOR_GATE',xdata,tdata)\n",
    "XOR_obj.train()#손실 함수 값이 2.7 근처에서 더 이상 감소하지 않는다."
   ]
  },
  {
   "cell_type": "code",
   "execution_count": 36,
   "id": "d1d5eb49-80de-4a66-bfc3-597bab144591",
   "metadata": {},
   "outputs": [
    {
     "name": "stdout",
     "output_type": "stream",
     "text": [
      "XOR_GATE \n",
      "\n",
      "[0 0]  =  1 \n",
      "\n",
      "[0 1]  =  1 \n",
      "\n",
      "[1 0]  =  1 \n",
      "\n",
      "[1 1]  =  0 \n",
      "\n"
     ]
    }
   ],
   "source": [
    "#XOR Gate prediction => 예측 되지 않는다.\n",
    "print(XOR_obj.name, '\\n')\n",
    "\n",
    "test_data=np.array([[0,0],[0,1],[1,0],[1,1]])\n",
    "\n",
    "for input_data in test_data:\n",
    "    (sigmoid_val, logical_val)=XOR_obj.predict(input_data)\n",
    "    print(input_data,' = ',logical_val,'\\n')"
   ]
  },
  {
   "cell_type": "markdown",
   "id": "c6d229e7-50d3-40d6-81c3-5dd9a5c0def0",
   "metadata": {},
   "source": [
    "# XOR = NAND + OR 조합으로 계산"
   ]
  },
  {
   "cell_type": "code",
   "execution_count": null,
   "id": "0d6f46a0-3951-40f9-82d3-84565f1aa13d",
   "metadata": {},
   "outputs": [],
   "source": [
    "#XOR 을 NAND + OR => AND 조합으로 계산\n",
    "input_data=np.array([[0,0],[0,1],[1,0],[1,1]])\n",
    "\n",
    "s1=[] # NAND 출력\n",
    "s2=[] # OR 출력\n",
    "\n",
    "new_input_data=[] #AND 입력\n",
    "final_output=[] #AND 출력\n",
    "\n",
    "for index in range(len(input_data)):\n",
    "    \n",
    "    s1=NAND_obj.predic(input_data[index]) #NAND 출력\n",
    "    s2=OR_obj.predict(input_data[index]) #OR 출력\n",
    "    \n",
    "    new_input_data.append(s1[-1]) #AND 입력\n",
    "    new_input_data.append(s2[-1]) "
   ]
  }
 ],
 "metadata": {
  "kernelspec": {
   "display_name": "Python 3",
   "language": "python",
   "name": "python3"
  },
  "language_info": {
   "codemirror_mode": {
    "name": "ipython",
    "version": 3
   },
   "file_extension": ".py",
   "mimetype": "text/x-python",
   "name": "python",
   "nbconvert_exporter": "python",
   "pygments_lexer": "ipython3",
   "version": "3.8.8"
  }
 },
 "nbformat": 4,
 "nbformat_minor": 5
}
