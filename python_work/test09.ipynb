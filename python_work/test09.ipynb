{
 "cells": [
  {
   "cell_type": "code",
   "execution_count": 1,
   "id": "82a945c1-93b2-44d7-8ae4-94a35a946dbc",
   "metadata": {},
   "outputs": [],
   "source": [
    "import numpy as np\n",
    "import pandas as pd\n",
    "import matplotlib"
   ]
  },
  {
   "cell_type": "code",
   "execution_count": null,
   "id": "d734011d-1919-4f62-a326-b1de284a1897",
   "metadata": {},
   "outputs": [],
   "source": [
    "a=[1,2,3,4,5]\n",
    "data=np.array(a)\n",
    "print(a, type(a))\n",
    "print(data, type(data))\n",
    "print(sum(a))\n",
    "print(sum(data))"
   ]
  },
  {
   "cell_type": "code",
   "execution_count": null,
   "id": "67f1602a-c291-463d-9752-5d114446a8ac",
   "metadata": {},
   "outputs": [],
   "source": [
    "data=np.random.rand(50)\n",
    "print(data)"
   ]
  },
  {
   "cell_type": "code",
   "execution_count": null,
   "id": "1715720f-1b81-49af-a8ac-5e143d517866",
   "metadata": {},
   "outputs": [],
   "source": [
    "seri=pd.Series([10,20,30,40])\n",
    "print(seri)\n",
    "seri.index=['가','나','다','라']\n",
    "print(seri)\n",
    "print(seri[['가','다']])"
   ]
  },
  {
   "cell_type": "code",
   "execution_count": null,
   "id": "9fcb9272-50ea-4f1a-a1af-be8e55d6cd43",
   "metadata": {},
   "outputs": [],
   "source": [
    "data_set=np.random.rand(10,3)\n",
    "print(data_set)"
   ]
  },
  {
   "cell_type": "code",
   "execution_count": null,
   "id": "301a7e76-b11e-4532-98de-22051d800553",
   "metadata": {},
   "outputs": [],
   "source": [
    "df=pd.DataFrame(data_set,columns=['A','B','C'])\n",
    "df"
   ]
  },
  {
   "cell_type": "code",
   "execution_count": null,
   "id": "1671f7f5-1458-4a3a-b80b-1594610d27eb",
   "metadata": {},
   "outputs": [],
   "source": [
    "name=['홍길동','이순신','장영실','최무선','임꺽정']\n",
    "kor=[50,70,80,75,60]\n",
    "math=[70,85,80,95,90]\n",
    "data={'name':name, 'kor':kor, 'math':math}\n",
    "df=pd.DataFrame(data)\n",
    "df\n"
   ]
  },
  {
   "cell_type": "code",
   "execution_count": null,
   "id": "512af2d8-ccda-48ff-a598-b253cdbfab0f",
   "metadata": {},
   "outputs": [],
   "source": [
    "a=[10,20,30]\n",
    "np_arr=np.array(a)\n",
    "print(a,type(a))\n",
    "print(np_arr,type(np_arr))"
   ]
  },
  {
   "cell_type": "code",
   "execution_count": null,
   "id": "a4db5190-13c2-4943-b1c7-2da8535b139d",
   "metadata": {},
   "outputs": [],
   "source": [
    "data1=np.random.rand(10)\n",
    "data2=np.random.rand(10,3)\n",
    "print(data1)\n",
    "print(data2)"
   ]
  },
  {
   "cell_type": "code",
   "execution_count": null,
   "id": "1ef1bc52-a63b-43e7-955d-222a49378bae",
   "metadata": {},
   "outputs": [],
   "source": [
    "seri1=pd.Series(a)\n",
    "print(seri1)"
   ]
  },
  {
   "cell_type": "code",
   "execution_count": null,
   "id": "617715b5-71a0-4cea-a05b-9009e6d44d06",
   "metadata": {},
   "outputs": [],
   "source": [
    "df1=pd.DataFrame(data2,columns=['a','b','c'])\n",
    "df1"
   ]
  },
  {
   "cell_type": "code",
   "execution_count": null,
   "id": "9aee6c8a-b943-497b-b7f9-c72f3e86a580",
   "metadata": {},
   "outputs": [],
   "source": [
    "name=['홍길동','홍길수','홍길숙']\n",
    "age=[20,25,30]\n",
    "gender=['남','남','여']\n",
    "data={'name':name,'age':age,'gender':gender}\n",
    "\n",
    "df=pd.DataFrame(data)\n",
    "print(df)\n",
    "df"
   ]
  },
  {
   "cell_type": "code",
   "execution_count": null,
   "id": "3d08e66c-a750-4cb5-b5d2-2cd5183ef7a1",
   "metadata": {},
   "outputs": [],
   "source": [
    "seri=pd.Series(np.random.rand(10))\n",
    "seri"
   ]
  },
  {
   "cell_type": "code",
   "execution_count": null,
   "id": "5a1a72e3-dbe1-42b3-bea1-914b451f3260",
   "metadata": {},
   "outputs": [],
   "source": [
    "seri.plot()"
   ]
  },
  {
   "cell_type": "code",
   "execution_count": null,
   "id": "b29817f5-5d34-4429-9708-571545339a03",
   "metadata": {},
   "outputs": [],
   "source": [
    "matplotlib.style.use(\"ggplot\")\n",
    "seri.plot(kind=\"pie\")"
   ]
  },
  {
   "cell_type": "code",
   "execution_count": null,
   "id": "e97f3942-0a30-4024-a933-d4e8e9c9a775",
   "metadata": {},
   "outputs": [],
   "source": [
    "df1.plot(kind=\"area\", stacked=False) #kind:bar, barh, area, pie"
   ]
  },
  {
   "cell_type": "code",
   "execution_count": null,
   "id": "458ee168-145c-4755-8b78-aed2df14f920",
   "metadata": {},
   "outputs": [],
   "source": [
    "seri=pd.Series(np.random.rand(5),index=['A','B','C','D','E'], name=\"Seri1\")\n",
    "seri.plot(kind='pie', autopct='%.2f',fontsize=20, figsize=(8,6))"
   ]
  },
  {
   "cell_type": "code",
   "execution_count": null,
   "id": "4856bf2a-99cc-435f-96fa-88c3c718f1cf",
   "metadata": {},
   "outputs": [],
   "source": [
    "a=[1,3,5]\n",
    "x=np.array(a)\n",
    "print(np.mean(a),x.mean(),np.mean(x))"
   ]
  },
  {
   "cell_type": "code",
   "execution_count": null,
   "id": "3b9508d5-cd99-4db3-85e5-06e01a1a8b50",
   "metadata": {},
   "outputs": [],
   "source": [
    "data=[1,2,3,4]\n",
    "x=np.array(data)\n",
    "#data.mean()\n",
    "x.mean()"
   ]
  },
  {
   "cell_type": "code",
   "execution_count": null,
   "id": "ff808d7a-c0c9-4b13-8c03-fad91a29211f",
   "metadata": {},
   "outputs": [],
   "source": [
    "data=[[1,2,3],[3,4,5]]\n",
    "arr2=np.array(data)\n",
    "arr2"
   ]
  },
  {
   "cell_type": "code",
   "execution_count": null,
   "id": "aebc660b-3d59-4cce-a37b-80c2ef6af6a8",
   "metadata": {},
   "outputs": [],
   "source": [
    "data2=[1,2,3,4,5,6]\n",
    "arr2=np.array(data2).reshape(2,3)\n",
    "print(arr2)\n",
    "print(type(arr2))\n",
    "print(arr2.shape)"
   ]
  },
  {
   "cell_type": "code",
   "execution_count": null,
   "id": "28168464-5ea5-4090-9965-3ab2954bc187",
   "metadata": {},
   "outputs": [],
   "source": [
    "list1=[[1,11,101],[2,12,102],[3,13,103]]\n",
    "print(list1[:][1])\n",
    "#print(list1[1,1])\n",
    "#print(list1[:,1])"
   ]
  },
  {
   "cell_type": "code",
   "execution_count": null,
   "id": "56821183-3e9a-4b97-a685-e7ee2b0e6b4e",
   "metadata": {},
   "outputs": [],
   "source": [
    "np_arr=np.array(list1)\n",
    "print(np_arr[::2,1])\n",
    "print(np_arr[:,::2])"
   ]
  },
  {
   "cell_type": "code",
   "execution_count": null,
   "id": "d521efad-c8fd-45bb-b65a-89080dd16169",
   "metadata": {},
   "outputs": [],
   "source": [
    "x=np.random.rand(5)\n",
    "y=np.random.rand(5)\n",
    "print(x)\n",
    "print(y)"
   ]
  },
  {
   "cell_type": "code",
   "execution_count": null,
   "id": "5463f2f7-ec1a-4650-aaa1-ec176624fdb1",
   "metadata": {},
   "outputs": [],
   "source": [
    "print(np.minimum(x,y))\n",
    "print(np.maximum(x,y))"
   ]
  },
  {
   "cell_type": "code",
   "execution_count": null,
   "id": "92b8a1d1-50ba-4d88-be23-603373af5677",
   "metadata": {},
   "outputs": [],
   "source": [
    "print(x+y)\n",
    "print(x-y)\n",
    "print(x*y)\n",
    "print(x/y)\n",
    "print(x//y)\n",
    "print(x**y)\n",
    "print(x+6)\n",
    "print(x*2)"
   ]
  },
  {
   "cell_type": "code",
   "execution_count": null,
   "id": "2386a82c-91a3-4431-8f26-62aec012d789",
   "metadata": {},
   "outputs": [],
   "source": [
    "list1=[1,2,3,4,5]\n",
    "list2=[10,20,30,40,50]\n",
    "print(list1+list2)"
   ]
  },
  {
   "cell_type": "code",
   "execution_count": null,
   "id": "8975cfa1-c1b0-414b-866d-4cbb029e0279",
   "metadata": {},
   "outputs": [],
   "source": [
    "a=np.arange(1,101).reshape(10,10)\n",
    "print(a)"
   ]
  },
  {
   "cell_type": "code",
   "execution_count": null,
   "id": "38015dd9-dd1e-4416-adc4-8d5db2455257",
   "metadata": {},
   "outputs": [],
   "source": [
    "print(np.sqrt(a))\n",
    "print(np.mean(a))\n",
    "print(np.sum(a))\n",
    "print(np.sum(a,axis=0)) #axis 0, 열방향\n",
    "print(np.sum(a,axis=1)) #axis 1, 행방향\n",
    "print(np.mean(a,axis=0))\n",
    "print(np.mean(a,axis=1))"
   ]
  },
  {
   "cell_type": "code",
   "execution_count": null,
   "id": "b9b70673-4a43-4561-a7b2-cb4334f37acd",
   "metadata": {},
   "outputs": [],
   "source": [
    "b=[[5,3,4],[3,5,1],[7,6,9]]\n",
    "arr_b=np.array(b)\n",
    "print(arr_b)"
   ]
  },
  {
   "cell_type": "code",
   "execution_count": null,
   "id": "fd01574e-7be5-4539-ac04-1e5d6ede8fe9",
   "metadata": {},
   "outputs": [],
   "source": [
    "print(np.sort(b))\n",
    "print(np.sort(b,axis=0)) #열\n",
    "print(np.sort(b,axis=1)) #행\n",
    "print(np.sort(b,axis=0)[::-1])\n",
    "print(np.sort(b,axis=1)[::-1]) #안됨\n",
    "print(arr_b.transpose())"
   ]
  },
  {
   "cell_type": "code",
   "execution_count": null,
   "id": "3129eda6-5375-4309-b2e0-b3ddcd638d59",
   "metadata": {},
   "outputs": [],
   "source": [
    "a1=np.arange(1,13).reshape(3,4)\n",
    "print(a1)\n",
    "print(a1.transpose())"
   ]
  },
  {
   "cell_type": "code",
   "execution_count": null,
   "id": "eebacd92-1b60-43e7-b9a7-0cb974083f95",
   "metadata": {},
   "outputs": [],
   "source": [
    "a=np.array([1,1,3,3,4,5])\n",
    "print(np.unique(a))"
   ]
  },
  {
   "cell_type": "code",
   "execution_count": null,
   "id": "74b2cf4a-d88a-4329-b9a9-8ee534362e04",
   "metadata": {},
   "outputs": [],
   "source": [
    "a2=np.arange(1,13).reshape(3,4)\n",
    "print(a2)"
   ]
  },
  {
   "cell_type": "code",
   "execution_count": null,
   "id": "39d21ec4-a4ce-4fd4-8432-fdfeceafda8a",
   "metadata": {},
   "outputs": [],
   "source": [
    "a3=np.arange(12).reshape(3,4)\n",
    "print(a3)"
   ]
  },
  {
   "cell_type": "code",
   "execution_count": null,
   "id": "7a870ae0-39b0-4165-9780-3f5875e12808",
   "metadata": {},
   "outputs": [],
   "source": [
    "print(a2>5)\n",
    "print(np.all(a2>5))\n",
    "print(np.any(a2>5))\n",
    "print(a2>a3)"
   ]
  },
  {
   "cell_type": "code",
   "execution_count": null,
   "id": "3dfb8da2-2dbe-4df8-bad2-111d68b6d891",
   "metadata": {},
   "outputs": [],
   "source": [
    "a=np.linspace(0,12,4,retstep=True,endpoint=False)\n",
    "print(a)\n",
    "b=np.logspace(1,2,10, endpoint=False) #log10100\n",
    "print(b)"
   ]
  },
  {
   "cell_type": "code",
   "execution_count": 2,
   "id": "87924cce-6d3e-4168-875e-07cc4ae1a963",
   "metadata": {},
   "outputs": [],
   "source": [
    "data=np.loadtxt('data/ml-1m/ratings.dat',delimiter='::',dtype=np.int64)"
   ]
  },
  {
   "cell_type": "code",
   "execution_count": 3,
   "id": "2f6c7761-e0cd-4089-9c70-0688f9c52e1e",
   "metadata": {},
   "outputs": [
    {
     "name": "stdout",
     "output_type": "stream",
     "text": [
      "[[        1      1193         5 978300760]\n",
      " [        1       661         3 978302109]\n",
      " [        1       914         3 978301968]\n",
      " [        1      3408         4 978300275]\n",
      " [        1      2355         5 978824291]]\n",
      "(1000209, 4)\n"
     ]
    }
   ],
   "source": [
    "print(data[:5,:])\n",
    "print(data.shape)"
   ]
  },
  {
   "cell_type": "code",
   "execution_count": 4,
   "id": "818b7615-afa9-46b8-aac2-89417a0d0985",
   "metadata": {},
   "outputs": [
    {
     "data": {
      "text/plain": [
       "3.581564453029317"
      ]
     },
     "execution_count": 4,
     "metadata": {},
     "output_type": "execute_result"
    }
   ],
   "source": [
    "#전체 평균\n",
    "mean_rating_total=data[:,2].mean() #np.mean(data[:,2])\n",
    "mean_rating_total"
   ]
  },
  {
   "cell_type": "code",
   "execution_count": 5,
   "id": "cbda04ca-792d-4d3b-84cf-d806c08a202f",
   "metadata": {},
   "outputs": [
    {
     "name": "stdout",
     "output_type": "stream",
     "text": [
      "[ 1  2  3  4  5  6  7  8  9 10]\n",
      "(6040,)\n"
     ]
    }
   ],
   "source": [
    "#사용자 Id 추출\n",
    "user_ids=np.unique(data[:,0])\n",
    "print(user_ids[:10])\n",
    "print(user_ids.shape)"
   ]
  },
  {
   "cell_type": "code",
   "execution_count": 9,
   "id": "24f2ec44-48b9-4235-bccb-1c18232bdd65",
   "metadata": {},
   "outputs": [
    {
     "data": {
      "text/plain": [
       "[[1, 4.188679245283019],\n",
       " [2, 3.7131782945736433],\n",
       " [3, 3.9019607843137254],\n",
       " [4, 4.190476190476191],\n",
       " [5, 3.1464646464646466]]"
      ]
     },
     "execution_count": 9,
     "metadata": {},
     "output_type": "execute_result"
    }
   ],
   "source": [
    "#사용자별 평균 평점\n",
    "mean_values=[]\n",
    "#data_for_user=data[data[:,0]==1]\n",
    "#print(data_for_user)\n",
    "for user_id in user_ids:\n",
    "    data_for_user=data[data[:,0]==user_id]\n",
    "    #print(data_for_user)\n",
    "    value=data_for_user[:,2].mean()\n",
    "    mean_values.append([user_id,value])\n",
    "\n",
    "mean_values[:5]"
   ]
  },
  {
   "cell_type": "code",
   "execution_count": 11,
   "id": "a678bca9-c556-4944-901d-555273661117",
   "metadata": {},
   "outputs": [
    {
     "name": "stdout",
     "output_type": "stream",
     "text": [
      "[[ 1.         4.188679 ]\n",
      " [ 2.         3.7131784]\n",
      " [ 3.         3.9019608]\n",
      " [ 4.         4.1904764]\n",
      " [ 5.         3.1464646]\n",
      " [ 6.         3.9014084]\n",
      " [ 7.         4.322581 ]\n",
      " [ 8.         3.884892 ]\n",
      " [ 9.         3.7358491]\n",
      " [10.         4.114713 ]]\n",
      "(6040, 2)\n"
     ]
    }
   ],
   "source": [
    "mean_array=np.array(mean_values,dtype=np.float32)\n",
    "print(mean_array[:10])\n",
    "print(mean_array.shape)"
   ]
  },
  {
   "cell_type": "code",
   "execution_count": 12,
   "id": "ea395915-e547-4468-8081-b71266b2bedb",
   "metadata": {},
   "outputs": [],
   "source": [
    "np.savetxt(\"data/ml-1m/result1.csv\",mean_array,fmt='%.2f',delimiter=',')"
   ]
  },
  {
   "cell_type": "code",
   "execution_count": 14,
   "id": "40bc42be-844b-4132-ae88-dde12bbcd383",
   "metadata": {},
   "outputs": [
    {
     "name": "stdout",
     "output_type": "stream",
     "text": [
      "[ 1  2  3  4  5  6  7  8  9 10]\n",
      "(3706,)\n"
     ]
    }
   ],
   "source": [
    "#영화 Id 추출\n",
    "movie_ids=np.unique(data[:,1])\n",
    "print(movie_ids[:10])\n",
    "print(movie_ids.shape)"
   ]
  },
  {
   "cell_type": "code",
   "execution_count": 16,
   "id": "54d2b70e-9267-4399-80a7-cceb52598307",
   "metadata": {},
   "outputs": [
    {
     "data": {
      "text/plain": [
       "[[1, 4.146846413095811],\n",
       " [2, 3.20114122681883],\n",
       " [3, 3.01673640167364],\n",
       " [4, 2.7294117647058824],\n",
       " [5, 3.0067567567567566]]"
      ]
     },
     "execution_count": 16,
     "metadata": {},
     "output_type": "execute_result"
    }
   ],
   "source": [
    "#영화별 평균 평점\n",
    "mean_values2=[]\n",
    "#data_for_movie=data[data[:,1]==1]\n",
    "#print(data_for_movie)\n",
    "for movie_id in movie_ids:\n",
    "    data_for_movie=data[data[:,1]==movie_id]\n",
    "    #print(data_for_user)\n",
    "    value=data_for_movie[:,2].mean()\n",
    "    mean_values2.append([movie_id,value])\n",
    "\n",
    "mean_values2[:5]"
   ]
  },
  {
   "cell_type": "code",
   "execution_count": 17,
   "id": "9fb257d4-c8a5-4d9e-8c31-76c765d60674",
   "metadata": {},
   "outputs": [
    {
     "name": "stdout",
     "output_type": "stream",
     "text": [
      "[[ 1.         4.1468463]\n",
      " [ 2.         3.201141 ]\n",
      " [ 3.         3.0167365]\n",
      " [ 4.         2.7294118]\n",
      " [ 5.         3.0067568]\n",
      " [ 6.         3.8787234]\n",
      " [ 7.         3.4104803]\n",
      " [ 8.         3.014706 ]\n",
      " [ 9.         2.6568627]\n",
      " [10.         3.5405405]]\n",
      "(3706, 2)\n"
     ]
    }
   ],
   "source": [
    "mean_array2=np.array(mean_values2,dtype=np.float32)\n",
    "print(mean_array2[:10])\n",
    "print(mean_array2.shape)"
   ]
  },
  {
   "cell_type": "code",
   "execution_count": 18,
   "id": "6ece0fb0-5dcf-47a5-8c64-e5c6d556f1e6",
   "metadata": {},
   "outputs": [],
   "source": [
    "np.savetxt(\"data/ml-1m/result2.csv\",mean_array2,fmt='%.2f',delimiter=',')"
   ]
  }
 ],
 "metadata": {
  "kernelspec": {
   "display_name": "Python 3",
   "language": "python",
   "name": "python3"
  },
  "language_info": {
   "codemirror_mode": {
    "name": "ipython",
    "version": 3
   },
   "file_extension": ".py",
   "mimetype": "text/x-python",
   "name": "python",
   "nbconvert_exporter": "python",
   "pygments_lexer": "ipython3",
   "version": "3.8.8"
  }
 },
 "nbformat": 4,
 "nbformat_minor": 5
}
