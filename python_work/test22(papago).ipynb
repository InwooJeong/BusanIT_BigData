{
 "cells": [
  {
   "cell_type": "code",
   "execution_count": 6,
   "id": "7e03e45a-3311-4083-9291-f5c267c2bde6",
   "metadata": {},
   "outputs": [
    {
     "name": "stdin",
     "output_type": "stream",
     "text": [
      "번역할 문장을 입력하세요. 안녕\n"
     ]
    },
    {
     "name": "stdout",
     "output_type": "stream",
     "text": [
      "Hi.\n"
     ]
    }
   ],
   "source": [
    "# 네이버 Papago NMT API 예제\n",
    "import os\n",
    "import sys\n",
    "import urllib.request\n",
    "import json\n",
    "client_id = \"NE2i3oARZbcavBl_KIwV\"\n",
    "client_secret = \"9M9d69Zv2v\"\n",
    "inputstr=input(\"번역할 문장을 입력하세요.\")\n",
    "encText = urllib.parse.quote(inputstr)\n",
    "data = \"source=ko&target=en&text=\" + encText\n",
    "url = \"https://openapi.naver.com/v1/papago/n2mt\"\n",
    "request = urllib.request.Request(url)\n",
    "request.add_header(\"X-Naver-Client-Id\",client_id)\n",
    "request.add_header(\"X-Naver-Client-Secret\",client_secret)\n",
    "response = urllib.request.urlopen(request, data=data.encode(\"utf-8\"))\n",
    "rescode = response.getcode()\n",
    "if(rescode==200):\n",
    "    response_body = response.read()\n",
    "    json_response=json.loads(response_body.decode('utf-8'))\n",
    "    print(json_response['message']['result']['translatedText'])\n",
    "else:\n",
    "    print(\"Error Code:\" + rescode)"
   ]
  }
 ],
 "metadata": {
  "kernelspec": {
   "display_name": "Python 3",
   "language": "python",
   "name": "python3"
  },
  "language_info": {
   "codemirror_mode": {
    "name": "ipython",
    "version": 3
   },
   "file_extension": ".py",
   "mimetype": "text/x-python",
   "name": "python",
   "nbconvert_exporter": "python",
   "pygments_lexer": "ipython3",
   "version": "3.8.8"
  }
 },
 "nbformat": 4,
 "nbformat_minor": 5
}
