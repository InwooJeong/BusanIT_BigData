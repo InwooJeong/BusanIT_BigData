{
 "cells": [
  {
   "cell_type": "code",
   "execution_count": 2,
   "id": "fd4c2f2d-c0fd-4d6c-99a9-e8ddb25de786",
   "metadata": {},
   "outputs": [
    {
     "data": {
      "text/plain": [
       "'2.7.0'"
      ]
     },
     "execution_count": 2,
     "metadata": {},
     "output_type": "execute_result"
    }
   ],
   "source": [
    "import tensorflow as tf\n",
    "tf.__version__"
   ]
  },
  {
   "cell_type": "code",
   "execution_count": 6,
   "id": "fb4e0ad6-5c04-43e9-b4df-e12ca4bc8807",
   "metadata": {},
   "outputs": [
    {
     "data": {
      "text/plain": [
       "'2.7.0'"
      ]
     },
     "execution_count": 6,
     "metadata": {},
     "output_type": "execute_result"
    }
   ],
   "source": [
    "#for use tensorflow version 1\n",
    "import tensorflow.compat.v1 as tf\n",
    "tf.disable_v2_behavior()\n",
    "\n",
    "tf.__version__"
   ]
  },
  {
   "cell_type": "code",
   "execution_count": 7,
   "id": "5a0d925a-54a2-44c2-9837-2ad85f710f4c",
   "metadata": {},
   "outputs": [
    {
     "name": "stdout",
     "output_type": "stream",
     "text": [
      "Tensor(\"Const_2:0\", shape=(), dtype=string)\n",
      "b'Hello, TensorFlow!'\n"
     ]
    }
   ],
   "source": [
    "#Create a constant op\n",
    "#This op is added as a node to the default graph\n",
    "hello=tf.constant('Hello, TensorFlow!')\n",
    "print(hello)\n",
    "\n",
    "#start a TF session\n",
    "sess=tf.Session()\n",
    "\n",
    "#run the op and get result\n",
    "print(sess.run(hello))"
   ]
  },
  {
   "cell_type": "code",
   "execution_count": 8,
   "id": "c8ecef1b-a6c8-483e-9e20-57f7d95b2130",
   "metadata": {},
   "outputs": [
    {
     "data": {
      "text/plain": [
       "[[[1.0, 2.0, 3.0]], [[7.0, 8.0, 9.0]]]"
      ]
     },
     "execution_count": 8,
     "metadata": {},
     "output_type": "execute_result"
    }
   ],
   "source": [
    "3 #a rank 0 tensor; this is a scalar with shape[]\n",
    "[1.,2.,3.] #a rank 1 tensor; this is a vector with shape[3]\n",
    "[[1.,2.,3.],[4.,5.,6.]] #a rank 2 tensor; a matrix with shape [2,3]\n",
    "[[[1.,2.,3.,]],[[7.,8.,9.]]] #a rank 3 tensor with shape [2,1,3]"
   ]
  },
  {
   "cell_type": "code",
   "execution_count": 9,
   "id": "ae749778-8083-4bba-b2f8-9d5d04897f8e",
   "metadata": {},
   "outputs": [],
   "source": [
    "node1=tf.constant(3.0, tf.float32)\n",
    "node2=tf.constant(4.0) #also tf.float32 impicitly\n",
    "node3=tf.add(node1,node2)"
   ]
  },
  {
   "cell_type": "code",
   "execution_count": 11,
   "id": "83fd17cf-d211-491c-950a-b7c3dfdddc8b",
   "metadata": {},
   "outputs": [
    {
     "name": "stdout",
     "output_type": "stream",
     "text": [
      "node1: Tensor(\"Const_3:0\", shape=(), dtype=float32) node2: Tensor(\"Const_4:0\", shape=(), dtype=float32)\n",
      "node3: Tensor(\"Add:0\", shape=(), dtype=float32)\n"
     ]
    }
   ],
   "source": [
    "print('node1:',node1,'node2:',node2)\n",
    "print('node3:',node3)"
   ]
  },
  {
   "cell_type": "code",
   "execution_count": 13,
   "id": "2ca5709c-ac5d-4139-a4cb-3ae3eda9e584",
   "metadata": {},
   "outputs": [
    {
     "name": "stdout",
     "output_type": "stream",
     "text": [
      "sess.run(node1,node2): [3.0, 4.0]\n",
      "sess.run(node3): 7.0\n"
     ]
    }
   ],
   "source": [
    "sess=tf.Session()\n",
    "print('sess.run(node1,node2):',sess.run([node1,node2]))\n",
    "print('sess.run(node3):',sess.run(node3))"
   ]
  },
  {
   "cell_type": "code",
   "execution_count": 17,
   "id": "635e6bc6-fa0d-4110-b378-27916803ac9d",
   "metadata": {},
   "outputs": [
    {
     "name": "stdout",
     "output_type": "stream",
     "text": [
      "7.5\n",
      "[3. 7.]\n",
      "[ 3.  7. 11. 13.]\n"
     ]
    }
   ],
   "source": [
    "a=tf.placeholder(tf.float32)\n",
    "b=tf.placeholder(tf.float32)\n",
    "adder_node=a+b # + provides a shortcut for tf.add(a,b)\n",
    "\n",
    "print(sess.run(adder_node, feed_dict={a:3, b:4.5}))\n",
    "print(sess.run(adder_node, feed_dict={a:[1,3],b:[2,4]}))\n",
    "print(sess.run(adder_node, feed_dict={a:[1,3,4,5],b:[2,4,7,8]}))"
   ]
  },
  {
   "cell_type": "code",
   "execution_count": 18,
   "id": "e0c02156-90ff-4b08-a92b-f6d6203efbc0",
   "metadata": {},
   "outputs": [
    {
     "name": "stdout",
     "output_type": "stream",
     "text": [
      "22.5\n",
      "[ 9. 21.]\n",
      "[ 9. 21. 33. 39.]\n"
     ]
    }
   ],
   "source": [
    "add_and_triple=adder_node*3.\n",
    "print(sess.run(add_and_triple,feed_dict={a:3,b:4.5}))\n",
    "print(sess.run(add_and_triple, feed_dict={a:[1,3],b:[2,4]}))\n",
    "print(sess.run(add_and_triple, feed_dict={a:[1,3,4,5],b:[2,4,7,8]}))"
   ]
  },
  {
   "cell_type": "code",
   "execution_count": null,
   "id": "aded1521-9e05-4c12-b373-6e8b0fe621cd",
   "metadata": {},
   "outputs": [],
   "source": [
    "#Lab 2 Linear Regression\n",
    "import tensorflow.compat.v1 as tf\n",
    "tf.disable_v2_behavior()\n",
    "\n",
    "#import tensorflow as tf\n",
    "tf.set_random_seed(777) #for reproducibility\n",
    "\n",
    "#X and Y data\n",
    "x_train=[1,2,3]\n",
    "y_train=[2,3,4]\n",
    "\n",
    "#y=Wx+b, W=1, b=1\n",
    "#Try to find values for W and b to compute y_data = x_data X + b\n",
    "#We know taht W should be 1 and b should be 0\n",
    "#But let TensorFlow figure it out\n",
    "W=tf.Variable(tf.random_normal([1]),name='weight')\n",
    "b=tf.Variable(tf.random_normal([1]),name='bias')\n",
    "\n",
    "#Our hypothesis xW+b\n",
    "hypothesis=x_train*W+b\n",
    "\n",
    "#cost/loss function\n",
    "coast=tf.reduce_mean(tf.square(hypothesis-y_train))\n",
    "\n",
    "#optimizer\n"
   ]
  }
 ],
 "metadata": {
  "kernelspec": {
   "display_name": "Python 3",
   "language": "python",
   "name": "python3"
  },
  "language_info": {
   "codemirror_mode": {
    "name": "ipython",
    "version": 3
   },
   "file_extension": ".py",
   "mimetype": "text/x-python",
   "name": "python",
   "nbconvert_exporter": "python",
   "pygments_lexer": "ipython3",
   "version": "3.8.8"
  }
 },
 "nbformat": 4,
 "nbformat_minor": 5
}
