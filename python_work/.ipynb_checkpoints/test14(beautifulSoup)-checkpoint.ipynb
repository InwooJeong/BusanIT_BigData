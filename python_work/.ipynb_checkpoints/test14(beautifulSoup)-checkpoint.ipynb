{
 "cells": [
  {
   "cell_type": "code",
   "execution_count": 1,
   "id": "81bdb563-8d2b-4283-bfbc-174dcf1185f7",
   "metadata": {},
   "outputs": [],
   "source": [
    "from bs4 import BeautifulSoup"
   ]
  },
  {
   "cell_type": "code",
   "execution_count": 2,
   "id": "bb873b8a-11d6-4b50-a346-32cd4b471140",
   "metadata": {},
   "outputs": [],
   "source": [
    "html_doc=\"\"\"\n",
    "<!DOCTYPE html>\n",
    "<html>\n",
    "    <head>\n",
    "        <meta charset=\"utf-8\">\n",
    "        <title>Test BeautifulSoup</title>\n",
    "    </head>\n",
    "    <body>\n",
    "        <h1>테스트</h1>\n",
    "    </body>\n",
    "</html>\n",
    "\"\"\""
   ]
  },
  {
   "cell_type": "code",
   "execution_count": 6,
   "id": "1c7b222b-3b1e-4453-9e81-b285940826e8",
   "metadata": {
    "collapsed": true,
    "jupyter": {
     "outputs_hidden": true
    },
    "tags": []
   },
   "outputs": [
    {
     "name": "stdout",
     "output_type": "stream",
     "text": [
      "<class 'bs4.BeautifulSoup'>\n",
      "<!DOCTYPE html>\n",
      "<html>\n",
      " <head>\n",
      "  <meta charset=\"utf-8\"/>\n",
      "  <title>\n",
      "   Test BeautifulSoup\n",
      "  </title>\n",
      " </head>\n",
      " <body>\n",
      "  <h1>\n",
      "   테스트\n",
      "  </h1>\n",
      " </body>\n",
      "</html>\n",
      "\n",
      "********************\n",
      "<!DOCTYPE html>\n",
      "<html>\n",
      "<head>\n",
      "<meta charset=\"utf-8\"/>\n",
      "<title>Test BeautifulSoup</title>\n",
      "</head>\n",
      "<body>\n",
      "<h1>테스트</h1>\n",
      "</body>\n",
      "</html>\n",
      "\n",
      "********************\n",
      "<?xml version=\"1.0\" encoding=\"utf-8\"?>\n",
      "<!DOCTYPE html>\n",
      "<html>\n",
      "<head>\n",
      "<meta charset=\"utf-8\">\n",
      "<title>Test BeautifulSoup</title>\n",
      "</meta>\n",
      "<body>\n",
      "<h1>테스트</h1>\n",
      "</body>\n",
      "</head></html>\n",
      "********************\n",
      "<!DOCTYPE html>\n",
      "<html><head>\n",
      "        <meta charset=\"utf-8\"/>\n",
      "        <title>Test BeautifulSoup</title>\n",
      "    </head>\n",
      "    <body>\n",
      "        <h1>테스트</h1>\n",
      "    \n",
      "\n",
      "</body></html>\n"
     ]
    }
   ],
   "source": [
    "bs=BeautifulSoup(html_doc,'html.parser')\n",
    "print(type(bs))\n",
    "print(bs.prettify())\n",
    "print(\"*\"*20)\n",
    "bs1=BeautifulSoup(html_doc,'lxml')\n",
    "print(bs1)\n",
    "print(\"*\"*20)\n",
    "bs2=BeautifulSoup(html_doc,'lxml-xml')\n",
    "print(bs2)\n",
    "print(\"*\"*20)\n",
    "bs3=BeautifulSoup(html_doc,'html5lib')\n",
    "print(bs3)"
   ]
  },
  {
   "cell_type": "code",
   "execution_count": 55,
   "id": "32195414-0546-45f6-b26f-39fd5d09f582",
   "metadata": {
    "tags": []
   },
   "outputs": [
    {
     "name": "stdout",
     "output_type": "stream",
     "text": [
      "<class 'bs4.element.Tag'> : <title>Test BeautifulSoup</title>\n",
      "<class 'str'> : title\n",
      "<class 'bs4.element.NavigableString'> : Test BeautifulSoup\n",
      "********************\n",
      "<class 'str'> : center\n",
      "<class 'bs4.element.NavigableString'> : P 태그의 컨텐트\n",
      "<class 'str'> : P 태그의 컨텐트\n",
      "<class 'str'> : P 태그의 컨텐트\n",
      "<class 'str'> : P 태그의 컨텐트\n",
      "<class 'list'> : ['P 태그의 컨텐트']\n",
      "********************\n",
      "<class 'str'> : http://unico2013.dothome.co.kr/image/flower.jpg\n",
      "<class 'dict'> : {'src': 'http://unico2013.dothome.co.kr/image/flower.jpg', 'width': '300'}\n",
      "********************\n",
      "bs.ul.li.strong.string : 강조\n",
      "bs.ul.text : \n",
      "테스트1강조\n",
      "테스트2\n",
      "테스트3\n",
      "\n",
      "bs.ul.get_text() : \n",
      "테스트1강조\n",
      "테스트2\n",
      "테스트3\n",
      "\n",
      "bs.ul.getText() : \n",
      "테스트1강조\n",
      "테스트2\n",
      "테스트3\n",
      "\n",
      "bs.ul.contents : ['\\n', <li id=\"abc\">테스트1<strong>강조</strong></li>, '\\n', <li>테스트2</li>, '\\n', <li>테스트3</li>, '\\n']\n",
      "********************\n"
     ]
    }
   ],
   "source": [
    "html_doc='''<!DOCTYPE html>\n",
    "<html>\n",
    "    <head>\n",
    "        <meta charset='utf-8'>\n",
    "        <title>Test BeautifulSoup</title>\n",
    "    </head>\n",
    "    <body>\n",
    "        <p align=\"center\">P 태그의 컨텐트</p>\n",
    "        <img src=\"http://unico2013.dothome.co.kr/image/flower.jpg\" width=\"300\">\n",
    "        <ul>\n",
    "            <li id='abc'>테스트1<strong>강조</strong></li>\n",
    "            <li>테스트2</li>\n",
    "            <li>테스트3</li>\n",
    "        </ul>\n",
    "    </body>\n",
    "</html>'''\n",
    "bs=BeautifulSoup(html_doc,'html.parser')\n",
    "print(type(bs.title),':',bs.title)\n",
    "print(type(bs.title.name),':',bs.title.name)\n",
    "print(type(bs.title.string),':',bs.title.string)\n",
    "print('*'*20)\n",
    "\n",
    "print(type(bs.p['align']),':',bs.p['align'])\n",
    "print(type(bs.p.string),':',bs.p.string)\n",
    "print(type(bs.p.text),':',bs.p.text)\n",
    "print(type(bs.p.get_text()),':',bs.p.get_text())\n",
    "print(type(bs.p.getText()),':',bs.p.getText())\n",
    "print(type(bs.p.contents),':',bs.p.contents)\n",
    "print('*'*20)\n",
    "\n",
    "print(type(bs.img['src']),':',bs.img['src'])\n",
    "print(type(bs.img.attrs),':',bs.img.attrs)\n",
    "print('*'*20)\n",
    "\n",
    "print('bs.ul.li.strong.string',':',bs.ul.li.strong.string)\n",
    "print('bs.ul.text',':',bs.ul.text)\n",
    "print('bs.ul.get_text()',':',bs.ul.get_text())\n",
    "print('bs.ul.getText()',':',bs.ul.getText())\n",
    "print('bs.ul.contents',':',bs.ul.contents)\n",
    "print('*'*20)"
   ]
  },
  {
   "cell_type": "code",
   "execution_count": 80,
   "id": "20ae40cc-7801-4efd-98cf-9871eb73a7c3",
   "metadata": {},
   "outputs": [],
   "source": [
    "html_doc='''\n",
    "<!DOCTYPE html>\n",
    "<html>\n",
    "    <head>\n",
    "        <meta charset='utf-8'>\n",
    "        <title>Test BeautifulSoup</title>\n",
    "    </head>\n",
    "    <body>\n",
    "        <p id=\"p1\">P1 태그의 컨텐트</p>\n",
    "        <p align=\"center\">P태그의 컨텐트</p>\n",
    "        <img src=\"http://unico2013.dothome.co.kr/image/flower1.jpg\" width=\"300\">\n",
    "        <img src=\"http://unico2013.dothome.co.kr/image/flower2.png\" width=\"300\">\n",
    "        <img src=\"http://unico2013.dothome.co.kr/image/flower3.jpg\" width=\"300\">\n",
    "        <ul>\n",
    "            <li id=\"abc\">테스트1<strong>강조</strong></li>\n",
    "            <li class=\"ccc\">테스트2</li>\n",
    "            <li>테스트3</li>\n",
    "        </ul>\n",
    "    </body>\n",
    "</html>\n",
    "'''"
   ]
  },
  {
   "cell_type": "code",
   "execution_count": 27,
   "id": "d5c13f3f-b422-45e1-ba96-109b13ebfb0c",
   "metadata": {
    "collapsed": true,
    "jupyter": {
     "outputs_hidden": true
    },
    "tags": []
   },
   "outputs": [
    {
     "name": "stdout",
     "output_type": "stream",
     "text": [
      "[ string 속성 ]\n",
      "<class 'bs4.element.NavigableString'> : P태그의 컨텐트\n",
      "<class 'NoneType'> : None\n",
      "<class 'NoneType'> : None\n",
      "<class 'bs4.element.NavigableString'> : 강조\n",
      "********************\n",
      "[ text 속성 ]\n",
      "<class 'str'> : P태그의 컨텐트\n",
      "<class 'str'> : \n",
      "테스트1강조\n",
      "테스트2\n",
      "테스트3\n",
      "\n",
      "<class 'str'> : 테스트1강조\n",
      "<class 'str'> : 강조\n",
      "********************\n",
      "[ contents 속성 ]\n",
      "<class 'list'> : ['P태그의 컨텐트']\n",
      "<class 'list'> : None\n",
      "<class 'list'> : ['테스트1', <strong>강조</strong>]\n",
      "<class 'list'> : ['강조']\n",
      "********************\n",
      "[ getText() 속성 ]\n",
      "<class 'str'> : P태그의 컨텐트\n",
      "<class 'str'> : \n",
      "테스트1강조\n",
      "테스트2\n",
      "테스트3\n",
      "\n",
      "<class 'str'> : 테스트1강조\n",
      "<class 'str'> : 강조\n",
      "********************\n"
     ]
    }
   ],
   "source": [
    "bs=BeautifulSoup(html_doc, 'html.parser')\n",
    "print(\"[ string 속성 ]\")\n",
    "print(type(bs.p.string), ':', bs.p.string)\n",
    "print(type(bs.ul.string), ':', bs.ul.string)\n",
    "print(type(bs.ul.li.string), ':', bs.ul.li.string)\n",
    "print(type(bs.ul.li.strong.string), ':', bs.ul.li.strong.string)\n",
    "print('*'*20)\n",
    "\n",
    "print(\"[ text 속성 ]\")\n",
    "print(type(bs.p.text), ':', bs.p.text)\n",
    "print(type(bs.ul.text), ':', bs.ul.text)\n",
    "print(type(bs.ul.li.text), ':', bs.ul.li.text)\n",
    "print(type(bs.ul.li.strong.text), ':', bs.ul.li.strong.text)\n",
    "print('*'*20)\n",
    "\n",
    "print(\"[ contents 속성 ]\")\n",
    "print(type(bs.p.contents), ':', bs.p.contents)\n",
    "print(type(bs.ul.contents), ':', bs.ul.string)\n",
    "print(type(bs.ul.li.contents), ':', bs.ul.li.contents)\n",
    "print(type(bs.ul.li.strong.contents), ':', bs.ul.li.strong.contents)\n",
    "print('*'*20)\n",
    "\n",
    "print(\"[ getText() 속성 ]\")\n",
    "print(type(bs.p.get_text()), ':', bs.p.get_text())\n",
    "print(type(bs.ul.get_text()), ':', bs.ul.get_text())\n",
    "print(type(bs.ul.li.getText()), ':', bs.ul.li.getText())\n",
    "print(type(bs.ul.li.strong.getText()), ':', bs.ul.li.strong.getText())\n",
    "print('*'*20)"
   ]
  },
  {
   "cell_type": "code",
   "execution_count": 41,
   "id": "6b2a037f-dc64-4677-9d05-48991f97b38f",
   "metadata": {
    "collapsed": true,
    "jupyter": {
     "outputs_hidden": true
    },
    "tags": []
   },
   "outputs": [
    {
     "name": "stdout",
     "output_type": "stream",
     "text": [
      "<li>테스트1<strong>강조</strong></li>\n",
      "<li>테스트2</li>\n",
      "<li>테스트1<strong>강조</strong></li>\n",
      "parent_li1:\n",
      " <ul>\n",
      "<li>테스트1<strong>강조</strong></li>\n",
      "<li>테스트2</li>\n",
      "<li>테스트3</li>\n",
      "</ul>\n",
      "********************\n",
      "\n",
      "\n",
      "<li>테스트1<strong>강조</strong></li>\n",
      "\n",
      "\n",
      "<li>테스트2</li>\n",
      "\n",
      "\n",
      "<li>테스트3</li>\n",
      "\n",
      "\n"
     ]
    }
   ],
   "source": [
    "li1=bs.ul.li\n",
    "print(li1)\n",
    "li2=li1.next_sibling.next_sibling\n",
    "print(li2)\n",
    "#li3=li2.next_sibling.next_sibling\n",
    "#print(li3)\n",
    "prev_li2=li2.previous_sibling.previous_sibling\n",
    "print(prev_li2)\n",
    "parent_li1=li1.parent\n",
    "print(\"parent_li1:\\n\",parent_li1)\n",
    "print(\"*\"*20)\n",
    "\n",
    "ul_child=bs.ul.children\n",
    "for child in ul_child:\n",
    "    print(child)"
   ]
  },
  {
   "cell_type": "code",
   "execution_count": 82,
   "id": "4ea53c65-6a21-4357-a93a-42979fcb7e60",
   "metadata": {
    "collapsed": true,
    "jupyter": {
     "outputs_hidden": true
    },
    "tags": []
   },
   "outputs": [
    {
     "name": "stdout",
     "output_type": "stream",
     "text": [
      "[<li id=\"abc\">테스트1<strong>강조</strong></li>, <li class=\"ccc\">테스트2</li>, <li>테스트3</li>]\n",
      "[<p id=\"p1\">P1 태그의 컨텐트</p>, <p align=\"center\">P태그의 컨텐트</p>, <img src=\"http://unico2013.dothome.co.kr/image/flower1.jpg\" width=\"300\"/>, <img src=\"http://unico2013.dothome.co.kr/image/flower2.png\" width=\"300\"/>, <img src=\"http://unico2013.dothome.co.kr/image/flower3.jpg\" width=\"300\"/>]\n",
      "테스트1강조\n",
      "[<p id=\"p1\">P1 태그의 컨텐트</p>, <li id=\"abc\">테스트1<strong>강조</strong></li>]\n",
      "[<img src=\"http://unico2013.dothome.co.kr/image/flower2.png\" width=\"300\"/>]\n",
      "[<li id=\"abc\">테스트1<strong>강조</strong></li>, <li class=\"ccc\">테스트2</li>, <li>테스트3</li>]\n",
      "[<li id=\"abc\">테스트1<strong>강조</strong></li>, <li class=\"ccc\">테스트2</li>, <li>테스트3</li>]\n",
      "[<li class=\"ccc\">테스트2</li>, <li>테스트3</li>]\n",
      "[<li id=\"abc\">테스트1<strong>강조</strong></li>, <li class=\"ccc\">테스트2</li>]\n",
      "[<li class=\"ccc\">테스트2</li>]\n",
      "<li id=\"abc\">테스트1<strong>강조</strong></li>\n"
     ]
    }
   ],
   "source": [
    "import re\n",
    "bs=BeautifulSoup(html_doc, 'html.parser')\n",
    "li_list=bs.find_all('li')\n",
    "print(li_list)\n",
    "print(bs.find_all(['p','img']))\n",
    "print(bs.find_all(id='abc')[0].text)\n",
    "print(bs.find_all(id=True))\n",
    "print(bs.find_all(src=re.compile(\"png$\")))\n",
    "print(bs.find_all(re.compile(\"^l\")))\n",
    "print(bs.find_all('li',recursive=True))\n",
    "print(bs.find_all('li',text=re.compile(\"^테스트\")))\n",
    "print(bs.find_all('li',limit=2))\n",
    "print(bs.find_all(class_='ccc'))\n",
    "print(bs.find('li'))"
   ]
  },
  {
   "cell_type": "code",
   "execution_count": 84,
   "id": "de3141f6-ceff-44a5-bba7-3db4d6f80701",
   "metadata": {
    "tags": []
   },
   "outputs": [],
   "source": [
    "from urllib.request import urlopen\n",
    "from bs4 import BeautifulSoup\n",
    "\n",
    "html='''\n",
    "<html>\n",
    "    <body>\n",
    "        <h1 id=title>Hello python</h1>\n",
    "        <p id=\"body\">웹 페이지 분석</p>\n",
    "        <p>웹 스크래핑</p>\n",
    "        <span>데이터 수집1</span>\n",
    "        <span>데이터 수집2</span>\n",
    "    </body>\n",
    "</html>\n",
    "'''"
   ]
  },
  {
   "cell_type": "code",
   "execution_count": 85,
   "id": "bba0a966-7ecd-4d5d-9f28-90a59b2db969",
   "metadata": {},
   "outputs": [
    {
     "name": "stdout",
     "output_type": "stream",
     "text": [
      "#title= <h1 id=\"title\">Hello python</h1>\n",
      "#title=Hello python\n",
      "#body= <p id=\"body\">웹 페이지 분석</p>\n",
      "#body= 웹 페이지 분석\n",
      "span= 데이터 수집1\n"
     ]
    }
   ],
   "source": [
    "soup=BeautifulSoup(html,'html.parser')\n",
    "title=soup.find(id='title')\n",
    "body=soup.find(id='body')\n",
    "span=soup.find('span')\n",
    "print('#title=',title)\n",
    "print('#title='+title.string)\n",
    "print('#body=',body)\n",
    "print('#body=',body.string)\n",
    "print('span=',span.string)"
   ]
  },
  {
   "cell_type": "code",
   "execution_count": 88,
   "id": "f75fc63f-4caa-4adc-b7b7-9a4b0cb016b3",
   "metadata": {},
   "outputs": [],
   "source": [
    "html_doc='''\n",
    "<!DOCTYPE html>\n",
    "<html>\n",
    "    <head>\n",
    "        <meta charset='utf-8'>\n",
    "        <title>Test BeautifulSoup</title>\n",
    "    </head>\n",
    "    <body>\n",
    "        <p align=\"center\"> text contents </p>\n",
    "        <p align=\"right\"> text contents 2 </p>\n",
    "        <p align=\"left\"> text contents 3 </p>\n",
    "        <img src=\"http://unico2013.dothome.co.kr/image/flower.jpg\" width=\"500\">\n",
    "        <div>\n",
    "            <p>text contents 4</p> \n",
    "        </div>\n",
    "    </body>\n",
    "</html>\n",
    "'''"
   ]
  },
  {
   "cell_type": "code",
   "execution_count": 90,
   "id": "f27454a0-acc2-4e2a-86d4-70ccac7f8884",
   "metadata": {
    "collapsed": true,
    "jupyter": {
     "outputs_hidden": true
    },
    "tags": []
   },
   "outputs": [
    {
     "name": "stdout",
     "output_type": "stream",
     "text": [
      "<class 'bs4.element.Tag'>\n",
      "<class 'bs4.element.ResultSet'>\n",
      "---------------------------------\n",
      "<title>Test BeautifulSoup</title>\n",
      "<p align=\"center\"> text contents </p>\n",
      "<img src=\"http://unico2013.dothome.co.kr/image/flower.jpg\" width=\"500\"/>\n",
      "---------------------------------\n",
      "[<p align=\"center\"> text contents </p>, <p align=\"right\"> text contents 2 </p>, <p align=\"left\"> text contents 3 </p>, <p>text contents 4</p>]\n",
      "----------------\n",
      "<p align=\"center\"> text contents </p>\n",
      "<p align=\"right\"> text contents 2 </p>\n",
      "<p align=\"left\"> text contents 3 </p>\n",
      "<p>text contents 4</p>\n"
     ]
    }
   ],
   "source": [
    "from bs4 import BeautifulSoup\n",
    "bs = BeautifulSoup(html_doc, 'html.parser')\n",
    "print(type(bs.find('p')))\n",
    "print(type(bs.find_all('p')))\n",
    "print(\"---------------------------------\")\n",
    "print(bs.find('title'))\n",
    "print(bs.find('p'))\n",
    "print(bs.find('img'))\n",
    "print(\"---------------------------------\")\n",
    "ptags = bs.find_all('p')\n",
    "print(ptags)\n",
    "print(\"----------------\")\n",
    "for tag in ptags :\n",
    "    print(tag)"
   ]
  },
  {
   "cell_type": "code",
   "execution_count": 92,
   "id": "e10b24f1-6321-45b7-a69d-44ee3ec8dee6",
   "metadata": {},
   "outputs": [
    {
     "name": "stdout",
     "output_type": "stream",
     "text": [
      "<p align=\"center\"> text contents </p>\n",
      "<p align=\"right\" class=\"myp\"> text contents 2 </p>\n",
      "<p a=\"b\" align=\"left\"> text contents 3 </p>\n",
      "-------------------------------------\n",
      "<p align=\"center\"> text contents </p>\n",
      "<p align=\"right\" class=\"myp\"> text contents 2 </p>\n",
      "<p a=\"b\" align=\"left\"> text contents 3 </p>\n"
     ]
    }
   ],
   "source": [
    "html='''\n",
    "<!DOCTYPE html>\n",
    "<html>\n",
    "    <head>\n",
    "        <meta charset='utf-8'>\n",
    "        <title>Test BeautifulSoup</title>\n",
    "    </head>\n",
    "    <body>\n",
    "        <p align=\"center\"> text contents </p>\n",
    "        <p align=\"right\" class=\"myp\"> text contents 2 </p>\n",
    "        <p align=\"left\" a=\"b\"> text contents 3 </p>\n",
    "        <img src=\"http://unico2013.dothome.co.kr/image/flower.jpg\" width=\"500\">\n",
    "    </body>\n",
    "</html>\n",
    "'''\n",
    "\n",
    "from bs4 import BeautifulSoup\n",
    "bs = BeautifulSoup(html, 'html.parser')\n",
    "print(bs.find('p', align=\"center\"))\n",
    "print(bs.find('p', class_=\"myp\"))\n",
    "print(bs.find('p', align=\"left\"))\n",
    "print(\"-------------------------------------\")\n",
    "print(bs.find('p', attrs={\"align\":\"center\"}))\n",
    "print(bs.find('p', attrs={\"align\":\"right\", \"class\":\"myp\"}))\n",
    "print(bs.find('p', attrs={\"align\":\"left\"}))"
   ]
  },
  {
   "cell_type": "code",
   "execution_count": 93,
   "id": "c15acb04-6584-4302-a918-395bac9c4680",
   "metadata": {},
   "outputs": [],
   "source": [
    "from urllib.request import urlopen\n",
    "from bs4 import BeautifulSoup\n",
    "html='''\n",
    "<html>\n",
    "    <body>\n",
    "        <ul>\n",
    "            <li><a href=\"http://naver.com\">naver</a></li>\n",
    "            <li><a href=\"http://daum.net\">daum</a></li>\n",
    "            <li><a href=\"http://nate.com\">nate</a></li>\n",
    "            <li><a href=\"http://google.com\">google</a></li>\n",
    "            <li><a href=\"http://yahoo.com\">yahoo</a></li>\n",
    "        </ul>\n",
    "    </body>\n",
    "</html>\n",
    "'''"
   ]
  },
  {
   "cell_type": "code",
   "execution_count": 94,
   "id": "a2e4cfb6-3d03-4bf2-87fa-48cad361bb20",
   "metadata": {},
   "outputs": [
    {
     "name": "stdout",
     "output_type": "stream",
     "text": [
      "[<a href=\"http://naver.com\">naver</a>, <a href=\"http://daum.net\">daum</a>, <a href=\"http://nate.com\">nate</a>, <a href=\"http://google.com\">google</a>, <a href=\"http://yahoo.com\">yahoo</a>]\n",
      "<class 'bs4.element.ResultSet'>\n",
      "naver : http://naver.com\n",
      "daum : http://daum.net\n",
      "nate : http://nate.com\n",
      "google : http://google.com\n",
      "yahoo : http://yahoo.com\n"
     ]
    }
   ],
   "source": [
    "soup=BeautifulSoup(html,'html.parser')\n",
    "links=soup.find_all(\"a\")\n",
    "print(links)\n",
    "print(type(links))\n",
    "for a in links:\n",
    "    href=a.attrs['href']\n",
    "    text=a.string\n",
    "    print(text, \":\", href)"
   ]
  },
  {
   "cell_type": "code",
   "execution_count": 98,
   "id": "fc8276e6-f1e2-4a4b-87c8-039257c72651",
   "metadata": {},
   "outputs": [
    {
     "name": "stdout",
     "output_type": "stream",
     "text": [
      "기상청 육상 중기예보\n",
      "○ (강수) 30일(화) 오전에는 전국에 비, 오후에는 대부분 지역에 비 또는 눈이 오겠습니다.<br />○ (기온) 이번 예보기간 아침 기온은 -4~10도로 어제(22일, 아침최저기온 3~11도)보다 크게 낮겠고,<br />          낮 기온은 4~17도로 어제(22일, 낮최고기온 5~13도)와 비슷하거나 조금 높겠습니다. <br />○ (주말전망) 27일(토)과 28일(일)은 전국이 대체로 맑겠습니다. 아침 기온은 -4~6도, 낮 기온은 7~16도가 되겠습니다.\n"
     ]
    }
   ],
   "source": [
    "from urllib.request import urlopen\n",
    "from bs4 import BeautifulSoup\n",
    "import urllib.request as req\n",
    "\n",
    "url=\"http://www.kma.go.kr/weather/forecast/mid-term-rss3.jsp\"\n",
    "res=req.urlopen(url)\n",
    "soup=BeautifulSoup(res,'html.parser')\n",
    "title=soup.find(\"title\").string\n",
    "wf=soup.find(\"wf\").string\n",
    "print(title)\n",
    "print(wf)"
   ]
  },
  {
   "cell_type": "code",
   "execution_count": 99,
   "id": "30f7089f-dd19-4045-a9e0-bd92cdbd4f18",
   "metadata": {},
   "outputs": [],
   "source": [
    "from urllib.request import urlopen\n",
    "from bs4 import BeautifulSoup\n",
    "html='''\n",
    "<html>\n",
    "    <body>\n",
    "        <h1>테스트</h1>\n",
    "        <div>div1</div>\n",
    "        <div>div2</div>\n",
    "        <div id=\"main\">\n",
    "            <h1 i>도서 목록</h1>\n",
    "            <ul class=\"items\">\n",
    "                <li>자바 프로그래밍 입문</li>\n",
    "                <li>HTML5</li>\n",
    "                <li>Python</li>\n",
    "            </ul>\n",
    "        </div>\n",
    "    </body>\n",
    "</html>\n",
    "'''"
   ]
  },
  {
   "cell_type": "code",
   "execution_count": 100,
   "id": "42f3e9e9-a0d3-4df6-8f7b-c3e510df6a49",
   "metadata": {},
   "outputs": [
    {
     "name": "stdout",
     "output_type": "stream",
     "text": [
      "h1= 도서 목록\n",
      "li= 자바 프로그래밍 입문\n",
      "li= HTML5\n",
      "li= Python\n"
     ]
    }
   ],
   "source": [
    "soup=BeautifulSoup(html,'html.parser')\n",
    "h1=soup.select_one(\"div#main > h1\").string\n",
    "print(\"h1=\",h1)\n",
    "li_list=soup.select(\"div#main > ul.items > li\")\n",
    "for li in li_list:\n",
    "    print(\"li=\",li.string)"
   ]
  },
  {
   "cell_type": "code",
   "execution_count": 106,
   "id": "af3bf0be-e134-4543-b1f1-d9dbd3046aeb",
   "metadata": {
    "collapsed": true,
    "jupyter": {
     "outputs_hidden": true
    },
    "tags": []
   },
   "outputs": [
    {
     "name": "stdout",
     "output_type": "stream",
     "text": [
      "<class 'bytes'>\n",
      "﻿<!DOCTYPE html>\n",
      "<html>\n",
      "<head>\n",
      "<meta charset=\"UTF-8\">\n",
      "<title>Insert title here</title>\n",
      "<style>\n",
      "  h1 {\n",
      "    background-image : linear-gradient(45deg, yellow, green);\n",
      "    height : 80px;\n",
      "    text-align : center;\n",
      "    font-size : 2em;\n",
      "    padding-top : 40px;\n",
      "    width : 50%;\n",
      "    margin : 0;\n",
      "    text-shadow : 5px 5px 5px white;\t\n",
      "  }  \n",
      "  .subtitle {\n",
      "    color : #b30059;\n",
      "    background-color : pink;  \n",
      "    text-align : center;\n",
      "  }\n",
      "  #f_subtitle {\n",
      "    color : #006600;\n",
      "    background-color : yellow;  \n",
      "    text-align : center;\n",
      "  }\n",
      "  section, aside {\n",
      "    width : 50%;\n",
      "    border : 2px solid #8000ff;\n",
      "    border-radius : 20px;\n",
      "    margin-top : 10px;\n",
      "  }\n",
      "  nav {\n",
      "    margin-top : 10px;\n",
      "    text-align : center;\n",
      "    width : 50%;\n",
      "  }\n",
      "  a {\n",
      "    text-decoration : none;\n",
      "    font-weight : bold;\n",
      "  }\n",
      "  aside>ul {\n",
      "     color : #006622;\n",
      "     font-weight : bold;\n",
      "  }\n",
      "  div {\n",
      "     background-color :  #003399;\n",
      "     text-align : center;\n",
      "     color : white;\n",
      "     font-weight : bold;\n",
      "  }\n",
      "</style>\n",
      "</head>\n",
      "<body>\n",
      "<header>\n",
      "<h1>CSS 선택자 학습</h1>\n",
      "<nav>\n",
      "<a href=\"https://www.w3schools.com/\">HTML, CSS, JavaScript 학습 사이트</a>\n",
      "<a href=\"https://www.python.org/\">파이썬 학습 사이트</a>\n",
      "</nav>\n",
      "</header>\n",
      "<section>\n",
      "<h2 id=\"f_subtitle\">교육과정 소개</h2>\n",
      "<div>\n",
      "우리는 파이썬으로 데이터 수집과 전처리 그리고 분석을 학습합니다.\n",
      "<img src=\"https://www.python.org/static/img/python-logo.png\">\n",
      "</div>\n",
      "<br>\n",
      "<article>\n",
      "<h2 class=\"subtitle\">웹 클라이언트 기술</h2>\n",
      "<ul>\n",
      "<li id=\"btype\">HTML5</li>\n",
      "<li class=\"atype\">CSS3</li>\n",
      "<li>JavaScript</li>\n",
      "<li class=\"atype\">Ajax</li>\n",
      "</ul>\n",
      "</article>\n",
      "</section>\n",
      "<aside>\n",
      "<h2 class=\"subtitle\">학습 순서(수집)</h2>\n",
      "<ul>\n",
      "<li>웹 크롤링</li>\n",
      "<li>공공 DB</li>\n",
      "<li>SNS</li>\n",
      "</ul>\n",
      "</aside>\n",
      "</body>\n",
      "</html>\n"
     ]
    }
   ],
   "source": [
    "import requests\n",
    "from bs4 import BeautifulSoup\n",
    "req = requests.get('http://unico2013.dothome.co.kr/crawling/exercise_css.html')\n",
    "html=req.content\n",
    "print(type(html))\n",
    "html = html.decode('utf-8')\n",
    "print(html)"
   ]
  },
  {
   "cell_type": "code",
   "execution_count": 109,
   "id": "fc53c67e-b3ed-4228-becb-739e71875547",
   "metadata": {
    "collapsed": true,
    "jupyter": {
     "outputs_hidden": true
    },
    "tags": []
   },
   "outputs": [
    {
     "name": "stdout",
     "output_type": "stream",
     "text": [
      "<class 'bs4.element.ResultSet'>\n",
      "<class 'bs4.element.Tag'>\n",
      "<h1>태그 갯수 : 1 \n",
      "f_subtitle이라는 id 속성을 갖는 태그 갯수 : 1 \n",
      "subtitle이라는 class 속성을 갖는 태그 갯수 : 2 \n",
      "aside 태그의 <h2> 자식 태그 갯수 : 1 \n",
      "src 속성을 갖는 태그 갯수 : 1 \n",
      "CSS 선택자 학습\n",
      "********************\n",
      "교육과정 소개\n",
      "********************\n",
      "웹 클라이언트 기술\n",
      "학습 순서(수집)\n",
      "********************\n",
      "학습 순서(수집)\n",
      "********************\n",
      "https://www.python.org/static/img/python-logo.png\n",
      "********************\n"
     ]
    }
   ],
   "source": [
    "bs=BeautifulSoup(html,'html.parser')\n",
    "title=bs.select('h1')\n",
    "title1=bs.select('#f_subtitle')\n",
    "title2=bs.select('.subtitle')\n",
    "title3=bs.select('aside>h2')\n",
    "img=bs.select('[src]')\n",
    "print(type(title))\n",
    "print(type(title[0]))\n",
    "print(\"<h1>태그 갯수 : %d \" %len(title))\n",
    "print(\"f_subtitle이라는 id 속성을 갖는 태그 갯수 : %d \" %len(title1))\n",
    "print(\"subtitle이라는 class 속성을 갖는 태그 갯수 : %d \" %len(title2))\n",
    "print(\"aside 태그의 <h2> 자식 태그 갯수 : %d \" %len(title3))\n",
    "print(\"src 속성을 갖는 태그 갯수 : %d \" %len(img))\n",
    "for content in title:\n",
    "    print(content.string)\n",
    "print('*'*20)\n",
    "for content in title1:\n",
    "    print(content.text)\n",
    "print('*'*20)\n",
    "for content in title2:\n",
    "    print(content.text)\n",
    "print('*'*20)\n",
    "for content in title3:\n",
    "    print(content.text)\n",
    "print('*'*20)\n",
    "for content in img:\n",
    "    print(content[\"src\"])\n",
    "print('*'*20)"
   ]
  },
  {
   "cell_type": "code",
   "execution_count": 121,
   "id": "90f04637-a3ae-4bff-8179-6cfba0e56345",
   "metadata": {},
   "outputs": [
    {
     "name": "stdout",
     "output_type": "stream",
     "text": [
      "<!DOCTYPE html>\n",
      "<html>\n",
      "<head>\n",
      "<meta charset=\"UTF-8\">\n",
      "<title>HTML학습</title>\n",
      "</head>\n",
      "<body>\n",
      "<h1>HTML의 링크 태그</h1>\n",
      "<hr>\n",
      "<a href=\"http://www.w3.org/\">World Wide Consortium</a>\n",
      "<a href=\"http://java.sun.com/\">Java Page</a>\n",
      "<a href=\"http://www.python.org/\">Python Page</a>\n",
      "<a href=\"http://www.w3schools.com/\">Web Client 기술 학습</a>\n",
      "<hr>\n",
      "<a href=\"http://java.sun.com/\">\n",
      "                  <img src=\"http://unico2013.dothome.co.kr/image/duke.jpg\" width=\"100\"></a>\n",
      "<h2>좋아하는 색</h2>\n",
      "<ul>\n",
      "<li style=\"color:blue\">파란색</li>\n",
      "<li style=\"color:yellow\">노란색</li>\n",
      "<li style=\"color:green\">녹색</li>\n",
      "<li style=\"color:orange\">주황색</li>\n",
      "</ul>\n",
      "<h2>먹고싶은 음식</h2>\n",
      "<ol>\n",
      "<li>짜장면</li>\n",
      "<li>냉면</li>\n",
      "<li>돈까스</li>\n",
      "<li>갈비</li>\n",
      "</ol>\n",
      "<table border=\"1\">\n",
      "<tr class='name'><th>둘리</th><th>또치</th><th>도우너</th></tr>\n",
      "<tr><td>케라토사우루스</td><td>타조</td><td>외계인</td></tr>\n",
      "<tr><td>도봉구 쌍문동</td><td id='target'>아프리카</td><td>깐따삐아 별</td></tr>\n",
      "</table>\n",
      "</body>\n",
      "</html>\n",
      "\n",
      "\n",
      "\n",
      "\n",
      "\n",
      "\n",
      "\n",
      "\n",
      "\n",
      "\n",
      "\n"
     ]
    }
   ],
   "source": [
    "req = requests.get('http://unico2013.dothome.co.kr/crawling/exercise_bs.html')\n",
    "html=req.content\n",
    "html = html.decode('utf-8')\n",
    "print(html)"
   ]
  },
  {
   "cell_type": "code",
   "execution_count": 119,
   "id": "519bc9d9-dc22-447b-8502-e2ef1c160b95",
   "metadata": {},
   "outputs": [
    {
     "name": "stdout",
     "output_type": "stream",
     "text": [
      "[<h1> 태그의 콘텐츠]  HTML의 링크 태그\n",
      "[텍스트 형식으로 내용을 가지고 있는 <a> 태그의 콘텐츠와 href 속성값] \n",
      "World Wide Consortium : http://www.w3.org/\n",
      "Java Page : http://java.sun.com/\n",
      "Python Page : http://www.python.org/\n",
      "Web Client 기술 학습 : http://www.w3schools.com/\n",
      "[<img> 태그의 src 속성값]  http://unico2013.dothome.co.kr/image/duke.jpg\n",
      "[첫 번째 <h2> 태그의 콘텐츠]  좋아하는 색\n",
      "[<ul> 태그의 자식 태그들 중 style 속성의 값이 green으로 끝나는 태그의 콘텐츠]  녹색\n",
      "[두 번째 <h2> 태그의 콘텐츠]  먹고싶은 음식\n",
      "[<ul> 태그의 모든 자식 태그들의 콘텐츠 ]\n",
      "짜장면\n",
      "냉면\n",
      "돈까스\n",
      "갈비\n",
      "[<table> 태그의 모든 자손 태그들의 콘텐츠 ]\n",
      "둘리또치도우너\n",
      "케라토사우루스타조외계인\n",
      "도봉구 쌍문동아프리카깐따삐아 별\n",
      "[name이라는 클래스 속성을 갖는 <tr> 태그의 콘텐츠]  둘리또치도우너\n",
      "[target이라는 아이디 속성을 갖는 <td> 태그의 콘텐츠]  아프리카\n"
     ]
    }
   ],
   "source": [
    "import urllib.request\n",
    "from bs4 import BeautifulSoup\n",
    "url='http://unico2013.dothome.co.kr/crawling/exercise_bs.html' \n",
    "html=urllib.request.urlopen(url)\n",
    "bs=BeautifulSoup(html,'html.parser')\n",
    "print('[<h1> 태그의 콘텐츠] ',bs.select('h1')[0].text)\n",
    "print('[텍스트 형식으로 내용을 가지고 있는 <a> 태그의 콘텐츠와 href 속성값] ',)\n",
    "aTag=bs.select('a')\n",
    "for tag in aTag:\n",
    "    if(tag.text.strip()):\n",
    "        print(tag.text,':',tag['href'])\n",
    "print('[<img> 태그의 src 속성값] ',bs.select('img')[0]['src'])\n",
    "print('[첫 번째 <h2> 태그의 콘텐츠] ',bs.select('h2:nth-of-type(1)')[0].text)\n",
    "print('[<ul> 태그의 자식 태그들 중 style 속성의 값이 green으로 끝나는 태그의 콘텐츠] ',\n",
    "      bs.select('ul > li[style$=green]')[0].text)\n",
    "print('[두 번째 <h2> 태그의 콘텐츠] ',bs.select('h2:nth-of-type(2)')[0].text)\n",
    "print('[<ul> 태그의 모든 자식 태그들의 콘텐츠 ]')\n",
    "olliTag=bs.select('ol > li')\n",
    "for tag in olliTag:\n",
    "    print(tag.text)\n",
    "print('[<table> 태그의 모든 자손 태그들의 콘텐츠 ]')\n",
    "print(bs.select('table')[0].text.strip())\n",
    "print('[name이라는 클래스 속성을 갖는 <tr> 태그의 콘텐츠] ',bs.select('tr.name')[0].text)\n",
    "print('[target이라는 아이디 속성을 갖는 <td> 태그의 콘텐츠] ',bs.select('td#target')[0].text)"
   ]
  }
 ],
 "metadata": {
  "kernelspec": {
   "display_name": "Python 3",
   "language": "python",
   "name": "python3"
  },
  "language_info": {
   "codemirror_mode": {
    "name": "ipython",
    "version": 3
   },
   "file_extension": ".py",
   "mimetype": "text/x-python",
   "name": "python",
   "nbconvert_exporter": "python",
   "pygments_lexer": "ipython3",
   "version": "3.8.8"
  }
 },
 "nbformat": 4,
 "nbformat_minor": 5
}
