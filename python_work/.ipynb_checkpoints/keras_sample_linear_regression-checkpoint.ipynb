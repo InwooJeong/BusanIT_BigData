{
 "cells": [
  {
   "cell_type": "code",
   "execution_count": 4,
   "id": "f028b934-a8aa-42cf-ae98-abc5a704dc01",
   "metadata": {},
   "outputs": [],
   "source": [
    "import numpy as np\n",
    "import tensorflow as tf\n",
    "from tensorflow.keras.models import Sequential\n",
    "from tensorflow.keras.layers import Flatten, Dense\n",
    "from tensorflow.keras.optimizers import SGD"
   ]
  },
  {
   "cell_type": "code",
   "execution_count": 3,
   "id": "e6e2356c-a446-45d4-a0f1-12e4db564c37",
   "metadata": {},
   "outputs": [],
   "source": [
    "#y=Wx+b W=1,b=2\n",
    "x_data=np.array([1,2,3,4])\n",
    "t_data=np.array([3,4,5,6])"
   ]
  },
  {
   "cell_type": "code",
   "execution_count": 7,
   "id": "702b3244-4290-4bfe-aa7e-c8a0d34a916f",
   "metadata": {},
   "outputs": [],
   "source": [
    "model=Sequential() #모델\n",
    "model.add(Flatten(input_shape=(1,))) #입력층\n",
    "model.add(Dense(1,activation='linear')) #출력층\n",
    "#model.add(Dense(1, input_shape=(1,), activation='linear'))"
   ]
  },
  {
   "cell_type": "code",
   "execution_count": null,
   "id": "8a7ade24-2c57-4364-99c7-0702ae0abf6d",
   "metadata": {},
   "outputs": [],
   "source": [
    "model.compile(optimizer=SGD(learning_rate=1e-2),loss='mse')\n"
   ]
  }
 ],
 "metadata": {
  "kernelspec": {
   "display_name": "Python 3",
   "language": "python",
   "name": "python3"
  },
  "language_info": {
   "codemirror_mode": {
    "name": "ipython",
    "version": 3
   },
   "file_extension": ".py",
   "mimetype": "text/x-python",
   "name": "python",
   "nbconvert_exporter": "python",
   "pygments_lexer": "ipython3",
   "version": "3.8.8"
  }
 },
 "nbformat": 4,
 "nbformat_minor": 5
}
