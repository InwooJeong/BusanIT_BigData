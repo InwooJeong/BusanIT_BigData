{
 "cells": [
  {
   "cell_type": "code",
   "execution_count": 1,
   "id": "f15b2f36-7d63-4be8-b847-5c4b6b662975",
   "metadata": {},
   "outputs": [],
   "source": [
    "import tensorflow as tf\n",
    "import numpy as np\n",
    "from tensorflow.keras.datasets import fashion_mnist\n",
    "from tensorflow.keras.models import Sequential\n",
    "from tensorflow.keras.layers import Conv2D, MaxPool2D, Flatten, Dense, Dropout"
   ]
  },
  {
   "cell_type": "code",
   "execution_count": 2,
   "id": "c77f3bb2-6800-4b19-aed9-09c773364f21",
   "metadata": {},
   "outputs": [
    {
     "name": "stdout",
     "output_type": "stream",
     "text": [
      "(60000, 28, 28, 1) (10000, 28, 28, 1)\n",
      "(60000,) (10000,)\n"
     ]
    }
   ],
   "source": [
    "(x_train,y_train),(x_test,y_test)=fashion_mnist.load_data()\n",
    "\n",
    "x_train=x_train.reshape(-1,28,28,1)\n",
    "x_test=x_test.reshape(-1,28,28,1)\n",
    "\n",
    "print(x_train.shape,x_test.shape)\n",
    "print(y_train.shape,y_test.shape)\n",
    "\n",
    "x_train=x_train.astype(np.float32)/255.0\n",
    "x_test=x_test.astype(np.float32)/255.0"
   ]
  },
  {
   "cell_type": "code",
   "execution_count": 4,
   "id": "e01205ff-4852-4366-bfcb-7c6d5eb5ef25",
   "metadata": {},
   "outputs": [],
   "source": [
    "cnn=Sequential()\n",
    "\n",
    "cnn.add(Conv2D(input_shape=(28,28,1),kernel_size=(3,3),\n",
    "              filters=32,activation='relu'))\n",
    "cnn.add(Conv2D(kernel_size=(3,3),filters=64,activation='relu'))\n",
    "cnn.add(MaxPool2D(pool_size=(2,2)))\n",
    "cnn.add(Dropout(0.25))\n",
    "\n",
    "cnn.add(Flatten())\n",
    "\n",
    "cnn.add(Dense(128,activation='relu'))\n",
    "cnn.add(Dropout(0.5))\n",
    "cnn.add(Dense(10,activation='softmax'))"
   ]
  },
  {
   "cell_type": "code",
   "execution_count": 5,
   "id": "78437ef8-21a6-4b9a-b256-96f904fb5849",
   "metadata": {},
   "outputs": [
    {
     "name": "stdout",
     "output_type": "stream",
     "text": [
      "Model: \"sequential\"\n",
      "_________________________________________________________________\n",
      " Layer (type)                Output Shape              Param #   \n",
      "=================================================================\n",
      " conv2d (Conv2D)             (None, 26, 26, 32)        320       \n",
      "                                                                 \n",
      " conv2d_1 (Conv2D)           (None, 24, 24, 64)        18496     \n",
      "                                                                 \n",
      " max_pooling2d (MaxPooling2D  (None, 12, 12, 64)       0         \n",
      " )                                                               \n",
      "                                                                 \n",
      " dropout (Dropout)           (None, 12, 12, 64)        0         \n",
      "                                                                 \n",
      " flatten (Flatten)           (None, 9216)              0         \n",
      "                                                                 \n",
      " dense (Dense)               (None, 128)               1179776   \n",
      "                                                                 \n",
      " dropout_1 (Dropout)         (None, 128)               0         \n",
      "                                                                 \n",
      " dense_1 (Dense)             (None, 10)                1290      \n",
      "                                                                 \n",
      "=================================================================\n",
      "Total params: 1,199,882\n",
      "Trainable params: 1,199,882\n",
      "Non-trainable params: 0\n",
      "_________________________________________________________________\n"
     ]
    }
   ],
   "source": [
    "cnn.compile(loss='sparse_categorical_crossentropy',optimizer=tf.keras.optimizers.Adam(),metrics=['accuracy'])\n",
    "\n",
    "cnn.summary()"
   ]
  },
  {
   "cell_type": "code",
   "execution_count": 7,
   "id": "ea3beeb4-0faf-4e80-bb90-26026711a016",
   "metadata": {},
   "outputs": [
    {
     "name": "stdout",
     "output_type": "stream",
     "text": [
      "Epoch 1/30\n",
      "469/469 [==============================] - 50s 106ms/step - loss: 0.5408 - accuracy: 0.8098 - val_loss: 0.3395 - val_accuracy: 0.8770\n",
      "Epoch 2/30\n",
      "469/469 [==============================] - 49s 105ms/step - loss: 0.3488 - accuracy: 0.8753 - val_loss: 0.2896 - val_accuracy: 0.8922\n",
      "Epoch 3/30\n",
      "469/469 [==============================] - 50s 106ms/step - loss: 0.3003 - accuracy: 0.8929 - val_loss: 0.2658 - val_accuracy: 0.9027\n",
      "Epoch 4/30\n",
      "469/469 [==============================] - 49s 104ms/step - loss: 0.2680 - accuracy: 0.9028 - val_loss: 0.2447 - val_accuracy: 0.9111\n",
      "Epoch 5/30\n",
      "469/469 [==============================] - 49s 105ms/step - loss: 0.2447 - accuracy: 0.9112 - val_loss: 0.2316 - val_accuracy: 0.9153\n",
      "Epoch 6/30\n",
      "469/469 [==============================] - 48s 103ms/step - loss: 0.2231 - accuracy: 0.9191 - val_loss: 0.2332 - val_accuracy: 0.9133\n",
      "Epoch 7/30\n",
      "469/469 [==============================] - 48s 103ms/step - loss: 0.2055 - accuracy: 0.9234 - val_loss: 0.2330 - val_accuracy: 0.9154\n",
      "Epoch 8/30\n",
      "469/469 [==============================] - 48s 103ms/step - loss: 0.1907 - accuracy: 0.9297 - val_loss: 0.2142 - val_accuracy: 0.9243\n",
      "Epoch 9/30\n",
      "469/469 [==============================] - 50s 107ms/step - loss: 0.1813 - accuracy: 0.9331 - val_loss: 0.2151 - val_accuracy: 0.9213\n",
      "Epoch 10/30\n",
      "469/469 [==============================] - 54s 115ms/step - loss: 0.1713 - accuracy: 0.9356 - val_loss: 0.2175 - val_accuracy: 0.9251\n",
      "Epoch 11/30\n",
      "469/469 [==============================] - 46s 99ms/step - loss: 0.1573 - accuracy: 0.9411 - val_loss: 0.2095 - val_accuracy: 0.9269\n",
      "Epoch 12/30\n",
      "469/469 [==============================] - 48s 103ms/step - loss: 0.1460 - accuracy: 0.9461 - val_loss: 0.2191 - val_accuracy: 0.9258\n",
      "Epoch 13/30\n",
      "469/469 [==============================] - 48s 101ms/step - loss: 0.1406 - accuracy: 0.9466 - val_loss: 0.2223 - val_accuracy: 0.9256\n",
      "Epoch 14/30\n",
      "469/469 [==============================] - 50s 106ms/step - loss: 0.1326 - accuracy: 0.9502 - val_loss: 0.2266 - val_accuracy: 0.9230\n",
      "Epoch 15/30\n",
      "469/469 [==============================] - 51s 109ms/step - loss: 0.1243 - accuracy: 0.9516 - val_loss: 0.2360 - val_accuracy: 0.9288\n",
      "Epoch 16/30\n",
      "469/469 [==============================] - 50s 107ms/step - loss: 0.1190 - accuracy: 0.9553 - val_loss: 0.2194 - val_accuracy: 0.9313\n",
      "Epoch 17/30\n",
      "469/469 [==============================] - 50s 106ms/step - loss: 0.1147 - accuracy: 0.9563 - val_loss: 0.2276 - val_accuracy: 0.9299\n",
      "Epoch 18/30\n",
      "469/469 [==============================] - 74s 159ms/step - loss: 0.1105 - accuracy: 0.9577 - val_loss: 0.2404 - val_accuracy: 0.9289\n",
      "Epoch 19/30\n",
      "469/469 [==============================] - 91s 194ms/step - loss: 0.1035 - accuracy: 0.9606 - val_loss: 0.2269 - val_accuracy: 0.9332\n",
      "Epoch 20/30\n",
      "469/469 [==============================] - 90s 192ms/step - loss: 0.0998 - accuracy: 0.9617 - val_loss: 0.2308 - val_accuracy: 0.9325\n",
      "Epoch 21/30\n",
      "469/469 [==============================] - 96s 205ms/step - loss: 0.0976 - accuracy: 0.9627 - val_loss: 0.2404 - val_accuracy: 0.9315\n",
      "Epoch 22/30\n",
      "469/469 [==============================] - 91s 194ms/step - loss: 0.0925 - accuracy: 0.9652 - val_loss: 0.2561 - val_accuracy: 0.9310\n",
      "Epoch 23/30\n",
      "469/469 [==============================] - 90s 192ms/step - loss: 0.0900 - accuracy: 0.9646 - val_loss: 0.2604 - val_accuracy: 0.9300\n",
      "Epoch 24/30\n",
      "469/469 [==============================] - 91s 195ms/step - loss: 0.0868 - accuracy: 0.9664 - val_loss: 0.2683 - val_accuracy: 0.9287\n",
      "Epoch 25/30\n",
      "469/469 [==============================] - 92s 196ms/step - loss: 0.0784 - accuracy: 0.9699 - val_loss: 0.2652 - val_accuracy: 0.9308\n",
      "Epoch 29/30\n",
      "469/469 [==============================] - 87s 185ms/step - loss: 0.0739 - accuracy: 0.9718 - val_loss: 0.2658 - val_accuracy: 0.9333\n"
     ]
    }
   ],
   "source": [
    "hist=cnn.fit(x_train,y_train,batch_size=128,epochs=30,validation_data=(x_test,y_test))"
   ]
  },
  {
   "cell_type": "code",
   "execution_count": 8,
   "id": "f85fe031-cfee-478d-ac13-d5083d8be9f5",
   "metadata": {},
   "outputs": [
    {
     "name": "stdout",
     "output_type": "stream",
     "text": [
      "313/313 [==============================] - 2s 7ms/step - loss: 0.2658 - accuracy: 0.9333\n"
     ]
    },
    {
     "data": {
      "text/plain": [
       "[0.2657819390296936, 0.9333000183105469]"
      ]
     },
     "execution_count": 8,
     "metadata": {},
     "output_type": "execute_result"
    }
   ],
   "source": [
    "cnn.evaluate(x_test,y_test)"
   ]
  },
  {
   "cell_type": "code",
   "execution_count": 10,
   "id": "8af4f4d6-35de-45d5-914d-f024d778f195",
   "metadata": {},
   "outputs": [
    {
     "data": {
      "image/png": "[encoded data removed]",
      "text/plain": [
       "<Figure size 432x288 with 1 Axes>"
      ]
     },
     "metadata": {
      "needs_background": "light"
     },
     "output_type": "display_data"
    }
   ],
   "source": [
    "import matplotlib.pyplot as plt\n",
    "\n",
    "plt.plot(hist.history['accuracy'])\n",
    "plt.plot(hist.history['val_accuracy'])\n",
    "plt.title('Accuracy Trend')\n",
    "plt.xlabel('epoch')\n",
    "plt.ylabel('accuracy')\n",
    "plt.legend(['train','validation'],loc='best')\n",
    "plt.grid()\n",
    "plt.show()"
   ]
  },
  {
   "cell_type": "code",
   "execution_count": 11,
   "id": "a1f02255-0338-42ca-815b-47c3ceb80cad",
   "metadata": {},
   "outputs": [
    {
     "data": {
      "image/png": "[encoded data removed]",
      "text/plain": [
       "<Figure size 432x288 with 1 Axes>"
      ]
     },
     "metadata": {
      "needs_background": "light"
     },
     "output_type": "display_data"
    }
   ],
   "source": [
    "plt.plot(hist.history['loss'])\n",
    "plt.plot(hist.history['val_loss'])\n",
    "plt.title('Loss Trend')\n",
    "plt.xlabel('epoch')\n",
    "plt.ylabel('loss')\n",
    "plt.legend(['train','validation'],loc='best')\n",
    "plt.grid()\n",
    "plt.show()"
   ]
  }
 ],
 "metadata": {
  "kernelspec": {
   "display_name": "Python 3",
   "language": "python",
   "name": "python3"
  },
  "language_info": {
   "codemirror_mode": {
    "name": "ipython",
    "version": 3
   },
   "file_extension": ".py",
   "mimetype": "text/x-python",
   "name": "python",
   "nbconvert_exporter": "python",
   "pygments_lexer": "ipython3",
   "version": "3.8.8"
  }
 },
 "nbformat": 4,
 "nbformat_minor": 5
}
