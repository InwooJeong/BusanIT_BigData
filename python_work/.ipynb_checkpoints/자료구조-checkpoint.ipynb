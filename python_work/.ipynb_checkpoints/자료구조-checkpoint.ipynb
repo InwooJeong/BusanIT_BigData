{
 "cells": [
  {
   "cell_type": "code",
   "execution_count": 20,
   "id": "2774e8d0-10b9-4988-b002-5dcde4dd4117",
   "metadata": {},
   "outputs": [
    {
     "name": "stdout",
     "output_type": "stream",
     "text": [
      "[1, 2, 3, 4]\n"
     ]
    }
   ],
   "source": [
    "a=[1]\n",
    "a.append(2)\n",
    "a.append(3)\n",
    "a.append(4)\n",
    "print(a)"
   ]
  },
  {
   "cell_type": "code",
   "execution_count": 5,
   "id": "57d8b2bd-de7c-456b-991c-b7d2623d65e7",
   "metadata": {},
   "outputs": [
    {
     "data": {
      "text/plain": [
       "4"
      ]
     },
     "execution_count": 5,
     "metadata": {},
     "output_type": "execute_result"
    }
   ],
   "source": [
    "a.pop()"
   ]
  },
  {
   "cell_type": "code",
   "execution_count": 10,
   "id": "14d88a82-c14e-4a1b-bf1c-b265f89baa72",
   "metadata": {},
   "outputs": [
    {
     "name": "stdout",
     "output_type": "stream",
     "text": [
      "[1]\n"
     ]
    }
   ],
   "source": [
    "print(a)"
   ]
  },
  {
   "cell_type": "code",
   "execution_count": 9,
   "id": "cd96661c-c864-42c9-9f70-8e0f5d2974eb",
   "metadata": {},
   "outputs": [
    {
     "data": {
      "text/plain": [
       "2"
      ]
     },
     "execution_count": 9,
     "metadata": {},
     "output_type": "execute_result"
    }
   ],
   "source": [
    "a.pop()"
   ]
  },
  {
   "cell_type": "code",
   "execution_count": 15,
   "id": "8fd472eb-043c-4d35-aeba-7f47649a7ce6",
   "metadata": {},
   "outputs": [
    {
     "name": "stdin",
     "output_type": "stream",
     "text": [
      "input a word :  python\n"
     ]
    },
    {
     "name": "stdout",
     "output_type": "stream",
     "text": [
      "python\n",
      "['p', 'y', 't', 'h', 'o', 'n']\n"
     ]
    }
   ],
   "source": [
    "word=input(\"input a word : \")\n",
    "print(word)\n",
    "word_list=list(word)\n",
    "print(word_list)"
   ]
  },
  {
   "cell_type": "code",
   "execution_count": 17,
   "id": "cbf7ae6e-0b30-4db5-985a-07027384a630",
   "metadata": {},
   "outputs": [
    {
     "name": "stdout",
     "output_type": "stream",
     "text": [
      "['n', 'o', 'h', 't', 'y', 'p']\n"
     ]
    }
   ],
   "source": [
    "result=[]\n",
    "for _ in range(len(word_list)):\n",
    "    result.append(word_list.pop())\n",
    "\n",
    "print(result)"
   ]
  },
  {
   "cell_type": "code",
   "execution_count": 18,
   "id": "8d95e332-9242-4a34-ad43-6988da5a9cb3",
   "metadata": {},
   "outputs": [
    {
     "name": "stdout",
     "output_type": "stream",
     "text": [
      "[]\n"
     ]
    }
   ],
   "source": [
    "print(word_list[::-1])"
   ]
  },
  {
   "cell_type": "code",
   "execution_count": 22,
   "id": "2b1866d3-c2f5-435d-b948-41dca2f7f2b3",
   "metadata": {},
   "outputs": [
    {
     "data": {
      "text/plain": [
       "2"
      ]
     },
     "execution_count": 22,
     "metadata": {},
     "output_type": "execute_result"
    }
   ],
   "source": [
    "a.pop(0)"
   ]
  },
  {
   "cell_type": "code",
   "execution_count": 23,
   "id": "de7d67c2-8b14-4ff2-9f0e-584a2fb7a44b",
   "metadata": {},
   "outputs": [
    {
     "name": "stdout",
     "output_type": "stream",
     "text": [
      "[3, 4]\n"
     ]
    }
   ],
   "source": [
    "print(a)"
   ]
  },
  {
   "cell_type": "code",
   "execution_count": 24,
   "id": "c605fd92-8f95-457d-b203-887c7da85a23",
   "metadata": {},
   "outputs": [],
   "source": [
    "a=[1,2,3,4]\n",
    "a[0]=10"
   ]
  },
  {
   "cell_type": "code",
   "execution_count": 25,
   "id": "5d1a9ece-7cbb-4c87-9649-cb1a5030db92",
   "metadata": {},
   "outputs": [
    {
     "data": {
      "text/plain": [
       "[10, 2, 3, 4]"
      ]
     },
     "execution_count": 25,
     "metadata": {},
     "output_type": "execute_result"
    }
   ],
   "source": [
    "a"
   ]
  },
  {
   "cell_type": "code",
   "execution_count": 27,
   "id": "b6686647-59a9-46fc-b8f0-2515565a0aad",
   "metadata": {},
   "outputs": [
    {
     "name": "stdout",
     "output_type": "stream",
     "text": [
      "(1, 2, 3, 4)\n"
     ]
    }
   ],
   "source": [
    "t=(1,2,3,4)\n",
    "print(t)"
   ]
  },
  {
   "cell_type": "code",
   "execution_count": 30,
   "id": "8be18af9-011d-4530-b89a-9de1a4cd4e61",
   "metadata": {
    "tags": []
   },
   "outputs": [
    {
     "name": "stdout",
     "output_type": "stream",
     "text": [
      "[10, 2, 3, 4, 10]\n"
     ]
    }
   ],
   "source": [
    "a.append(10)\n",
    "print(a)"
   ]
  },
  {
   "cell_type": "code",
   "execution_count": 35,
   "id": "f6e68172-b46e-475a-a811-195a2799faad",
   "metadata": {},
   "outputs": [
    {
     "name": "stdout",
     "output_type": "stream",
     "text": [
      "(1, 2, 3, 4, 1, 2, 3, 4)\n",
      "(1, 2, 3, 4, 1, 2, 3, 4, 1, 2, 3, 4)\n",
      "4\n"
     ]
    }
   ],
   "source": [
    "print(t+t)\n",
    "print(t*3)\n",
    "print(len(t))"
   ]
  },
  {
   "cell_type": "code",
   "execution_count": 36,
   "id": "05e656b8-73d0-4a8b-8c3d-882a2df5d42b",
   "metadata": {},
   "outputs": [
    {
     "data": {
      "text/plain": [
       "(10, 2, 3, 4, 10)"
      ]
     },
     "execution_count": 36,
     "metadata": {},
     "output_type": "execute_result"
    }
   ],
   "source": [
    "t1=tuple(a)\n",
    "t1"
   ]
  },
  {
   "cell_type": "code",
   "execution_count": 42,
   "id": "bda42e68-9905-42bd-89e7-09d4a083688e",
   "metadata": {},
   "outputs": [
    {
     "name": "stdout",
     "output_type": "stream",
     "text": [
      "{3, 10, 2, 4}\n",
      "{1, 2, 3, 4, 10}\n"
     ]
    }
   ],
   "source": [
    "s=set(a)\n",
    "print(s)\n",
    "s.add(1)\n",
    "print(s)"
   ]
  },
  {
   "cell_type": "code",
   "execution_count": 43,
   "id": "69be619e-2065-4d86-90f5-a5aaaa63a677",
   "metadata": {},
   "outputs": [
    {
     "name": "stdout",
     "output_type": "stream",
     "text": [
      "{2, 3, 4, 10}\n"
     ]
    }
   ],
   "source": [
    "s.remove(1)\n",
    "print(s)"
   ]
  },
  {
   "cell_type": "code",
   "execution_count": 44,
   "id": "14eb800c-ab7a-439e-918a-44d17d9cc37e",
   "metadata": {},
   "outputs": [
    {
     "name": "stdout",
     "output_type": "stream",
     "text": [
      "{2, 3, 4, 6, 7, 10}\n"
     ]
    }
   ],
   "source": [
    "s.update([3,6,7])\n",
    "print(s)"
   ]
  },
  {
   "cell_type": "code",
   "execution_count": 45,
   "id": "23fcb05d-47ba-4f82-876b-bb82aafb28d2",
   "metadata": {},
   "outputs": [
    {
     "data": {
      "text/plain": [
       "{2, 3, 4, 6, 7}"
      ]
     },
     "execution_count": 45,
     "metadata": {},
     "output_type": "execute_result"
    }
   ],
   "source": [
    "s.discard(10)\n",
    "s"
   ]
  },
  {
   "cell_type": "code",
   "execution_count": 46,
   "id": "95515470-891d-4c0a-9f9a-6addcf5ae96d",
   "metadata": {},
   "outputs": [
    {
     "data": {
      "text/plain": [
       "set()"
      ]
     },
     "execution_count": 46,
     "metadata": {},
     "output_type": "execute_result"
    }
   ],
   "source": [
    "s.clear()\n",
    "s"
   ]
  },
  {
   "cell_type": "code",
   "execution_count": 54,
   "id": "8ff4f211-a57d-4318-b6fb-f313b0879f2e",
   "metadata": {},
   "outputs": [],
   "source": [
    "s1=set([1,2,3,4,5])\n",
    "s2=set([3,4,5,6,7])"
   ]
  },
  {
   "cell_type": "code",
   "execution_count": 50,
   "id": "81d8606c-8e65-4385-a7d1-28ce79d3b9ad",
   "metadata": {},
   "outputs": [
    {
     "name": "stdout",
     "output_type": "stream",
     "text": [
      "{1, 2, 3, 4, 5, 6, 7}\n",
      "{1, 2, 3, 4, 5, 6, 7}\n"
     ]
    }
   ],
   "source": [
    "print(s1.union(s2))\n",
    "print(s1 | s2)"
   ]
  },
  {
   "cell_type": "code",
   "execution_count": 51,
   "id": "6fe7fb20-49c9-4b43-81eb-7bd0771ba502",
   "metadata": {},
   "outputs": [
    {
     "name": "stdout",
     "output_type": "stream",
     "text": [
      "{3, 4, 5}\n",
      "{3, 4, 5}\n"
     ]
    }
   ],
   "source": [
    "print(s1.intersection(s2))\n",
    "print(s1 & s2)"
   ]
  },
  {
   "cell_type": "code",
   "execution_count": 56,
   "id": "d8a7205c-a531-4cd7-9475-e77827522519",
   "metadata": {},
   "outputs": [
    {
     "name": "stdout",
     "output_type": "stream",
     "text": [
      "{1, 2}\n",
      "{1, 2}\n"
     ]
    }
   ],
   "source": [
    "print(s1.difference(s2))\n",
    "print(s1 - s2)"
   ]
  },
  {
   "cell_type": "code",
   "execution_count": 69,
   "id": "6db2aa61-73cb-4691-a648-ae619631b284",
   "metadata": {},
   "outputs": [],
   "source": [
    "score={\"홍길동\":80,\"이순신\":100,\"김유신\":90,\"김춘추\":50,\"릴케\":60}"
   ]
  },
  {
   "cell_type": "code",
   "execution_count": 70,
   "id": "3736747a-0c7e-4fb0-9b80-71155c6004c8",
   "metadata": {},
   "outputs": [
    {
     "data": {
      "text/plain": [
       "{'홍길동': 80, '이순신': 100, '김유신': 90, '김춘추': 50, '릴케': 60, '장보고': 77}"
      ]
     },
     "execution_count": 70,
     "metadata": {},
     "output_type": "execute_result"
    }
   ],
   "source": [
    "score['장보고']=77\n",
    "score"
   ]
  },
  {
   "cell_type": "code",
   "execution_count": 71,
   "id": "db14bbdf-c6e5-451a-9d94-c925348fd615",
   "metadata": {},
   "outputs": [
    {
     "name": "stdout",
     "output_type": "stream",
     "text": [
      "dict_keys(['홍길동', '이순신', '김유신', '김춘추', '릴케', '장보고'])\n",
      "dict_values([80, 100, 90, 50, 60, 77])\n",
      "dict_items([('홍길동', 80), ('이순신', 100), ('김유신', 90), ('김춘추', 50), ('릴케', 60), ('장보고', 77)])\n"
     ]
    }
   ],
   "source": [
    "print(score.keys())\n",
    "print(score.values())\n",
    "print(score.items())"
   ]
  },
  {
   "cell_type": "code",
   "execution_count": 72,
   "id": "f677a367-368b-4e18-bd70-29f27e975031",
   "metadata": {},
   "outputs": [
    {
     "name": "stdout",
     "output_type": "stream",
     "text": [
      "홍길동 80\n",
      "이순신 100\n",
      "김유신 90\n",
      "김춘추 50\n",
      "릴케 60\n",
      "장보고 77\n"
     ]
    }
   ],
   "source": [
    "for k, v in score.items():\n",
    "    print(k,v)"
   ]
  },
  {
   "cell_type": "code",
   "execution_count": 73,
   "id": "46c8f577-71e8-4fac-bc60-3dd6a7d376d0",
   "metadata": {},
   "outputs": [
    {
     "data": {
      "text/plain": [
       "True"
      ]
     },
     "execution_count": 73,
     "metadata": {},
     "output_type": "execute_result"
    }
   ],
   "source": [
    "\"홍길동\" in score.keys()"
   ]
  },
  {
   "cell_type": "code",
   "execution_count": 79,
   "id": "9d74823f-8ca8-4c8a-b5bb-cbac5a81c911",
   "metadata": {},
   "outputs": [],
   "source": [
    "from collections import deque"
   ]
  },
  {
   "cell_type": "code",
   "execution_count": 84,
   "id": "ff4cc618-5299-44c1-b65e-e22e344314d0",
   "metadata": {},
   "outputs": [
    {
     "name": "stdout",
     "output_type": "stream",
     "text": [
      "deque([1, 2, 3, 4, 5])\n"
     ]
    }
   ],
   "source": [
    "deque_list=deque()\n",
    "for i in range(1,6,1):\n",
    "    deque_list.append(i)\n",
    "else:\n",
    "    deque_list\n",
    "\n",
    "print(deque_list)"
   ]
  },
  {
   "cell_type": "code",
   "execution_count": 83,
   "id": "5ae25ee7-2c6a-4646-ae81-75e1b095119f",
   "metadata": {},
   "outputs": [
    {
     "name": "stdout",
     "output_type": "stream",
     "text": [
      "5\n",
      "deque([1, 2, 3, 4])\n"
     ]
    }
   ],
   "source": [
    "print(deque_list.pop())\n",
    "print(deque_list)"
   ]
  },
  {
   "cell_type": "code",
   "execution_count": 85,
   "id": "109d13d1-66a0-438c-a9ce-dd1ee1ae2f65",
   "metadata": {},
   "outputs": [
    {
     "name": "stdout",
     "output_type": "stream",
     "text": [
      "deque([5, 4, 3, 2, 1])\n"
     ]
    }
   ],
   "source": [
    "deque_list=deque()\n",
    "for i in range(1,6,1):\n",
    "    deque_list.appendleft(i)\n",
    "else:\n",
    "    deque_list\n",
    "\n",
    "print(deque_list)"
   ]
  },
  {
   "cell_type": "code",
   "execution_count": 86,
   "id": "7ff354d3-dff1-491e-aca4-0364f46ff6d5",
   "metadata": {},
   "outputs": [
    {
     "name": "stdout",
     "output_type": "stream",
     "text": [
      "1\n",
      "deque([5, 4, 3, 2])\n"
     ]
    }
   ],
   "source": [
    "print(deque_list.pop())\n",
    "print(deque_list)"
   ]
  },
  {
   "cell_type": "code",
   "execution_count": 100,
   "id": "49a62058-3914-4e0b-9197-cffcfff1f213",
   "metadata": {},
   "outputs": [
    {
     "name": "stdout",
     "output_type": "stream",
     "text": [
      "deque([0, 1, 2, 3, 4, 5, 6, 7, 8, 9])\n"
     ]
    }
   ],
   "source": [
    "deque_list2=deque()\n",
    "for i in range(10):\n",
    "    deque_list2.append(i)\n",
    "    \n",
    "print(deque_list2)"
   ]
  },
  {
   "cell_type": "code",
   "execution_count": 101,
   "id": "967e9fd5-030d-4cbd-8f4d-617151b9a461",
   "metadata": {},
   "outputs": [
    {
     "name": "stdout",
     "output_type": "stream",
     "text": [
      "deque([0, 1, 2, 3, 4, 5, 6, 7, 8, 9, 10])\n"
     ]
    }
   ],
   "source": [
    "deque_list2.append(10)\n",
    "print(deque_list2)"
   ]
  },
  {
   "cell_type": "code",
   "execution_count": 103,
   "id": "5ff88861-9cac-43b7-91e3-48609487d08a",
   "metadata": {},
   "outputs": [
    {
     "name": "stdout",
     "output_type": "stream",
     "text": [
      "deque([12, 11, 0, 1, 2, 3, 4, 5, 6, 7, 8, 9, 10, 11, 12])\n"
     ]
    }
   ],
   "source": [
    "deque_list2.extendleft([11,12])\n",
    "print(deque_list2)"
   ]
  },
  {
   "cell_type": "code",
   "execution_count": 98,
   "id": "9305844d-d190-41a8-ba7b-2ef69889800b",
   "metadata": {},
   "outputs": [
    {
     "data": {
      "text/plain": [
       "deque([2, 1, 0, 9, 8, 7, 6, 5, 4, 3])"
      ]
     },
     "execution_count": 98,
     "metadata": {},
     "output_type": "execute_result"
    }
   ],
   "source": [
    "deque(reversed(deque_list2))"
   ]
  },
  {
   "cell_type": "code",
   "execution_count": 97,
   "id": "40c1e9b0-f0e8-4449-be92-6ad43d594c0a",
   "metadata": {},
   "outputs": [
    {
     "name": "stdout",
     "output_type": "stream",
     "text": [
      "None\n",
      "deque([3, 4, 5, 6, 7, 8, 9, 0, 1, 2])\n"
     ]
    }
   ],
   "source": [
    "print(deque_list2.rotate(-1))\n",
    "print(deque_list2)"
   ]
  },
  {
   "cell_type": "code",
   "execution_count": 105,
   "id": "8c01fef7-9c0d-4a3c-baea-081319313172",
   "metadata": {},
   "outputs": [],
   "source": [
    "from collections import OrderedDict"
   ]
  },
  {
   "cell_type": "code",
   "execution_count": 114,
   "id": "03eb23ca-0277-4d85-a636-65037c2ee433",
   "metadata": {},
   "outputs": [],
   "source": [
    "def sort_by_key(t):\n",
    "    return t[0]"
   ]
  },
  {
   "cell_type": "code",
   "execution_count": 108,
   "id": "cff39776-8675-4d54-b7ca-531a14245332",
   "metadata": {},
   "outputs": [
    {
     "data": {
      "text/plain": [
       "OrderedDict([('x', 100), ('l', 500), ('y', 200), ('z', 300)])"
      ]
     },
     "execution_count": 108,
     "metadata": {},
     "output_type": "execute_result"
    }
   ],
   "source": [
    "d=OrderedDict()\n",
    "d['x']=100\n",
    "d['l']=500\n",
    "d['y']=200\n",
    "d['z']=300\n",
    "d"
   ]
  },
  {
   "cell_type": "code",
   "execution_count": 115,
   "id": "07ddf22e-0867-4780-aaa5-d0a9aaf9e05d",
   "metadata": {},
   "outputs": [
    {
     "data": {
      "text/plain": [
       "OrderedDict([('l', 500), ('x', 100), ('y', 200), ('z', 300)])"
      ]
     },
     "execution_count": 115,
     "metadata": {},
     "output_type": "execute_result"
    }
   ],
   "source": [
    "ord_d=OrderedDict(sorted(d.items(), key=sort_by_key))\n",
    "ord_d"
   ]
  },
  {
   "cell_type": "code",
   "execution_count": 121,
   "id": "e59e9de0-af0a-4fc7-a94a-588e095c1852",
   "metadata": {},
   "outputs": [
    {
     "data": {
      "text/plain": [
       "OrderedDict([('김유신', 90),\n",
       "             ('김춘추', 50),\n",
       "             ('릴케', 60),\n",
       "             ('이순신', 100),\n",
       "             ('장보고', 77),\n",
       "             ('홍길동', 80)])"
      ]
     },
     "execution_count": 121,
     "metadata": {},
     "output_type": "execute_result"
    }
   ],
   "source": [
    "ord_score=OrderedDict(sorted(score.items(),key=sort_by_key))\n",
    "ord_score"
   ]
  },
  {
   "cell_type": "code",
   "execution_count": 112,
   "id": "5d79e982-9579-425a-88ea-27ee0ca2d341",
   "metadata": {},
   "outputs": [
    {
     "name": "stdout",
     "output_type": "stream",
     "text": [
      "x 100\n",
      "y 200\n",
      "z 300\n",
      "l 500\n"
     ]
    }
   ],
   "source": [
    "for k,v in OrderedDict(sorted(d.items(), key=sort_by_key)).items():\n",
    "    print(k, v)"
   ]
  },
  {
   "cell_type": "code",
   "execution_count": 123,
   "id": "628c5d9a-20c2-4daf-8724-6ab48724492b",
   "metadata": {},
   "outputs": [
    {
     "name": "stdout",
     "output_type": "stream",
     "text": [
      "{}\n"
     ]
    }
   ],
   "source": [
    "d1=dict()\n",
    "print(d1['aa'])"
   ]
  },
  {
   "cell_type": "code",
   "execution_count": 129,
   "id": "4df0fb38-a959-413e-abea-10ca8de5f047",
   "metadata": {},
   "outputs": [],
   "source": [
    "from collections import defaultdict"
   ]
  },
  {
   "cell_type": "code",
   "execution_count": 125,
   "id": "d1b0f482-ed74-49a3-b0f9-f8c3c2e15663",
   "metadata": {},
   "outputs": [
    {
     "name": "stdout",
     "output_type": "stream",
     "text": [
      "0\n"
     ]
    }
   ],
   "source": [
    "d=defaultdict(lambda:0)\n",
    "print(d['aa'])"
   ]
  },
  {
   "cell_type": "code",
   "execution_count": 138,
   "id": "b408d728-8794-4d03-a036-6502aec61eb8",
   "metadata": {},
   "outputs": [],
   "source": [
    "from collections import Counter"
   ]
  },
  {
   "cell_type": "code",
   "execution_count": 143,
   "id": "a355adff-e6de-4e7c-a5ff-93bbebb967b0",
   "metadata": {},
   "outputs": [
    {
     "name": "stdout",
     "output_type": "stream",
     "text": [
      "['p', 'y', 't', 'h', 'o', 'n', ' ', 'p', 'r', 'o', 'g', 'r', 'a', 'm', 'm', 'i', 'n', 'g']\n",
      "Counter({'p': 2, 'o': 2, 'n': 2, 'r': 2, 'g': 2, 'm': 2, 'y': 1, 't': 1, 'h': 1, ' ': 1, 'a': 1, 'i': 1})\n"
     ]
    }
   ],
   "source": [
    "text=list('python programming')\n",
    "print(text)\n",
    "c=Counter(text)\n",
    "print(c)"
   ]
  },
  {
   "cell_type": "code",
   "execution_count": 147,
   "id": "8d3c669f-f90a-41c7-ae92-29b271647d3c",
   "metadata": {},
   "outputs": [],
   "source": [
    "text='''\n",
    "The head of the Women's Tennis Association has cast doubt on an email claiming to be from Chinese tennis star Peng Shuai, saying it only raises further concerns for her safety.\n",
    "\n",
    "China's state-owned television broadcaster CGTN released the email, purportedly from Peng, in the early hours of Wednesday morning local time, amid growing international concern for her whereabouts.\n",
    "The email -- which has not been verified by CNN -- claimed Peng is fine and appears to walk back her sexual allegations against a former top Communist Party leader. It was sent to the WTA Chairman and CEO Steve Simon, CGTN reported.\n",
    "\n",
    "Simon has said he doubts the email is authentic.\n",
    "\"The statement released today by Chinese state media concerning Peng Shuai only raises my concerns as to her safety and whereabouts,\" Simon said in a statement, \"I have a hard time believing that Peng Shuai actually wrote the email we received or believes what is being attributed to her.\"\n",
    "He added: \"Peng Shuai must be allowed to speak freely, without coercion or intimidation from any source. Her allegation of sexual assault must be respected, investigated with full transparency and without censorship.\"\n",
    "'''"
   ]
  },
  {
   "cell_type": "code",
   "execution_count": 148,
   "id": "e3c026e1-45fe-4dd7-b193-d8d377c55345",
   "metadata": {},
   "outputs": [
    {
     "name": "stdout",
     "output_type": "stream",
     "text": [
      "['the', 'head', 'of', 'the', \"women's\", 'tennis', 'association', 'has', 'cast', 'doubt', 'on', 'an', 'email', 'claiming', 'to', 'be', 'from', 'chinese', 'tennis', 'star', 'peng', 'shuai,', 'saying', 'it', 'only', 'raises', 'further', 'concerns', 'for', 'her', 'safety.', \"china's\", 'state-owned', 'television', 'broadcaster', 'cgtn', 'released', 'the', 'email,', 'purportedly', 'from', 'peng,', 'in', 'the', 'early', 'hours', 'of', 'wednesday', 'morning', 'local', 'time,', 'amid', 'growing', 'international', 'concern', 'for', 'her', 'whereabouts.', 'the', 'email', '--', 'which', 'has', 'not', 'been', 'verified', 'by', 'cnn', '--', 'claimed', 'peng', 'is', 'fine', 'and', 'appears', 'to', 'walk', 'back', 'her', 'sexual', 'allegations', 'against', 'a', 'former', 'top', 'communist', 'party', 'leader.', 'it', 'was', 'sent', 'to', 'the', 'wta', 'chairman', 'and', 'ceo', 'steve', 'simon,', 'cgtn', 'reported.', 'simon', 'has', 'said', 'he', 'doubts', 'the', 'email', 'is', 'authentic.', '\"the', 'statement', 'released', 'today', 'by', 'chinese', 'state', 'media', 'concerning', 'peng', 'shuai', 'only', 'raises', 'my', 'concerns', 'as', 'to', 'her', 'safety', 'and', 'whereabouts,\"', 'simon', 'said', 'in', 'a', 'statement,', '\"i', 'have', 'a', 'hard', 'time', 'believing', 'that', 'peng', 'shuai', 'actually', 'wrote', 'the', 'email', 'we', 'received', 'or', 'believes', 'what', 'is', 'being', 'attributed', 'to', 'her.\"', 'he', 'added:', '\"peng', 'shuai', 'must', 'be', 'allowed', 'to', 'speak', 'freely,', 'without', 'coercion', 'or', 'intimidation', 'from', 'any', 'source.', 'her', 'allegation', 'of', 'sexual', 'assault', 'must', 'be', 'respected,', 'investigated', 'with', 'full', 'transparency', 'and', 'without', 'censorship.\"']\n"
     ]
    }
   ],
   "source": [
    "list1=text.lower().split()\n",
    "print(list1)"
   ]
  },
  {
   "cell_type": "code",
   "execution_count": 150,
   "id": "20888e3f-0771-4e0e-bc98-b1ed6a37a0ce",
   "metadata": {},
   "outputs": [
    {
     "name": "stdout",
     "output_type": "stream",
     "text": [
      "Counter({'the': 8, 'to': 6, 'her': 5, 'email': 4, 'peng': 4, 'and': 4, 'of': 3, 'has': 3, 'be': 3, 'from': 3, 'is': 3, 'a': 3, 'shuai': 3, 'tennis': 2, 'chinese': 2, 'it': 2, 'only': 2, 'raises': 2, 'concerns': 2, 'for': 2, 'cgtn': 2, 'released': 2, 'in': 2, '--': 2, 'by': 2, 'sexual': 2, 'simon': 2, 'said': 2, 'he': 2, 'or': 2, 'must': 2, 'without': 2, 'head': 1, \"women's\": 1, 'association': 1, 'cast': 1, 'doubt': 1, 'on': 1, 'an': 1, 'claiming': 1, 'star': 1, 'shuai,': 1, 'saying': 1, 'further': 1, 'safety.': 1, \"china's\": 1, 'state-owned': 1, 'television': 1, 'broadcaster': 1, 'email,': 1, 'purportedly': 1, 'peng,': 1, 'early': 1, 'hours': 1, 'wednesday': 1, 'morning': 1, 'local': 1, 'time,': 1, 'amid': 1, 'growing': 1, 'international': 1, 'concern': 1, 'whereabouts.': 1, 'which': 1, 'not': 1, 'been': 1, 'verified': 1, 'cnn': 1, 'claimed': 1, 'fine': 1, 'appears': 1, 'walk': 1, 'back': 1, 'allegations': 1, 'against': 1, 'former': 1, 'top': 1, 'communist': 1, 'party': 1, 'leader.': 1, 'was': 1, 'sent': 1, 'wta': 1, 'chairman': 1, 'ceo': 1, 'steve': 1, 'simon,': 1, 'reported.': 1, 'doubts': 1, 'authentic.': 1, '\"the': 1, 'statement': 1, 'today': 1, 'state': 1, 'media': 1, 'concerning': 1, 'my': 1, 'as': 1, 'safety': 1, 'whereabouts,\"': 1, 'statement,': 1, '\"i': 1, 'have': 1, 'hard': 1, 'time': 1, 'believing': 1, 'that': 1, 'actually': 1, 'wrote': 1, 'we': 1, 'received': 1, 'believes': 1, 'what': 1, 'being': 1, 'attributed': 1, 'her.\"': 1, 'added:': 1, '\"peng': 1, 'allowed': 1, 'speak': 1, 'freely,': 1, 'coercion': 1, 'intimidation': 1, 'any': 1, 'source.': 1, 'allegation': 1, 'assault': 1, 'respected,': 1, 'investigated': 1, 'with': 1, 'full': 1, 'transparency': 1, 'censorship.\"': 1})\n"
     ]
    }
   ],
   "source": [
    "c=Counter(list1)\n",
    "print(c)"
   ]
  },
  {
   "cell_type": "code",
   "execution_count": 153,
   "id": "ee398669-f26f-4d28-bcac-4b2126c51e92",
   "metadata": {},
   "outputs": [
    {
     "name": "stdout",
     "output_type": "stream",
     "text": [
      "['red', 'red', 'red', 'red', 'blue', 'blue', 'blue', 'green', 'green']\n"
     ]
    }
   ],
   "source": [
    "#c=Counter({'red':4, 'blue':3, 'green':2})\n",
    "c=Counter(red=4, blue=3, green=2)\n",
    "count_list=list(c.elements())\n",
    "print(count_list)"
   ]
  },
  {
   "cell_type": "code",
   "execution_count": 156,
   "id": "00094988-fcca-4cee-8a45-a5f56e81d4fd",
   "metadata": {},
   "outputs": [],
   "source": [
    "from collections import namedtuple"
   ]
  },
  {
   "cell_type": "code",
   "execution_count": 159,
   "id": "27853126-bda9-4533-9771-fb16250d517b",
   "metadata": {},
   "outputs": [
    {
     "name": "stdout",
     "output_type": "stream",
     "text": [
      "Student(name='홍길동', sno=1, major='컴공')\n",
      "홍길동\n",
      "1\n",
      "컴공\n",
      "홍길동 1 컴공\n"
     ]
    }
   ],
   "source": [
    "Student=namedtuple('Student',['name','sno','major'])\n",
    "s=Student('홍길동',1,'컴공')\n",
    "print(s)\n",
    "print(s.name)\n",
    "print(s.sno)\n",
    "print(s.major)\n",
    "print(s[0],s[1],s[2])"
   ]
  }
 ],
 "metadata": {
  "kernelspec": {
   "display_name": "Python 3",
   "language": "python",
   "name": "python3"
  },
  "language_info": {
   "codemirror_mode": {
    "name": "ipython",
    "version": 3
   },
   "file_extension": ".py",
   "mimetype": "text/x-python",
   "name": "python",
   "nbconvert_exporter": "python",
   "pygments_lexer": "ipython3",
   "version": "3.8.8"
  }
 },
 "nbformat": 4,
 "nbformat_minor": 5
}
