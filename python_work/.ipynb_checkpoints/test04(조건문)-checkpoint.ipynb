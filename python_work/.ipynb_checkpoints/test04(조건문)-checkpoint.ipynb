{
 "cells": [
  {
   "cell_type": "code",
   "execution_count": 2,
   "id": "bfae34a0-d307-4e11-ab6f-07119b2125bd",
   "metadata": {},
   "outputs": [
    {
     "name": "stdout",
     "output_type": "stream",
     "text": [
      "end\n"
     ]
    }
   ],
   "source": [
    "#단순 if문\n",
    "score=60\n",
    "\n",
    "if score>70:\n",
    "    print(\"합격\")\n",
    "    \n",
    "print(\"end\")"
   ]
  },
  {
   "cell_type": "code",
   "execution_count": null,
   "id": "febe62a2-d88a-470d-935d-47214320960b",
   "metadata": {},
   "outputs": [],
   "source": [
    "#if-else문\n",
    "score=80\n",
    "\n",
    "if score>70:\n",
    "    print(\"합격\")\n",
    "    print(\"축하합니다.\")\n",
    "else:\n",
    "    print(\"불합격\")\n",
    "    print(\"다음 기회에 다시 도전하세요.\")\n",
    "    \n",
    "print(\"end\")"
   ]
  },
  {
   "cell_type": "code",
   "execution_count": 1,
   "id": "6596df34-e0d5-4cb2-b1c1-4f8bb3a5d2a2",
   "metadata": {},
   "outputs": [
    {
     "name": "stdin",
     "output_type": "stream",
     "text": [
      "성적을 입력해주세요. 90\n"
     ]
    },
    {
     "name": "stdout",
     "output_type": "stream",
     "text": [
      "A\n"
     ]
    }
   ],
   "source": [
    "score = int(input(\"성적을 입력해주세요.\"))\n",
    "\n",
    "if score>=90:\n",
    "    print(\"A\")\n",
    "elif score>=80:\n",
    "    print(\"B\")\n",
    "elif score>=70:\n",
    "    print(\"C\")\n",
    "elif score>=60:\n",
    "    print(\"D\")\n",
    "else:\n",
    "    print(\"F\")"
   ]
  },
  {
   "cell_type": "code",
   "execution_count": 5,
   "id": "fdec35e5-481d-413b-b464-de0604181a9a",
   "metadata": {},
   "outputs": [
    {
     "name": "stdin",
     "output_type": "stream",
     "text": [
      "당신이 태어난 연도를 입력하세요. 2002\n"
     ]
    },
    {
     "name": "stdout",
     "output_type": "stream",
     "text": [
      "대학생\n"
     ]
    }
   ],
   "source": [
    "yob = 2021-int(input(\"당신이 태어난 연도를 입력하세요.\"))+1\n",
    "\n",
    "if yob>=27 : print(\"학생이 아닙니다.\")\n",
    "elif yob>=20 : print(\"대학생\")\n",
    "elif yob>=17 : print(\"고등학생\")\n",
    "elif yob>=14 : print(\"중학생\")\n",
    "elif yob>=8 : print(\"초등학생\")\n",
    "else : print(\"학생이 아닙니다.\")"
   ]
  },
  {
   "cell_type": "code",
   "execution_count": 6,
   "id": "e4158fa8-6000-413d-bce1-24655effdba0",
   "metadata": {},
   "outputs": [
    {
     "data": {
      "text/plain": [
       "False"
      ]
     },
     "execution_count": 6,
     "metadata": {},
     "output_type": "execute_result"
    }
   ],
   "source": [
    "1<=100<10"
   ]
  },
  {
   "cell_type": "code",
   "execution_count": null,
   "id": "c8c8cca6-8e15-4d24-821a-13c16632cb3c",
   "metadata": {},
   "outputs": [],
   "source": [
    "# for i in list:\n",
    "# for i in range(start, end, step) : "
   ]
  },
  {
   "cell_type": "code",
   "execution_count": 7,
   "id": "bdc5c071-0515-4811-ab96-6f9b0e32d26c",
   "metadata": {},
   "outputs": [
    {
     "name": "stdout",
     "output_type": "stream",
     "text": [
      "10\n",
      "20\n",
      "30\n",
      "40\n",
      "50\n"
     ]
    }
   ],
   "source": [
    "for i in [10, 20, 30, 40, 50]:\n",
    "    print(i)"
   ]
  },
  {
   "cell_type": "code",
   "execution_count": 11,
   "id": "ce7d9108-b936-4806-be0d-618c1e1e290e",
   "metadata": {},
   "outputs": [
    {
     "name": "stdout",
     "output_type": "stream",
     "text": [
      "0\n",
      "1\n",
      "2\n",
      "3\n",
      "4\n",
      "5\n",
      "6\n",
      "7\n",
      "8\n",
      "9\n"
     ]
    }
   ],
   "source": [
    "for i in range(10): #range(0,10,1)\n",
    "    print(i)"
   ]
  },
  {
   "cell_type": "code",
   "execution_count": 13,
   "id": "0a4f40a5-c5c6-48d8-a2cf-e6f7506a1184",
   "metadata": {},
   "outputs": [
    {
     "name": "stdout",
     "output_type": "stream",
     "text": [
      "hello 1\n",
      "hello 2\n",
      "hello 3\n",
      "hello 4\n",
      "hello 5\n"
     ]
    }
   ],
   "source": [
    "for looper in [1,2,3,4,5]:\n",
    "    print('hello', looper)"
   ]
  },
  {
   "cell_type": "code",
   "execution_count": 14,
   "id": "55d4ffc5-ca54-45ab-9c3c-3159e6ae1c18",
   "metadata": {},
   "outputs": [
    {
     "name": "stdout",
     "output_type": "stream",
     "text": [
      "a\n",
      "b\n",
      "c\n",
      "d\n",
      "e\n",
      "f\n",
      "g\n"
     ]
    }
   ],
   "source": [
    "for i in 'abcdefg':\n",
    "    print(i)"
   ]
  },
  {
   "cell_type": "code",
   "execution_count": 21,
   "id": "e986cb46-6eb0-49d4-b99a-516402ac765c",
   "metadata": {},
   "outputs": [
    {
     "name": "stdout",
     "output_type": "stream",
     "text": [
      "r e d \n",
      "g r e e n \n",
      "b l u e \n",
      "p i n k \n",
      "b l a c k \n",
      "w h i t e \n"
     ]
    }
   ],
   "source": [
    "colors = ['red','green','blue','pink','black','white']\n",
    "for i in colors:\n",
    "    for j in i:\n",
    "        print(j, end=' ')\n",
    "    print()"
   ]
  },
  {
   "cell_type": "code",
   "execution_count": 22,
   "id": "ddbe62c2-2617-491e-b84c-c05fef216d72",
   "metadata": {},
   "outputs": [
    {
     "name": "stdout",
     "output_type": "stream",
     "text": [
      "1\n",
      "2\n",
      "3\n",
      "4\n",
      "5\n",
      "6\n",
      "7\n",
      "8\n",
      "9\n"
     ]
    }
   ],
   "source": [
    "i=1\n",
    "while i<10:\n",
    "    print(i)\n",
    "    i+=1"
   ]
  },
  {
   "cell_type": "code",
   "execution_count": 27,
   "id": "b585ffe9-2568-4706-8c6d-9f077884c8e5",
   "metadata": {},
   "outputs": [
    {
     "name": "stdout",
     "output_type": "stream",
     "text": [
      "0 0\n",
      "1 1\n",
      "2 3\n",
      "3 6\n",
      "4 10\n",
      "5 15\n",
      "6 21\n",
      "7 28\n",
      "8 36\n",
      "9 45\n",
      "for end: 10 55\n"
     ]
    }
   ],
   "source": [
    "sum=0\n",
    "for i in range(100):\n",
    "    sum+=i\n",
    "    if(sum>=50):\n",
    "        break\n",
    "    print(i, sum)\n",
    "print('for end:',i, sum)    "
   ]
  },
  {
   "cell_type": "code",
   "execution_count": 30,
   "id": "9c898591-585b-4f6e-b39c-b5aff78575e3",
   "metadata": {},
   "outputs": [
    {
     "name": "stdout",
     "output_type": "stream",
     "text": [
      "1 1\n",
      "2 3\n",
      "3 6\n",
      "4 10\n",
      "6 21\n",
      "7 28\n",
      "8 36\n",
      "9 45\n",
      "11 66\n",
      "12 78\n",
      "13 91\n",
      "14 105\n",
      "16 136\n",
      "17 153\n",
      "18 171\n",
      "19 190\n",
      "21 231\n",
      "22 253\n",
      "23 276\n",
      "24 300\n",
      "26 351\n",
      "27 378\n",
      "28 406\n",
      "29 435\n",
      "31 496\n",
      "32 528\n",
      "33 561\n",
      "34 595\n",
      "36 666\n",
      "37 703\n",
      "38 741\n",
      "39 780\n",
      "41 861\n",
      "42 903\n",
      "43 946\n",
      "44 990\n",
      "46 1081\n",
      "47 1128\n",
      "48 1176\n",
      "49 1225\n",
      "51 1326\n",
      "52 1378\n",
      "53 1431\n",
      "54 1485\n",
      "56 1596\n",
      "57 1653\n",
      "58 1711\n",
      "59 1770\n",
      "61 1891\n",
      "62 1953\n",
      "63 2016\n",
      "64 2080\n",
      "66 2211\n",
      "67 2278\n",
      "68 2346\n",
      "69 2415\n",
      "71 2556\n",
      "72 2628\n",
      "73 2701\n",
      "74 2775\n",
      "76 2926\n",
      "77 3003\n",
      "78 3081\n",
      "79 3160\n",
      "81 3321\n",
      "82 3403\n",
      "83 3486\n",
      "84 3570\n",
      "86 3741\n",
      "87 3828\n",
      "88 3916\n",
      "89 4005\n",
      "91 4186\n",
      "92 4278\n",
      "93 4371\n",
      "94 4465\n",
      "96 4656\n",
      "97 4753\n",
      "98 4851\n",
      "99 4950\n"
     ]
    }
   ],
   "source": [
    "sum=0\n",
    "for i in range(1,100):\n",
    "    sum+=i\n",
    "    if(i%5==0):\n",
    "        continue\n",
    "    print(i, sum)"
   ]
  },
  {
   "cell_type": "code",
   "execution_count": 33,
   "id": "c17551b8-ee10-4044-bc98-da82a8e6cf7d",
   "metadata": {},
   "outputs": [
    {
     "name": "stdout",
     "output_type": "stream",
     "text": [
      "0\n",
      "1\n",
      "2\n",
      "3\n",
      "4\n",
      "5\n",
      "6\n",
      "7\n",
      "8\n",
      "9\n",
      "end of program\n"
     ]
    }
   ],
   "source": [
    "for i in range(10):\n",
    "    print(i)\n",
    "else:\n",
    "    print('end of program')"
   ]
  },
  {
   "cell_type": "code",
   "execution_count": 40,
   "id": "16f4f049-698e-4507-9a2b-2093f6d8a48f",
   "metadata": {},
   "outputs": [
    {
     "name": "stdout",
     "output_type": "stream",
     "text": [
      "uoy evol I\n"
     ]
    }
   ],
   "source": [
    "sentence = \"I love you\"\n",
    "reverse_sentence = ''\n",
    "for char in sentence:\n",
    "    reverse_sentence=char + reverse_sentence\n",
    "print(reverse_sentence)"
   ]
  },
  {
   "cell_type": "code",
   "execution_count": 48,
   "id": "2f461e25-e7b4-4c76-a46e-d0bdb0ba59ed",
   "metadata": {},
   "outputs": [
    {
     "name": "stdout",
     "output_type": "stream",
     "text": [
      "5\n",
      "1010\n"
     ]
    }
   ],
   "source": [
    "decimal = 10\n",
    "result = ''\n",
    "while(decimal>0):\n",
    "    remainder = decimal%2\n",
    "    decimal = decimal//2\n",
    "    result = str(remainder)+result\n",
    "print(result)    "
   ]
  },
  {
   "cell_type": "code",
   "execution_count": 86,
   "id": "5be04e15-1e28-4a5b-aef0-34efd5f3ad01",
   "metadata": {},
   "outputs": [
    {
     "name": "stdout",
     "output_type": "stream",
     "text": [
      "[49, 80, 20, 100, 80]\n",
      "[92, 140, 105, 130, 170]\n",
      "[141, 222, 153, 180, 270]\n",
      "[47.0, 74.0, 51.0, 60.0, 90.0]\n",
      "[5, 2, 4, 3, 1]\n"
     ]
    }
   ],
   "source": [
    "kor = [49,80,20,100,80]\n",
    "math = [43,60,85,30,90]\n",
    "eng = [49,82,48,50,100]\n",
    "score = [kor,math,eng]\n",
    "avr = [0,0,0,0,0]\n",
    "\n",
    "cnt = 0\n",
    "\n",
    "for i in score:\n",
    "    for j in i:\n",
    "        #print(j)\n",
    "        avr[cnt]+=j\n",
    "        cnt+=1\n",
    "        #print(cnt)\n",
    "    cnt=0\n",
    "    print(avr)\n",
    "else:\n",
    "    stu1,stu2,stu3,stu4,stu5=avr\n",
    "    avr=[stu1/3,stu2/3,stu3/3,stu4/3,stu5/3]\n",
    "    print(avr)\n",
    "\n",
    "rank = [1,1,1,1,1]\n",
    "for i in range(len(avr)):\n",
    "    for j in range(len(avr)):\n",
    "        if avr[j]>avr[i]:\n",
    "            rank[i]+=1\n",
    "else:\n",
    "    print(rank)"
   ]
  },
  {
   "cell_type": "code",
   "execution_count": 75,
   "id": "6a8a36a3-2d66-4d95-b343-edf1daadecfb",
   "metadata": {},
   "outputs": [
    {
     "name": "stdout",
     "output_type": "stream",
     "text": [
      "[141.0, 222.0, 153.0, 180.0, 270.0]\n"
     ]
    }
   ],
   "source": [
    "kor = [49,80,20,100,80]\n",
    "math = [43,60,85,30,90]\n",
    "eng = [49,82,48,50,100]\n",
    "\n",
    "score = [kor,math,eng]\n",
    "stud_score = [0.0,0.0,0.0,0.0,0.0]\n",
    "\n",
    "for i in range(len(score)):\n",
    "    for j in range(len(score[i])):\n",
    "        stud_score[j]+=score[i][j]\n",
    "print(stud_score)        "
   ]
  }
 ],
 "metadata": {
  "kernelspec": {
   "display_name": "Python 3",
   "language": "python",
   "name": "python3"
  },
  "language_info": {
   "codemirror_mode": {
    "name": "ipython",
    "version": 3
   },
   "file_extension": ".py",
   "mimetype": "text/x-python",
   "name": "python",
   "nbconvert_exporter": "python",
   "pygments_lexer": "ipython3",
   "version": "3.8.8"
  }
 },
 "nbformat": 4,
 "nbformat_minor": 5
}
