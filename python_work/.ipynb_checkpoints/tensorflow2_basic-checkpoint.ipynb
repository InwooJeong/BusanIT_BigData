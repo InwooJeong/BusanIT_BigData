{
 "cells": [
  {
   "cell_type": "code",
   "execution_count": 1,
   "id": "42a1c57b-1984-494a-a76d-1caa71937dae",
   "metadata": {},
   "outputs": [],
   "source": [
    "import numpy as np\n",
    "import tensorflow as tf"
   ]
  },
  {
   "cell_type": "code",
   "execution_count": 6,
   "id": "ac7f9ecb-e0b5-4cb4-b592-885556f5ed67",
   "metadata": {},
   "outputs": [
    {
     "name": "stdout",
     "output_type": "stream",
     "text": [
      "initial W= [-0.11050276]\n"
     ]
    }
   ],
   "source": [
    "W=tf.Variable(tf.random.normal([1])) #정규분포(가우시안)\n",
    "print('initial W=',W.numpy())"
   ]
  },
  {
   "cell_type": "code",
   "execution_count": 7,
   "id": "0591b123-e191-478b-9ab2-27bbc09b1347",
   "metadata": {},
   "outputs": [
    {
     "name": "stdout",
     "output_type": "stream",
     "text": [
      "step= 0 W= [0.8894972]\n",
      "step= 1 W= [1.8894973]\n",
      "step= 2 W= [2.8894973]\n",
      "step= 3 W= [3.8894973]\n",
      "step= 4 W= [4.8894973]\n",
      "step= 5 W= [5.8894973]\n",
      "step= 6 W= [6.8894973]\n",
      "step= 7 W= [7.8894973]\n",
      "step= 8 W= [8.889498]\n",
      "step= 9 W= [9.889498]\n"
     ]
    }
   ],
   "source": [
    "for step in range(10):\n",
    "    W=W+1.0\n",
    "    print('step=',step,'W=',W.numpy())"
   ]
  },
  {
   "cell_type": "code",
   "execution_count": 9,
   "id": "047aed8c-e8de-4fd6-a496-31e4c02cd136",
   "metadata": {},
   "outputs": [
    {
     "name": "stdout",
     "output_type": "stream",
     "text": [
      "<class 'tensorflow.python.framework.ops.EagerTensor'>\n",
      "tf.Tensor(30, shape=(), dtype=int32)\n",
      "<class 'numpy.int32'> 30\n",
      "<class 'tensorflow.python.framework.ops.EagerTensor'>\n",
      "tf.Tensor(30, shape=(), dtype=int32)\n"
     ]
    }
   ],
   "source": [
    "a=tf.constant(10)\n",
    "b=tf.constant(20)\n",
    "\n",
    "c=a+b\n",
    "d=(a+b).numpy()\n",
    "\n",
    "print(type(c))\n",
    "print(c)\n",
    "print(type(d),d)\n",
    "\n",
    "d_numpy_to_tensor=tf.convert_to_tensor(d)\n",
    "\n",
    "print(type(d_numpy_to_tensor))\n",
    "print(d_numpy_to_tensor)"
   ]
  },
  {
   "cell_type": "code",
   "execution_count": 10,
   "id": "702fab99-5db0-491b-9e37-d00bf87ac408",
   "metadata": {},
   "outputs": [
    {
     "name": "stdout",
     "output_type": "stream",
     "text": [
      "3.0\n"
     ]
    }
   ],
   "source": [
    "a=tf.constant(1.0)\n",
    "b=tf.constant(2.0)\n",
    "\n",
    "c=a+b\n",
    "\n",
    "print(c.numpy()) #Eager Execution"
   ]
  },
  {
   "cell_type": "code",
   "execution_count": 12,
   "id": "a1b88b28-6600-4eb1-83d9-ce52f6a7aaf0",
   "metadata": {},
   "outputs": [
    {
     "name": "stdout",
     "output_type": "stream",
     "text": [
      "<class 'tensorflow.python.framework.ops.EagerTensor'>\n",
      "4.0\n"
     ]
    }
   ],
   "source": [
    "a=tf.constant(1.0)\n",
    "b=tf.constant(3.0)\n",
    "\n",
    "#함수 정의\n",
    "def tensor_sum(x,y):\n",
    "    return x+y\n",
    "\n",
    "result = tensor_sum(a,b)\n",
    "\n",
    "print(type(result))\n",
    "print(result.numpy())"
   ]
  }
 ],
 "metadata": {
  "kernelspec": {
   "display_name": "Python 3",
   "language": "python",
   "name": "python3"
  },
  "language_info": {
   "codemirror_mode": {
    "name": "ipython",
    "version": 3
   },
   "file_extension": ".py",
   "mimetype": "text/x-python",
   "name": "python",
   "nbconvert_exporter": "python",
   "pygments_lexer": "ipython3",
   "version": "3.8.8"
  }
 },
 "nbformat": 4,
 "nbformat_minor": 5
}
