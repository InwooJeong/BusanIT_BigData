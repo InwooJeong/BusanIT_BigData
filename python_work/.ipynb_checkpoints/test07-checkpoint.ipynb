{
 "cells": [
  {
   "cell_type": "code",
   "execution_count": 1,
   "id": "1452e7fa-70c6-484d-a349-c09c808cc6e0",
   "metadata": {},
   "outputs": [
    {
     "data": {
      "text/plain": [
       "['red', 'blue', 'green', 'yellow']"
      ]
     },
     "execution_count": 1,
     "metadata": {},
     "output_type": "execute_result"
    }
   ],
   "source": [
    "colors=['red','blue','green','yellow']\n",
    "result=''\n",
    "for s in colors:\n",
    "    result+=s+\" \"\n",
    "print(result)"
   ]
  },
  {
   "cell_type": "code",
   "execution_count": 3,
   "id": "4c1d7348-c4f2-47ba-9231-3aef9a6f9337",
   "metadata": {},
   "outputs": [
    {
     "name": "stdout",
     "output_type": "stream",
     "text": [
      "red, blue, green, yellow\n"
     ]
    }
   ],
   "source": [
    "result1=', '.join(colors)\n",
    "print(result1)"
   ]
  },
  {
   "cell_type": "code",
   "execution_count": 6,
   "id": "d6b459c8-0977-4121-b716-3c8c301ab61a",
   "metadata": {},
   "outputs": [
    {
     "name": "stdout",
     "output_type": "stream",
     "text": [
      "['zero', 'one', 'two,three']\n"
     ]
    }
   ],
   "source": [
    "items=\"zero-one-two,three\".split('-')\n",
    "print(items)"
   ]
  },
  {
   "cell_type": "code",
   "execution_count": 7,
   "id": "0b82d1e8-89b5-47d8-8e0b-2f1feb69fcfa",
   "metadata": {},
   "outputs": [
    {
     "name": "stdout",
     "output_type": "stream",
     "text": [
      "['a', 'b', 'c', 'd', 'e', 'f', 'g']\n"
     ]
    }
   ],
   "source": [
    "a=[]\n",
    "for i in 'abcdefg':\n",
    "    a.append(i)\n",
    "else:\n",
    "    print(a)"
   ]
  },
  {
   "cell_type": "code",
   "execution_count": 8,
   "id": "8cfded1e-8033-4859-b110-f017aa5d2bf9",
   "metadata": {},
   "outputs": [
    {
     "name": "stdout",
     "output_type": "stream",
     "text": [
      "['a', 'b', 'c', 'd', 'e', 'f', 'g']\n"
     ]
    }
   ],
   "source": [
    "a1 = [i for i in 'abcdefg']\n",
    "print(a1)"
   ]
  },
  {
   "cell_type": "code",
   "execution_count": 9,
   "id": "ce3b0704-b05f-4912-9d24-995ed146b1ea",
   "metadata": {},
   "outputs": [
    {
     "name": "stdout",
     "output_type": "stream",
     "text": [
      "[2, 4, 6, 8]\n"
     ]
    }
   ],
   "source": [
    "a2=[]\n",
    "for i in range(1,10):\n",
    "    if i%2==0:\n",
    "        a2.append(i)\n",
    "else:\n",
    "    print(a2)"
   ]
  },
  {
   "cell_type": "code",
   "execution_count": 12,
   "id": "37222d94-f8e3-479e-8866-c14446992a6c",
   "metadata": {},
   "outputs": [
    {
     "name": "stdout",
     "output_type": "stream",
     "text": [
      "[2, 4, 6, 8]\n"
     ]
    }
   ],
   "source": [
    "a3=[i for i in range(1,10) if i%2==0]\n",
    "print(a3)"
   ]
  },
  {
   "cell_type": "code",
   "execution_count": 14,
   "id": "9d3e3966-a202-40d0-a534-8b0aadb1065b",
   "metadata": {},
   "outputs": [
    {
     "name": "stdout",
     "output_type": "stream",
     "text": [
      "[10, 2, 30, 4, 50, 6, 70, 8, 90]\n"
     ]
    }
   ],
   "source": [
    "a4=[]\n",
    "for i in range(1,10):\n",
    "    if i%2==0:\n",
    "        a4.append(i)\n",
    "    else:\n",
    "        a4.append(i*10)\n",
    "else:\n",
    "    print(a4)"
   ]
  },
  {
   "cell_type": "code",
   "execution_count": 15,
   "id": "60ad11a3-ac54-48ac-a5af-9b91dcc84605",
   "metadata": {},
   "outputs": [
    {
     "name": "stdout",
     "output_type": "stream",
     "text": [
      "[10, 2, 30, 4, 50, 6, 70, 8, 90]\n"
     ]
    }
   ],
   "source": [
    "a5=[i if i%2==0 else i*10 for i in range(1,10)]\n",
    "print(a5)"
   ]
  },
  {
   "cell_type": "code",
   "execution_count": 16,
   "id": "9ca62ca7-7e70-4213-8140-c910b01cd6d6",
   "metadata": {},
   "outputs": [
    {
     "name": "stdout",
     "output_type": "stream",
     "text": [
      "['HW', 'Ho', 'Hr', 'Hl', 'Hd', 'eW', 'eo', 'er', 'el', 'ed', 'lW', 'lo', 'lr', 'll', 'ld', 'lW', 'lo', 'lr', 'll', 'ld', 'oW', 'oo', 'or', 'ol', 'od']\n"
     ]
    }
   ],
   "source": [
    "word1 = 'Hello'\n",
    "word2 = 'World'\n",
    "result=[]\n",
    "for i in word1:\n",
    "    for j in word2:\n",
    "        result.append(i+j)\n",
    "print(result)"
   ]
  },
  {
   "cell_type": "code",
   "execution_count": 18,
   "id": "e937075c-3bf9-491c-b54d-89a2870e043b",
   "metadata": {},
   "outputs": [
    {
     "name": "stdout",
     "output_type": "stream",
     "text": [
      "['Wd', 'od', 'rd', 'ld', 'dd', 'Wd', 'od', 'rd', 'ld', 'dd', 'Wd', 'od', 'rd', 'ld', 'dd', 'Wd', 'od', 'rd', 'ld', 'dd', 'Wd', 'od', 'rd', 'ld', 'dd']\n"
     ]
    }
   ],
   "source": [
    "result1=[i+j for i in word1 for i in word2]\n",
    "print(result1)"
   ]
  },
  {
   "cell_type": "code",
   "execution_count": 19,
   "id": "84f0ecf6-33fa-490e-b113-905dc8b2a528",
   "metadata": {},
   "outputs": [
    {
     "name": "stdout",
     "output_type": "stream",
     "text": [
      "['AD', 'AE', 'BD', 'BE', 'BA', 'CD', 'CE', 'CA', 'DE', 'DA']\n"
     ]
    }
   ],
   "source": [
    "s1=['A','B','C','D']\n",
    "s2=['D','E','A']\n",
    "result=[]\n",
    "for i in s1:\n",
    "    for j in s2:\n",
    "        if i!=j:\n",
    "            result.append(i+j)\n",
    "else:\n",
    "    print(result)"
   ]
  },
  {
   "cell_type": "code",
   "execution_count": 20,
   "id": "973e92c7-9eb1-476c-a222-2d037e22fe71",
   "metadata": {},
   "outputs": [
    {
     "name": "stdout",
     "output_type": "stream",
     "text": [
      "['AD', 'AE', 'BD', 'BE', 'BA', 'CD', 'CE', 'CA', 'DE', 'DA']\n"
     ]
    }
   ],
   "source": [
    "result=[i+j for i in s1 for j in s2 if i!=j]\n",
    "print(result)"
   ]
  },
  {
   "cell_type": "code",
   "execution_count": 21,
   "id": "7ec5651e-c978-40c3-9388-c7442e1f84e8",
   "metadata": {},
   "outputs": [
    {
     "data": {
      "text/plain": [
       "['The', 'quick', 'brown', 'fox', 'jumps', 'over', 'the', 'lazy', 'dog']"
      ]
     },
     "execution_count": 21,
     "metadata": {},
     "output_type": "execute_result"
    }
   ],
   "source": [
    "words=\"The quick brown fox jumps over the lazy dog\".split()\n",
    "words"
   ]
  },
  {
   "cell_type": "code",
   "execution_count": 24,
   "id": "3ac6d507-62ec-4a1e-bb93-5ed4f8b08033",
   "metadata": {},
   "outputs": [
    {
     "name": "stdout",
     "output_type": "stream",
     "text": [
      "[['THE', 'the', 3], ['QUICK', 'quick', 5], ['BROWN', 'brown', 5], ['FOX', 'fox', 3], ['JUMPS', 'jumps', 5], ['OVER', 'over', 4], ['THE', 'the', 3], ['LAZY', 'lazy', 4], ['DOG', 'dog', 3]]\n"
     ]
    }
   ],
   "source": [
    "word_list_2d=[[w.upper(),w.lower(),len(w)]for w in words]\n",
    "print(word_list_2d)"
   ]
  },
  {
   "cell_type": "code",
   "execution_count": 25,
   "id": "810da1fe-d8c7-4a94-bfa6-de3ff8790270",
   "metadata": {},
   "outputs": [
    {
     "name": "stdout",
     "output_type": "stream",
     "text": [
      "['A', 'B', 'C', 'D'] ['D', 'E', 'A']\n"
     ]
    }
   ],
   "source": [
    "print(s1, s2)"
   ]
  },
  {
   "cell_type": "code",
   "execution_count": 26,
   "id": "2e3637de-4f3a-44f3-81d9-538ad5278780",
   "metadata": {},
   "outputs": [
    {
     "name": "stdout",
     "output_type": "stream",
     "text": [
      "[['AD', 'AE', 'AA'], ['BD', 'BE', 'BA'], ['CD', 'CE', 'CA'], ['DD', 'DE', 'DA']]\n"
     ]
    }
   ],
   "source": [
    "result=[[i+j for j in s2] for i in s1]\n",
    "print(result)"
   ]
  },
  {
   "cell_type": "code",
   "execution_count": 28,
   "id": "f65ade7a-d7cc-495b-896b-98b05be3b7b2",
   "metadata": {},
   "outputs": [
    {
     "name": "stdout",
     "output_type": "stream",
     "text": [
      "(1, 10)\n",
      "(2, 20)\n",
      "(3, 30)\n"
     ]
    }
   ],
   "source": [
    "alist=[1,2,3]\n",
    "blist=[10,20,30]\n",
    "clist=zip(alist,blist)\n",
    "for i in clist:\n",
    "    print(i)"
   ]
  },
  {
   "cell_type": "code",
   "execution_count": 31,
   "id": "e134f168-7fbe-40d9-a23a-9afcf9615e69",
   "metadata": {},
   "outputs": [
    {
     "name": "stdout",
     "output_type": "stream",
     "text": [
      "(10, 30, 30) 23.333333333333332\n",
      "(20, 20, 34) 24.666666666666668\n",
      "(30, 26, 44) 33.333333333333336\n",
      "(40, 40, 55) 45.0\n",
      "(30, 45, 50) 41.666666666666664\n"
     ]
    }
   ],
   "source": [
    "kor=[10,20,30,40,30]\n",
    "math=[30,20,26,40,45]\n",
    "eng=[30,34,44,55,50]\n",
    "score=[kor,math,eng]\n",
    "zip_score=zip(kor, math, eng)\n",
    "for i in zip_score:\n",
    "    print(i, sum(i)/3)"
   ]
  },
  {
   "cell_type": "code",
   "execution_count": 32,
   "id": "ed109c0c-a588-474e-bf3d-c6396cae5f2c",
   "metadata": {},
   "outputs": [],
   "source": [
    "def f1(x,y):\n",
    "    return x+y"
   ]
  },
  {
   "cell_type": "code",
   "execution_count": 33,
   "id": "2866d4b0-99e6-4a47-91a3-cc7cb8148ddc",
   "metadata": {},
   "outputs": [
    {
     "name": "stdout",
     "output_type": "stream",
     "text": [
      "3\n"
     ]
    }
   ],
   "source": [
    "print(f1(1,2))"
   ]
  },
  {
   "cell_type": "code",
   "execution_count": 34,
   "id": "703f6496-6faf-4490-93d6-09a58e860349",
   "metadata": {},
   "outputs": [
    {
     "name": "stdout",
     "output_type": "stream",
     "text": [
      "3\n"
     ]
    }
   ],
   "source": [
    "f2=lambda x,y:x+y\n",
    "print(f2(1,2))"
   ]
  },
  {
   "cell_type": "code",
   "execution_count": 36,
   "id": "91daa876-775c-4fd5-8942-d8ede4147bce",
   "metadata": {},
   "outputs": [
    {
     "name": "stdout",
     "output_type": "stream",
     "text": [
      "3\n"
     ]
    }
   ],
   "source": [
    "print((lambda x,y:x+y)(1,2))"
   ]
  },
  {
   "cell_type": "code",
   "execution_count": 37,
   "id": "cb452b1f-bbcb-4794-a338-36be433f788a",
   "metadata": {},
   "outputs": [
    {
     "name": "stdout",
     "output_type": "stream",
     "text": [
      "9\n"
     ]
    }
   ],
   "source": [
    "print((lambda x: x**2)(3))"
   ]
  },
  {
   "cell_type": "code",
   "execution_count": 38,
   "id": "0eaa8c16-2231-4f31-bd8b-a04734b21d18",
   "metadata": {},
   "outputs": [
    {
     "name": "stdout",
     "output_type": "stream",
     "text": [
      "5.0\n"
     ]
    }
   ],
   "source": [
    "print((lambda x,y:x/y)(10,2))"
   ]
  }
 ],
 "metadata": {
  "kernelspec": {
   "display_name": "Python 3",
   "language": "python",
   "name": "python3"
  },
  "language_info": {
   "codemirror_mode": {
    "name": "ipython",
    "version": 3
   },
   "file_extension": ".py",
   "mimetype": "text/x-python",
   "name": "python",
   "nbconvert_exporter": "python",
   "pygments_lexer": "ipython3",
   "version": "3.8.8"
  }
 },
 "nbformat": 4,
 "nbformat_minor": 5
}
