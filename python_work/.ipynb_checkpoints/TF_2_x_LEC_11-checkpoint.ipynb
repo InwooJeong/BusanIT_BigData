{
 "cells": [
  {
   "cell_type": "code",
   "execution_count": 4,
   "id": "be78df6b-2219-4c7a-a181-f5b218449678",
   "metadata": {},
   "outputs": [
    {
     "name": "stdout",
     "output_type": "stream",
     "text": [
      "\n",
      " train shape= (60000, 28, 28) , train label shape= (60000,)\n",
      " test shape= (10000, 28, 28) , test label shape= (10000,)\n",
      "\n",
      " train label= [9 0 0 ... 3 0 5]\n",
      " test label= [9 2 1 ... 8 1 5]\n"
     ]
    }
   ],
   "source": [
    "import numpy as np\n",
    "import pandas as pd\n",
    "from tensorflow.keras.datasets import fashion_mnist\n",
    "\n",
    "(x_train,t_train),(x_test,t_test)=fashion_mnist.load_data()\n",
    "\n",
    "print('\\n train shape=', x_train.shape,\n",
    "     ', train label shape=', t_train.shape)\n",
    "print(' test shape=', x_test.shape,\n",
    "      ', test label shape=', t_test.shape)\n",
    "\n",
    "print('\\n train label=', t_train) #학습데이터 정답 출력\n",
    "print(' test label=', t_test) #테스트 데이터 정답 출력"
   ]
  }
 ],
 "metadata": {
  "kernelspec": {
   "display_name": "Python 3",
   "language": "python",
   "name": "python3"
  },
  "language_info": {
   "codemirror_mode": {
    "name": "ipython",
    "version": 3
   },
   "file_extension": ".py",
   "mimetype": "text/x-python",
   "name": "python",
   "nbconvert_exporter": "python",
   "pygments_lexer": "ipython3",
   "version": "3.8.8"
  }
 },
 "nbformat": 4,
 "nbformat_minor": 5
}
