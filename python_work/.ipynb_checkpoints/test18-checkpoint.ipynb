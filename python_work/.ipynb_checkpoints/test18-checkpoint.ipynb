{
 "cells": [
  {
   "cell_type": "code",
   "execution_count": 2,
   "id": "4b25ec0a-dc5a-4fb2-9340-7a2c44cc60c2",
   "metadata": {},
   "outputs": [],
   "source": [
    "from selenium import webdriver\n",
    "from selenium.webdriver.common.keys import Keys"
   ]
  },
  {
   "cell_type": "code",
   "execution_count": 12,
   "id": "eed77a97-2c76-49b4-9ea2-589d62dd9578",
   "metadata": {},
   "outputs": [
    {
     "name": "stdout",
     "output_type": "stream",
     "text": [
      "WebDriver <class 'selenium.webdriver.chrome.webdriver.WebDriver'>\n"
     ]
    },
    {
     "name": "stderr",
     "output_type": "stream",
     "text": [
      "<ipython-input-12-595689a97cf1>:6: DeprecationWarning: find_element_by_* commands are deprecated. Please use find_element() instead\n",
      "  target=driver.find_element_by_css_selector(\"[name='q']\")\n"
     ]
    },
    {
     "name": "stdout",
     "output_type": "stream",
     "text": [
      "찾아온 태그 객체 <class 'selenium.webdriver.remote.webelement.WebElement'>\n"
     ]
    }
   ],
   "source": [
    "driver=webdriver.Chrome(\"chromedriver\")\n",
    "print(\"WebDriver\",type(driver))\n",
    "\n",
    "driver.get(\"http://www.google.com/ncr\")\n",
    "driver.implicitly_wait(3)\n",
    "target=driver.find_element_by_css_selector(\"[name='q']\")\n",
    "print(\"찾아온 태그 객체\",type(target))\n",
    "target.send_keys(\"파이썬\")\n",
    "target.send_keys(Keys.ENTER)\n",
    "driver.quit()"
   ]
  },
  {
   "cell_type": "code",
   "execution_count": 22,
   "id": "c117dd4a-f9ca-4ae1-99ad-c37590bf4b60",
   "metadata": {},
   "outputs": [
    {
     "name": "stderr",
     "output_type": "stream",
     "text": [
      "<ipython-input-22-714a1bbbf629>:5: DeprecationWarning: find_element_by_* commands are deprecated. Please use find_element() instead\n",
      "  target=driver.find_element_by_css_selector('[name=query]')\n"
     ]
    }
   ],
   "source": [
    "driver=webdriver.Chrome(\"chromedriver\")\n",
    "driver.get(\"http://www.naver.com\")\n",
    "#target=driver.find_element_by_id(\"query\")\n",
    "#target=driver.find_element_by_class_name(\"input_text\")\n",
    "target=driver.find_element_by_css_selector('[name=query]')\n",
    "target.send_keys('파이썬')\n",
    "#target.send_keys(Keys.ENTER)\n",
    "target.submit()"
   ]
  },
  {
   "cell_type": "code",
   "execution_count": 28,
   "id": "d960afb1-ac8e-4b7c-8572-4f7121e7079e",
   "metadata": {},
   "outputs": [
    {
     "name": "stdout",
     "output_type": "stream",
     "text": [
      "[]\n"
     ]
    }
   ],
   "source": [
    "import urllib.request as req\n",
    "from bs4 import BeautifulSoup as bs\n",
    "\n",
    "res=req.urlopen('https://www.starbucks.co.kr/store/store_map.do')\n",
    "res=res.read().decode()\n",
    "soup=bs(res,'html.parser')\n",
    "li=soup.find_all('li',class_='quickResultLstCon')\n",
    "print(li)"
   ]
  },
  {
   "cell_type": "code",
   "execution_count": 36,
   "id": "ff663864-c471-4d4d-9340-9bc02382f864",
   "metadata": {},
   "outputs": [
    {
     "name": "stderr",
     "output_type": "stream",
     "text": [
      "<ipython-input-36-cf45833a6240>:4: DeprecationWarning: find_elements_by_* commands are deprecated. Please use find_elements() instead\n",
      "  targets=driver.find_elements_by_class_name('quickResultLstCon')\n"
     ]
    },
    {
     "name": "stdout",
     "output_type": "stream",
     "text": [
      "<selenium.webdriver.remote.webelement.WebElement (session=\"7a5441be7418ce79cdcc8de2b0e2b2ce\", element=\"760038ce-fa9f-4eb8-b519-9c29e55a6bf3\")>\n",
      "부산서면\n",
      "부산광역시 부산진구 중앙대로692번길 46-10 (부전동)\n",
      "1522-3232\n",
      "리저브 매장 2번\n",
      "<selenium.webdriver.remote.webelement.WebElement (session=\"7a5441be7418ce79cdcc8de2b0e2b2ce\", element=\"47ddac80-6b5d-4aa4-8441-0cb2bc7c1abc\")>\n",
      "서면중앙대로R\n",
      "부산광역시 부산진구 중앙대로 672 (부전동) 1층 2층\n",
      "1522-3232\n",
      "리저브 매장 2번\n",
      "<selenium.webdriver.remote.webelement.WebElement (session=\"7a5441be7418ce79cdcc8de2b0e2b2ce\", element=\"82c95820-67cc-4a82-9dca-e62d3dffa3aa\")>\n",
      "부산서면중앙로\n",
      "부산광역시 부산진구 중앙대로 701 (부전동)\n",
      "1522-3232\n",
      "리저브 매장 2번\n",
      "<selenium.webdriver.remote.webelement.WebElement (session=\"7a5441be7418ce79cdcc8de2b0e2b2ce\", element=\"da979674-6258-437c-a663-7951a00541e6\")>\n",
      "\n",
      "<selenium.webdriver.remote.webelement.WebElement (session=\"7a5441be7418ce79cdcc8de2b0e2b2ce\", element=\"cb586cd2-4580-4779-963f-a8449187a593\")>\n",
      "\n",
      "<selenium.webdriver.remote.webelement.WebElement (session=\"7a5441be7418ce79cdcc8de2b0e2b2ce\", element=\"79ad3896-37ea-4098-8250-2789313b0ffd\")>\n",
      "\n",
      "<selenium.webdriver.remote.webelement.WebElement (session=\"7a5441be7418ce79cdcc8de2b0e2b2ce\", element=\"68b142d8-35a6-4b36-b058-d2b56e5a4beb\")>\n",
      "\n",
      "<selenium.webdriver.remote.webelement.WebElement (session=\"7a5441be7418ce79cdcc8de2b0e2b2ce\", element=\"795d32b5-699f-4821-b4ad-3b590dbc4e48\")>\n",
      "\n",
      "<selenium.webdriver.remote.webelement.WebElement (session=\"7a5441be7418ce79cdcc8de2b0e2b2ce\", element=\"85f4e161-e9b0-41ff-9c77-2478b5c8200e\")>\n",
      "\n",
      "<selenium.webdriver.remote.webelement.WebElement (session=\"7a5441be7418ce79cdcc8de2b0e2b2ce\", element=\"8bed1879-5ef4-4832-971a-4565006154e7\")>\n",
      "\n"
     ]
    }
   ],
   "source": [
    "driver=webdriver.Chrome('chromedriver')\n",
    "driver.implicitly_wait(3)\n",
    "driver.get('https://www.starbucks.co.kr/store/store_map.do')\n",
    "targets=driver.find_elements_by_class_name('quickResultLstCon')\n",
    "for target in targets:\n",
    "    #print(target)\n",
    "    print(target.text)"
   ]
  },
  {
   "cell_type": "code",
   "execution_count": 43,
   "id": "b7193302-6767-4cd6-b143-146c2c714613",
   "metadata": {},
   "outputs": [
    {
     "name": "stderr",
     "output_type": "stream",
     "text": [
      "<ipython-input-43-f8232cfde019>:4: DeprecationWarning: find_element_by_* commands are deprecated. Please use find_element() instead\n",
      "  driver.find_element_by_id('id').send_keys('sinth92@naver.com')\n",
      "<ipython-input-43-f8232cfde019>:5: DeprecationWarning: find_element_by_* commands are deprecated. Please use find_element() instead\n",
      "  driver.find_element_by_id('pw').send_keys('noctis!4053')\n",
      "<ipython-input-43-f8232cfde019>:6: DeprecationWarning: find_element_by_* commands are deprecated. Please use find_element() instead\n",
      "  driver.find_element_by_id('log.login').click()\n"
     ]
    }
   ],
   "source": [
    "driver=webdriver.Chrome('chromedriver')\n",
    "driver.implicitly_wait(3)\n",
    "driver.get('https://nid.naver.com/nidlogin.login')\n",
    "driver.find_element_by_id('id').send_keys('sinth92@naver.com')\n",
    "driver.find_element_by_id('pw').send_keys()\n",
    "driver.find_element_by_id('log.login').click()"
   ]
  }
 ],
 "metadata": {
  "kernelspec": {
   "display_name": "Python 3",
   "language": "python",
   "name": "python3"
  },
  "language_info": {
   "codemirror_mode": {
    "name": "ipython",
    "version": 3
   },
   "file_extension": ".py",
   "mimetype": "text/x-python",
   "name": "python",
   "nbconvert_exporter": "python",
   "pygments_lexer": "ipython3",
   "version": "3.8.8"
  }
 },
 "nbformat": 4,
 "nbformat_minor": 5
}
