{
 "cells": [
  {
   "cell_type": "code",
   "execution_count": 1,
   "id": "224449ef-e11c-431b-b54c-8f582c23c845",
   "metadata": {},
   "outputs": [],
   "source": [
    "class SoccerPlayer(object):\n",
    "    def __init__(self, name, position, back_number):\n",
    "        self.name=name\n",
    "        self.position=position\n",
    "        self.back_number=back_number\n",
    "    \n",
    "    def change_back_number(self, new_number):\n",
    "        print(\"선수의 등번호를 변경합니다: From %d to %d\"%(self.back_number, new_number))\n",
    "        self.back_number = new_number\n",
    "        \n",
    "    def __str__(self):\n",
    "        return \"My name is %s. I play in %s, back_number is %d\"%(self.name,self.position,self.back_number)"
   ]
  },
  {
   "cell_type": "code",
   "execution_count": 8,
   "id": "d9be3444-5f20-41af-8a8a-badc603d4900",
   "metadata": {},
   "outputs": [
    {
     "name": "stdout",
     "output_type": "stream",
     "text": [
      "My name is 손흥민. I play in MF, back_number is 10\n",
      "선수의 등번호를 변경합니다: From 10 to 20\n",
      "My name is 손흥민. I play in MF, back_number is 20\n"
     ]
    }
   ],
   "source": [
    "son=SoccerPlayer('손흥민','MF',10)\n",
    "print(son)\n",
    "son.change_back_number(20)\n",
    "print(son)"
   ]
  },
  {
   "cell_type": "code",
   "execution_count": 20,
   "id": "a3ef7026-1b95-4046-a541-cb38ba8432e2",
   "metadata": {},
   "outputs": [],
   "source": [
    "class Student(object):\n",
    "    def __init__(self, sno, name, major):\n",
    "        self.__sno = sno #필드에 __붙이면 private\n",
    "        self.__name = name\n",
    "        self.__major = major\n",
    "        \n",
    "    def change_major(self, new_major):\n",
    "        print(\"학생의 학과를 변경합니다. : From %s to %s\"%(self.__major, new_major))\n",
    "        self.__major = new_major\n",
    "        \n",
    "    def __str__(self):\n",
    "        return \"Hi I'm %s. My student number is %d and I study %s\"%(self.__name,self.__sno,self.__major)"
   ]
  },
  {
   "cell_type": "code",
   "execution_count": 23,
   "id": "cefc1b25-d49a-41b5-8484-26ba182acf1e",
   "metadata": {},
   "outputs": [
    {
     "name": "stdout",
     "output_type": "stream",
     "text": [
      "Hi I'm 홍길동. My student number is 1 and I study 고고학\n",
      "학생의 학과를 변경합니다. : From 고고학 to 컴공\n",
      "Hi I'm 홍길동. My student number is 1 and I study 컴공\n"
     ]
    }
   ],
   "source": [
    "stu=Student(1,'홍길동','고고학')\n",
    "print(stu)\n",
    "stu.change_major('컴공')\n",
    "print(stu)"
   ]
  },
  {
   "cell_type": "code",
   "execution_count": 24,
   "id": "4d65affa-4871-46e1-9847-ffc6478b75cc",
   "metadata": {},
   "outputs": [
    {
     "ename": "AttributeError",
     "evalue": "'Student' object has no attribute 'name'",
     "output_type": "error",
     "traceback": [
      "\u001b[1;31m---------------------------------------------------------------------------\u001b[0m",
      "\u001b[1;31mAttributeError\u001b[0m                            Traceback (most recent call last)",
      "\u001b[1;32m<ipython-input-24-d2561fbf01a6>\u001b[0m in \u001b[0;36m<module>\u001b[1;34m\u001b[0m\n\u001b[1;32m----> 1\u001b[1;33m \u001b[0mprint\u001b[0m\u001b[1;33m(\u001b[0m\u001b[0mstu\u001b[0m\u001b[1;33m.\u001b[0m\u001b[0mname\u001b[0m\u001b[1;33m)\u001b[0m\u001b[1;33m\u001b[0m\u001b[1;33m\u001b[0m\u001b[0m\n\u001b[0m\u001b[0;32m      2\u001b[0m \u001b[0mprint\u001b[0m\u001b[1;33m(\u001b[0m\u001b[0mstu\u001b[0m\u001b[1;33m.\u001b[0m\u001b[0msno\u001b[0m\u001b[1;33m)\u001b[0m\u001b[1;33m\u001b[0m\u001b[1;33m\u001b[0m\u001b[0m\n\u001b[0;32m      3\u001b[0m \u001b[0mprint\u001b[0m\u001b[1;33m(\u001b[0m\u001b[0mstu\u001b[0m\u001b[1;33m.\u001b[0m\u001b[0mmajor\u001b[0m\u001b[1;33m)\u001b[0m\u001b[1;33m\u001b[0m\u001b[1;33m\u001b[0m\u001b[0m\n",
      "\u001b[1;31mAttributeError\u001b[0m: 'Student' object has no attribute 'name'"
     ]
    }
   ],
   "source": [
    "print(stu.name)\n",
    "print(stu.sno)\n",
    "print(stu.major)"
   ]
  },
  {
   "cell_type": "code",
   "execution_count": 26,
   "id": "d27875c6-cf81-479c-8566-63cdd2bc13e8",
   "metadata": {},
   "outputs": [],
   "source": [
    "class Person(object):\n",
    "    def __init__(self, name, age, gender):\n",
    "        self.name=name\n",
    "        self.age=age\n",
    "        self.gender=gender\n",
    "        \n",
    "    def about_me(self):\n",
    "        print(\"이름은\",self.name, \"나이는\",self.age, \"성별은\",self.gender, end=\" \")"
   ]
  },
  {
   "cell_type": "code",
   "execution_count": 29,
   "id": "f7972ec5-8bc5-4741-bbd2-344be0c0d225",
   "metadata": {},
   "outputs": [
    {
     "name": "stdout",
     "output_type": "stream",
     "text": [
      "이름은 홍길동 나이는 20 성별은 남자 "
     ]
    }
   ],
   "source": [
    "p1=Person('홍길동',20,'남자')\n",
    "p1.about_me()"
   ]
  },
  {
   "cell_type": "code",
   "execution_count": 32,
   "id": "f68f1353-8a23-4062-b7fa-a5fe59ed80f6",
   "metadata": {},
   "outputs": [],
   "source": [
    "class Employee(Person):\n",
    "    def __init__(self,name,age,gender,salary,hire_date):\n",
    "        super().__init__(name,age,gender)\n",
    "        self.salary=salary\n",
    "        self.hire_date=hire_date\n",
    "        \n",
    "    def do_work(self):\n",
    "        print(\"열심히 일한다.\")\n",
    "        \n",
    "    def about_me(self):\n",
    "        super().about_me()\n",
    "        print(\"급여:\",self.salary,\"입사일:\",self.hire_date)"
   ]
  },
  {
   "cell_type": "code",
   "execution_count": 34,
   "id": "c5eb5237-0ad6-45e6-8925-3448cc3a68b1",
   "metadata": {},
   "outputs": [
    {
     "name": "stdout",
     "output_type": "stream",
     "text": [
      "이름은 홍길수 나이는 30 성별은 남자 급여: 500 입사일: 2019-01-03\n"
     ]
    }
   ],
   "source": [
    "e1=Employee(\"홍길수\",30,\"남자\",500,\"2019-01-03\")\n",
    "e1.about_me()"
   ]
  },
  {
   "cell_type": "code",
   "execution_count": 49,
   "id": "0eed93d8-dcb4-4ee6-aaca-c791134100bc",
   "metadata": {},
   "outputs": [],
   "source": [
    "class Student(Person):\n",
    "    def __init__(self,name,age,gender,sno,major):\n",
    "        super().__init__(name,age,gender)\n",
    "        self.sno = sno\n",
    "        self.major = major\n",
    "    \n",
    "    def change_major(self, new_major):\n",
    "        print(\"학생의 학과를 변경합니다. : From %s to %s\"%(self.major, new_major))\n",
    "        self.major = new_major\n",
    "        \n",
    "    def __str__(self):\n",
    "        super().about_me()\n",
    "        print(\"학번:\",self.sno,\"전공:\",self.major)"
   ]
  },
  {
   "cell_type": "code",
   "execution_count": 51,
   "id": "8bb372ca-012f-4230-a143-6c9223bfaa0b",
   "metadata": {},
   "outputs": [
    {
     "name": "stdout",
     "output_type": "stream",
     "text": [
      "이름은 홍길동 나이는 20 성별은 남자 학번: 1 전공: 컴공\n",
      "학생의 학과를 변경합니다. : From 컴공 to 빅데이터\n",
      "이름은 홍길동 나이는 20 성별은 남자 학번: 1 전공: 빅데이터\n"
     ]
    }
   ],
   "source": [
    "s1=Student(\"홍길동\",20,\"남자\",1,\"컴공\")\n",
    "s1.__str__()\n",
    "s1.change_major(\"빅데이터\")\n",
    "s1.__str__()"
   ]
  }
 ],
 "metadata": {
  "kernelspec": {
   "display_name": "Python 3",
   "language": "python",
   "name": "python3"
  },
  "language_info": {
   "codemirror_mode": {
    "name": "ipython",
    "version": 3
   },
   "file_extension": ".py",
   "mimetype": "text/x-python",
   "name": "python",
   "nbconvert_exporter": "python",
   "pygments_lexer": "ipython3",
   "version": "3.8.8"
  }
 },
 "nbformat": 4,
 "nbformat_minor": 5
}
