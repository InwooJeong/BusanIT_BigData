{
 "cells": [
  {
   "cell_type": "code",
   "execution_count": 2,
   "id": "74952ea3-8fcb-41ab-a1b7-9b76042591a2",
   "metadata": {},
   "outputs": [
    {
     "name": "stdout",
     "output_type": "stream",
     "text": [
      "train shape= (60000, 28, 28) , train label shape= (60000,)\n",
      "test shape= (10000, 28, 28) , test label shape= (10000,)\n",
      "train label= [9 0 0 ... 3 0 5]\n",
      "test label= [9 2 1 ... 8 1 5]\n"
     ]
    }
   ],
   "source": [
    "import tensorflow as tf\n",
    "import numpy as np\n",
    "from tensorflow.keras.datasets import fashion_mnist\n",
    "\n",
    "(x_train,t_train),(x_test,t_test)=fashion_mnist.load_data()\n",
    "\n",
    "print('train shape=',x_train.shape,', train label shape=',t_train.shape)\n",
    "print('test shape=',x_test.shape,', test label shape=',t_test.shape)\n",
    "\n",
    "print('train label=',t_train) #학습 데이터 정답 출력\n",
    "print('test label=',t_test) #데스트 데이터 정답 출력"
   ]
  }
 ],
 "metadata": {
  "kernelspec": {
   "display_name": "Python 3",
   "language": "python",
   "name": "python3"
  },
  "language_info": {
   "codemirror_mode": {
    "name": "ipython",
    "version": 3
   },
   "file_extension": ".py",
   "mimetype": "text/x-python",
   "name": "python",
   "nbconvert_exporter": "python",
   "pygments_lexer": "ipython3",
   "version": "3.8.8"
  }
 },
 "nbformat": 4,
 "nbformat_minor": 5
}
