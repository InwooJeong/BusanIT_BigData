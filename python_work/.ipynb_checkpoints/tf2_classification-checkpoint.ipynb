{
 "cells": [
  {
   "cell_type": "code",
   "execution_count": 4,
   "id": "0323632c-395d-4b99-9229-bb2a60f69c4e",
   "metadata": {},
   "outputs": [],
   "source": [
    "import tensorflow as tf\n",
    "import numpy as np\n",
    "from tensorflow.keras.models import Sequential"
   ]
  },
  {
   "cell_type": "code",
   "execution_count": 2,
   "id": "c18a2e0a-7661-4372-917f-82974ffd1d23",
   "metadata": {},
   "outputs": [],
   "source": [
    "x_data=np.array([2,4,6,8,10,12,14,16,18,20]).astype('float32')\n",
    "t_data=np.array([0,0,0,0,0,0,1,1,1,1]).astype('float32')"
   ]
  },
  {
   "cell_type": "code",
   "execution_count": null,
   "id": "0506c307-ceee-487b-ac71-66ac1e3fbf28",
   "metadata": {},
   "outputs": [],
   "source": [
    "model=tf.keras.models.Sequential()\n",
    "\n",
    "model.add(tf.keras.layers.Dense(8,input_shape=(1,),activation='sigmoid'))"
   ]
  }
 ],
 "metadata": {
  "kernelspec": {
   "display_name": "Python 3",
   "language": "python",
   "name": "python3"
  },
  "language_info": {
   "codemirror_mode": {
    "name": "ipython",
    "version": 3
   },
   "file_extension": ".py",
   "mimetype": "text/x-python",
   "name": "python",
   "nbconvert_exporter": "python",
   "pygments_lexer": "ipython3",
   "version": "3.8.8"
  }
 },
 "nbformat": 4,
 "nbformat_minor": 5
}
