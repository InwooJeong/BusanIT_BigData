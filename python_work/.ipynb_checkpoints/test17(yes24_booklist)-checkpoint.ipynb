{
 "cells": [
  {
   "cell_type": "code",
   "execution_count": 18,
   "id": "d796d8a6-d162-4e28-9c18-0743854c80e8",
   "metadata": {},
   "outputs": [],
   "source": [
    "from urllib.request import urlopen\n",
    "from urllib.request import urlretrieve\n",
    "from bs4 import BeautifulSoup as bs"
   ]
  },
  {
   "cell_type": "code",
   "execution_count": 51,
   "id": "98b6b1d6-4b74-4de0-87c4-a5e7f45e5811",
   "metadata": {},
   "outputs": [],
   "source": [
    "title_list=[]\n",
    "#obj_list=[]\n",
    "author_list=[]\n",
    "publisher_list=[]"
   ]
  },
  {
   "cell_type": "code",
   "execution_count": 23,
   "id": "7905319c-e800-4856-a501-e9fac67dbeb6",
   "metadata": {},
   "outputs": [],
   "source": [
    "def save_image(image_src,i):\n",
    "    savename=\"data/images/book_image\"+str(i)+\".png\"\n",
    "    urlretrieve(image_src,savename)\n",
    "    print('이미지 저장')"
   ]
  },
  {
   "cell_type": "code",
   "execution_count": 53,
   "id": "1ab31ec9-df20-40b8-a2be-421bdc998665",
   "metadata": {},
   "outputs": [
    {
     "name": "stdout",
     "output_type": "stream",
     "text": [
      "['박응용', '박응용', '박해선', '윤인성', '나동빈', '김창현', '박응용', '오렐리앙 제롱', '송석리', '나카지마 쇼', '사이토 고키', '권철민', '김용환', '박상길', '시바타 보요', '박응용', 'Ivan Vasilev', 'Matthew Lamons', '브렛 슬라킨', '김황후', '박준성', '엘리스 코딩', '엘리스 코딩', '서지영', '조대표']\n",
      "['이지스퍼블리싱', '한빛미디어', '한빛미디어', '한빛미디어', '이지스퍼블리싱', '이지스퍼블리싱', '한빛미디어', '길벗', '출판사Bogook(출판사보국)', '한빛미디어', '위키북스', '한빛미디어', '책만', '이지스퍼블리싱', '이지스퍼블리싱', '홍릉과학출판사', '홍릉과학출판사', '길벗', '한빛미디어', '길벗', '이지스퍼블리싱', '이지스퍼블리싱', '길벗', '파이스탁']\n"
     ]
    }
   ],
   "source": [
    "html=urlopen('http://www.yes24.com/Product/Search?domain=ALL&query=python')\n",
    "soup=bs(html,'html.parser')\n",
    "books=soup.select('#yesSchList > li')\n",
    "#print(book_list)\n",
    "i=1\n",
    "for book in books:\n",
    "    title=book.select('div > div.item_info > div.info_row.info_name > a.gd_name')[0].string\n",
    "    #print(title)\n",
    "    title_list.append(title)\n",
    "    image_src=book.select('div > div.item_img > div.img_canvas > span > span > a > em > img')[0]['data-original']\n",
    "    #print(image_src)\n",
    "    #save_image(image_src,i)\n",
    "    #obj=book.select('div > div.item_info > div.info_row.info_pubGrp')\n",
    "    author=book.select('div > div.item_info > div.info_row.info_pubGrp > span.authPub.info_auth > a')[0].string\n",
    "    #print(obj[0].text)\n",
    "    #obj_list.append(obj[0].text.strip)\n",
    "    #obj_arr=obj[0].text.split(\"\\n\")\n",
    "    #print(obj_arr)\n",
    "    #print(author)\n",
    "    author_list.append(author)\n",
    "    publisher=book.select('div > div.item_info > div.info_row.info_pubGrp > span.authPub.info_pub > a')[0].string\n",
    "    publisher_list.append(publisher)\n",
    "    i+=1\n",
    "print(author_list)\n",
    "print(publisher_list)"
   ]
  }
 ],
 "metadata": {
  "kernelspec": {
   "display_name": "Python 3",
   "language": "python",
   "name": "python3"
  },
  "language_info": {
   "codemirror_mode": {
    "name": "ipython",
    "version": 3
   },
   "file_extension": ".py",
   "mimetype": "text/x-python",
   "name": "python",
   "nbconvert_exporter": "python",
   "pygments_lexer": "ipython3",
   "version": "3.8.8"
  }
 },
 "nbformat": 4,
 "nbformat_minor": 5
}
