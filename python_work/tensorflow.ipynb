{
 "cells": [
  {
   "cell_type": "code",
   "execution_count": 2,
   "id": "fd4c2f2d-c0fd-4d6c-99a9-e8ddb25de786",
   "metadata": {},
   "outputs": [
    {
     "data": {
      "text/plain": [
       "'2.7.0'"
      ]
     },
     "execution_count": 2,
     "metadata": {},
     "output_type": "execute_result"
    }
   ],
   "source": [
    "import tensorflow as tf\n",
    "tf.__version__"
   ]
  },
  {
   "cell_type": "code",
   "execution_count": 6,
   "id": "fb4e0ad6-5c04-43e9-b4df-e12ca4bc8807",
   "metadata": {},
   "outputs": [
    {
     "data": {
      "text/plain": [
       "'2.7.0'"
      ]
     },
     "execution_count": 6,
     "metadata": {},
     "output_type": "execute_result"
    }
   ],
   "source": [
    "#for use tensorflow version 1\n",
    "import tensorflow.compat.v1 as tf\n",
    "tf.disable_v2_behavior()\n",
    "\n",
    "tf.__version__"
   ]
  },
  {
   "cell_type": "code",
   "execution_count": 7,
   "id": "5a0d925a-54a2-44c2-9837-2ad85f710f4c",
   "metadata": {},
   "outputs": [
    {
     "name": "stdout",
     "output_type": "stream",
     "text": [
      "Tensor(\"Const_2:0\", shape=(), dtype=string)\n",
      "b'Hello, TensorFlow!'\n"
     ]
    }
   ],
   "source": [
    "#Create a constant op\n",
    "#This op is added as a node to the default graph\n",
    "hello=tf.constant('Hello, TensorFlow!')\n",
    "print(hello)\n",
    "\n",
    "#start a TF session\n",
    "sess=tf.Session()\n",
    "\n",
    "#run the op and get result\n",
    "print(sess.run(hello))"
   ]
  },
  {
   "cell_type": "code",
   "execution_count": 8,
   "id": "c8ecef1b-a6c8-483e-9e20-57f7d95b2130",
   "metadata": {},
   "outputs": [
    {
     "data": {
      "text/plain": [
       "[[[1.0, 2.0, 3.0]], [[7.0, 8.0, 9.0]]]"
      ]
     },
     "execution_count": 8,
     "metadata": {},
     "output_type": "execute_result"
    }
   ],
   "source": [
    "3 #a rank 0 tensor; this is a scalar with shape[]\n",
    "[1.,2.,3.] #a rank 1 tensor; this is a vector with shape[3]\n",
    "[[1.,2.,3.],[4.,5.,6.]] #a rank 2 tensor; a matrix with shape [2,3]\n",
    "[[[1.,2.,3.,]],[[7.,8.,9.]]] #a rank 3 tensor with shape [2,1,3]"
   ]
  },
  {
   "cell_type": "code",
   "execution_count": 9,
   "id": "ae749778-8083-4bba-b2f8-9d5d04897f8e",
   "metadata": {},
   "outputs": [],
   "source": [
    "node1=tf.constant(3.0, tf.float32)\n",
    "node2=tf.constant(4.0) #also tf.float32 impicitly\n",
    "node3=tf.add(node1,node2)"
   ]
  },
  {
   "cell_type": "code",
   "execution_count": 11,
   "id": "83fd17cf-d211-491c-950a-b7c3dfdddc8b",
   "metadata": {},
   "outputs": [
    {
     "name": "stdout",
     "output_type": "stream",
     "text": [
      "node1: Tensor(\"Const_3:0\", shape=(), dtype=float32) node2: Tensor(\"Const_4:0\", shape=(), dtype=float32)\n",
      "node3: Tensor(\"Add:0\", shape=(), dtype=float32)\n"
     ]
    }
   ],
   "source": [
    "print('node1:',node1,'node2:',node2)\n",
    "print('node3:',node3)"
   ]
  },
  {
   "cell_type": "code",
   "execution_count": 13,
   "id": "2ca5709c-ac5d-4139-a4cb-3ae3eda9e584",
   "metadata": {},
   "outputs": [
    {
     "name": "stdout",
     "output_type": "stream",
     "text": [
      "sess.run(node1,node2): [3.0, 4.0]\n",
      "sess.run(node3): 7.0\n"
     ]
    }
   ],
   "source": [
    "sess=tf.Session()\n",
    "print('sess.run(node1,node2):',sess.run([node1,node2]))\n",
    "print('sess.run(node3):',sess.run(node3))"
   ]
  },
  {
   "cell_type": "code",
   "execution_count": 17,
   "id": "635e6bc6-fa0d-4110-b378-27916803ac9d",
   "metadata": {},
   "outputs": [
    {
     "name": "stdout",
     "output_type": "stream",
     "text": [
      "7.5\n",
      "[3. 7.]\n",
      "[ 3.  7. 11. 13.]\n"
     ]
    }
   ],
   "source": [
    "a=tf.placeholder(tf.float32)\n",
    "b=tf.placeholder(tf.float32)\n",
    "adder_node=a+b # + provides a shortcut for tf.add(a,b)\n",
    "\n",
    "print(sess.run(adder_node, feed_dict={a:3, b:4.5}))\n",
    "print(sess.run(adder_node, feed_dict={a:[1,3],b:[2,4]}))\n",
    "print(sess.run(adder_node, feed_dict={a:[1,3,4,5],b:[2,4,7,8]}))"
   ]
  },
  {
   "cell_type": "code",
   "execution_count": 18,
   "id": "e0c02156-90ff-4b08-a92b-f6d6203efbc0",
   "metadata": {},
   "outputs": [
    {
     "name": "stdout",
     "output_type": "stream",
     "text": [
      "22.5\n",
      "[ 9. 21.]\n",
      "[ 9. 21. 33. 39.]\n"
     ]
    }
   ],
   "source": [
    "add_and_triple=adder_node*3.\n",
    "print(sess.run(add_and_triple,feed_dict={a:3,b:4.5}))\n",
    "print(sess.run(add_and_triple, feed_dict={a:[1,3],b:[2,4]}))\n",
    "print(sess.run(add_and_triple, feed_dict={a:[1,3,4,5],b:[2,4,7,8]}))"
   ]
  },
  {
   "cell_type": "code",
   "execution_count": 24,
   "id": "aded1521-9e05-4c12-b373-6e8b0fe621cd",
   "metadata": {},
   "outputs": [
    {
     "name": "stdout",
     "output_type": "stream",
     "text": [
      "0 3.0108988 [1.1945504] [-0.951372]\n",
      "100 0.25945628 [1.5901732] [-0.3416143]\n",
      "200 0.16032816 [1.4639333] [-0.05462948]\n",
      "300 0.099073015 [1.3646939] [0.1709651]\n",
      "400 0.06122111 [1.2866826] [0.34830305]\n",
      "500 0.03783093 [1.2253586] [0.487707]\n",
      "600 0.02337719 [1.1771522] [0.5972912]\n",
      "700 0.014445628 [1.1392576] [0.6834347]\n",
      "800 0.008926503 [1.109469] [0.75115114]\n",
      "900 0.0055160127 [1.0860525] [0.80438256]\n",
      "1000 0.003408551 [1.0676451] [0.846227]\n",
      "1100 0.0021062752 [1.0531751] [0.8791205]\n",
      "1200 0.0013015546 [1.0418007] [0.9049775]\n",
      "1300 0.00080428645 [1.0328592] [0.9253034]\n",
      "1400 0.0004970008 [1.0258303] [0.9412817]\n",
      "1500 0.00030711832 [1.020305] [0.953842]\n",
      "1600 0.000189777 [1.0159614] [0.963716]\n",
      "1700 0.000117269345 [1.0125471] [0.97147745]\n",
      "1800 7.246518e-05 [1.0098633] [0.97757876]\n",
      "1900 4.478087e-05 [1.0077535] [0.98237455]\n",
      "2000 2.7672062e-05 [1.006095] [0.9861447]\n",
      "2100 1.7100521e-05 [1.0047913] [0.98910826]\n",
      "2200 1.0566127e-05 [1.0037663] [0.99143845]\n",
      "2300 6.5295244e-06 [1.0029607] [0.9932697]\n",
      "2400 4.0351697e-06 [1.0023276] [0.9947092]\n",
      "2500 2.4937917e-06 [1.0018299] [0.9958406]\n",
      "2600 1.5415075e-06 [1.0014386] [0.99672997]\n",
      "2700 9.5287743e-07 [1.0011312] [0.997429]\n",
      "2800 5.891216e-07 [1.0008895] [0.9979785]\n",
      "2900 3.643191e-07 [1.0006996] [0.9984102]\n",
      "3000 2.254232e-07 [1.0005504] [0.99874955]\n",
      "3100 1.3950982e-07 [1.0004328] [0.9990163]\n",
      "3200 8.639773e-08 [1.0003408] [0.9992259]\n",
      "3300 5.3463605e-08 [1.000268] [0.999391]\n",
      "3400 3.3149718e-08 [1.0002112] [0.99952054]\n",
      "3500 2.0557096e-08 [1.0001663] [0.9996224]\n",
      "3600 1.27394095e-08 [1.0001307] [0.99970263]\n",
      "3700 7.929103e-09 [1.0001035] [0.9997656]\n",
      "3800 4.908808e-09 [1.0000811] [0.99981546]\n",
      "3900 3.053188e-09 [1.0000643] [0.99985456]\n",
      "4000 1.9299857e-09 [1.0000511] [0.99988437]\n",
      "4100 1.2146918e-09 [1.00004] [0.9999082]\n",
      "4200 7.345342e-10 [1.0000314] [0.9999285]\n",
      "4300 4.50702e-10 [1.0000247] [0.999944]\n",
      "4400 2.8108596e-10 [1.0000196] [0.9999559]\n",
      "4500 1.8624273e-10 [1.000016] [0.99996406]\n",
      "4600 1.3140777e-10 [1.0000135] [0.99997]\n",
      "4700 8.479143e-11 [1.0000108] [0.999976]\n",
      "4800 5.3284783e-11 [1.0000087] [0.9999811]\n",
      "4900 5.3284783e-11 [1.0000087] [0.9999811]\n",
      "5000 5.3284783e-11 [1.0000087] [0.9999811]\n"
     ]
    }
   ],
   "source": [
    "#Lab 2 Linear Regression\n",
    "import tensorflow.compat.v1 as tf\n",
    "tf.disable_v2_behavior()\n",
    "\n",
    "#import tensorflow as tf\n",
    "tf.set_random_seed(777) #for reproducibility\n",
    "\n",
    "#X and Y data\n",
    "x_train=[1,2,3]\n",
    "y_train=[2,3,4]\n",
    "\n",
    "#y=Wx+b, W=1, b=1\n",
    "#Try to find values for W and b to compute y_data = x_data X + b\n",
    "#We know taht W should be 1 and b should be 0\n",
    "#But let TensorFlow figure it out\n",
    "W=tf.Variable(tf.random_normal([1]),name='weight')\n",
    "b=tf.Variable(tf.random_normal([1]),name='bias')\n",
    "\n",
    "#Our hypothesis xW+b\n",
    "hypothesis=x_train*W+b\n",
    "\n",
    "#cost/loss function\n",
    "cost=tf.reduce_mean(tf.square(hypothesis-y_train))\n",
    "\n",
    "#optimizer\n",
    "train=tf.train.GradientDescentOptimizer(learning_rate=0.01).minimize(cost)\n",
    "\n",
    "#Launch the graph in a session.\n",
    "with tf.Session() as sess:\n",
    "    #Initializes global variables in the graph.\n",
    "    sess.run(tf.global_variables_initializer())\n",
    "    \n",
    "    #Fit the line\n",
    "    for step in range(5001):\n",
    "        _,cost_val,W_val,b_val=sess.run([train,cost,W,b])\n",
    "        \n",
    "        if step%100==0:\n",
    "            print(step,cost_val,W_val,b_val)"
   ]
  }
 ],
 "metadata": {
  "kernelspec": {
   "display_name": "Python 3",
   "language": "python",
   "name": "python3"
  },
  "language_info": {
   "codemirror_mode": {
    "name": "ipython",
    "version": 3
   },
   "file_extension": ".py",
   "mimetype": "text/x-python",
   "name": "python",
   "nbconvert_exporter": "python",
   "pygments_lexer": "ipython3",
   "version": "3.8.8"
  }
 },
 "nbformat": 4,
 "nbformat_minor": 5
}
