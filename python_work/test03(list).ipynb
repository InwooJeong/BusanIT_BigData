{
 "cells": [
  {
   "cell_type": "code",
   "execution_count": 4,
   "id": "160f384f-1816-44b2-aff2-314c3411f472",
   "metadata": {},
   "outputs": [
    {
     "name": "stdout",
     "output_type": "stream",
     "text": [
      "red\n",
      "green\n",
      "blue\n",
      "3\n",
      "['red', 'green', 'pink']\n"
     ]
    }
   ],
   "source": [
    "colors=['red','green','blue']\n",
    "print(colors[0])\n",
    "print(colors[1])\n",
    "print(colors[2])\n",
    "print(len(colors))\n",
    "colors[2]='pink'\n",
    "print(colors)"
   ]
  },
  {
   "cell_type": "code",
   "execution_count": 2,
   "id": "0212d639-8928-4b19-90ad-e3447cdefe17",
   "metadata": {},
   "outputs": [
    {
     "name": "stdout",
     "output_type": "stream",
     "text": [
      "['서울', '부산', '인천', '대구', '대전', '광주', '울산', '수원']\n",
      "<class 'list'>\n",
      "8\n"
     ]
    }
   ],
   "source": [
    "cities=['서울','부산','인천','대구','대전','광주','울산','수원']\n",
    "print(cities)\n",
    "print(type(cities))\n",
    "print(len(cities))"
   ]
  },
  {
   "cell_type": "code",
   "execution_count": 9,
   "id": "47cc2c74-c74d-4e18-a4d3-3dac47b96ee8",
   "metadata": {},
   "outputs": [
    {
     "name": "stdout",
     "output_type": "stream",
     "text": [
      "['부산', '인천', '대구']\n",
      "['서울', '부산', '인천', '대구']\n",
      "['서울', '부산', '인천', '대구']\n",
      "['대구', '대전', '광주', '울산', '수원']\n",
      "['대구', '대전', '광주', '울산', '수원']\n",
      "['서울', '부산', '인천', '대구', '대전', '광주', '울산', '수원']\n",
      "['서울', '부산', '인천', '대구', '대전', '광주', '울산', '수원']\n",
      "['서울', '부산', '인천', '대구', '대전', '광주', '울산', '수원']\n"
     ]
    }
   ],
   "source": [
    "print(cities[1:4])\n",
    "print(cities[0:4])\n",
    "print(cities[:4])\n",
    "print(cities[3:8])\n",
    "print(cities[3:])\n",
    "print(cities[0:8])\n",
    "print(cities[:])\n",
    "print(cities[-10:10])"
   ]
  },
  {
   "cell_type": "code",
   "execution_count": 12,
   "id": "4e4f4d93-20a6-43c1-a77a-8a86515b6e2d",
   "metadata": {},
   "outputs": [
    {
     "name": "stdout",
     "output_type": "stream",
     "text": [
      "['서울', '부산', '인천', '대구', '대전']\n"
     ]
    }
   ],
   "source": [
    "print(cities[-8:-3]) #슬라이싱은 오른쪽부터 왼쪽으로"
   ]
  },
  {
   "cell_type": "code",
   "execution_count": 13,
   "id": "d91f581d-a75c-42c3-ac39-0c16c4d0a419",
   "metadata": {},
   "outputs": [
    {
     "name": "stdout",
     "output_type": "stream",
     "text": [
      "['서울', '부산', '인천', '대구', '대전', '광주', '울산']\n"
     ]
    }
   ],
   "source": [
    "print(cities[:-1])"
   ]
  },
  {
   "cell_type": "code",
   "execution_count": 15,
   "id": "e79ef76b-c21e-4232-86db-e78f1f468d66",
   "metadata": {},
   "outputs": [
    {
     "name": "stdout",
     "output_type": "stream",
     "text": [
      "['서울', '인천', '대전', '울산']\n",
      "['수원', '울산', '광주', '대전', '대구', '인천', '부산', '서울']\n"
     ]
    }
   ],
   "source": [
    "print(cities[::2]) #시작:마지막:스탭\n",
    "print(cities[::-1])"
   ]
  },
  {
   "cell_type": "code",
   "execution_count": 16,
   "id": "f120c4e3-1c3a-4d19-a091-1073d9384824",
   "metadata": {},
   "outputs": [
    {
     "name": "stdout",
     "output_type": "stream",
     "text": [
      "gfedcba\n"
     ]
    }
   ],
   "source": [
    "s=\"abcdefg\"\n",
    "print(s[::-1])"
   ]
  },
  {
   "cell_type": "code",
   "execution_count": 22,
   "id": "3d80dc89-4d9a-41b4-8bf3-8ea61b22b1ae",
   "metadata": {},
   "outputs": [],
   "source": [
    "colors1=['red','green','blue','orange']\n",
    "colors2=['orange','black','white']"
   ]
  },
  {
   "cell_type": "code",
   "execution_count": 26,
   "id": "eb53a8da-7527-4de0-9132-62ead3ece32d",
   "metadata": {},
   "outputs": [
    {
     "name": "stdout",
     "output_type": "stream",
     "text": [
      "['red', 'green', 'blue', 'orange', 'orange', 'black', 'white']\n",
      "['red', 'green', 'blue', 'orange', 'red', 'green', 'blue', 'orange']\n",
      "True\n",
      "False\n"
     ]
    }
   ],
   "source": [
    "print(colors1+colors2)\n",
    "print(colors1*2)\n",
    "print('blue' in colors1)\n",
    "print('blue' in colors2)"
   ]
  },
  {
   "cell_type": "code",
   "execution_count": 27,
   "id": "0754484c-bc43-44d5-ab55-8ee3eda5d8d4",
   "metadata": {},
   "outputs": [
    {
     "name": "stdout",
     "output_type": "stream",
     "text": [
      "['red', 'green', 'blue', 'orange', 'white']\n"
     ]
    }
   ],
   "source": [
    "colors1.append('white')\n",
    "print(colors1)"
   ]
  },
  {
   "cell_type": "code",
   "execution_count": 29,
   "id": "64ab8771-0ed4-4c3f-8ef2-fdb58de2e44c",
   "metadata": {},
   "outputs": [
    {
     "name": "stdout",
     "output_type": "stream",
     "text": [
      "[1, 2]\n",
      "[1, 2, 10]\n"
     ]
    }
   ],
   "source": [
    "number=[]\n",
    "number.append(1)\n",
    "number.append(2)\n",
    "print(number)\n",
    "number.append(10)\n",
    "print(number)"
   ]
  },
  {
   "cell_type": "code",
   "execution_count": 30,
   "id": "4eb4f254-c14d-43c8-9e3b-b885e40d4bf9",
   "metadata": {},
   "outputs": [
    {
     "name": "stdout",
     "output_type": "stream",
     "text": [
      "[1, 2, 10, 100, 200, 300]\n"
     ]
    }
   ],
   "source": [
    "number2=[100,200,300]\n",
    "number.extend(number2)\n",
    "print(number)"
   ]
  },
  {
   "cell_type": "code",
   "execution_count": 32,
   "id": "37453c8b-bc4d-49db-8586-5f4b735f13b5",
   "metadata": {},
   "outputs": [
    {
     "name": "stdout",
     "output_type": "stream",
     "text": [
      "[1, 2, 10, 100, 200, 300, 1000, 1000]\n",
      "[1, 500, 2, 10, 100, 200, 300, 1000, 1000]\n"
     ]
    }
   ],
   "source": [
    "number.append(1000)\n",
    "print(number)\n",
    "number.insert(1,500)\n",
    "print(number)"
   ]
  },
  {
   "cell_type": "code",
   "execution_count": 35,
   "id": "e7f129e4-d2a5-4036-a1e0-6d27e73a1a21",
   "metadata": {},
   "outputs": [
    {
     "ename": "ValueError",
     "evalue": "list.remove(x): x not in list",
     "output_type": "error",
     "traceback": [
      "\u001b[1;31m---------------------------------------------------------------------------\u001b[0m",
      "\u001b[1;31mValueError\u001b[0m                                Traceback (most recent call last)",
      "\u001b[1;32m<ipython-input-35-1362b2eaa5a6>\u001b[0m in \u001b[0;36m<module>\u001b[1;34m\u001b[0m\n\u001b[1;32m----> 1\u001b[1;33m \u001b[0mnumber\u001b[0m\u001b[1;33m.\u001b[0m\u001b[0mremove\u001b[0m\u001b[1;33m(\u001b[0m\u001b[1;36m1\u001b[0m\u001b[1;33m)\u001b[0m\u001b[1;33m\u001b[0m\u001b[1;33m\u001b[0m\u001b[0m\n\u001b[0m\u001b[0;32m      2\u001b[0m \u001b[0mprint\u001b[0m\u001b[1;33m(\u001b[0m\u001b[0mnumber\u001b[0m\u001b[1;33m)\u001b[0m\u001b[1;33m\u001b[0m\u001b[1;33m\u001b[0m\u001b[0m\n",
      "\u001b[1;31mValueError\u001b[0m: list.remove(x): x not in list"
     ]
    }
   ],
   "source": [
    "number.remove(1)\n",
    "print(number)"
   ]
  },
  {
   "cell_type": "code",
   "execution_count": 36,
   "id": "1faab4a1-8ffa-4fe8-826f-fb815f384698",
   "metadata": {},
   "outputs": [
    {
     "name": "stdout",
     "output_type": "stream",
     "text": [
      "[2, 10, 100, 200, 300, 1000, 1000]\n"
     ]
    }
   ],
   "source": [
    "del number[0]\n",
    "print(number)"
   ]
  },
  {
   "cell_type": "code",
   "execution_count": 40,
   "id": "4a667d06-ef66-42d1-902a-fea29f333f57",
   "metadata": {},
   "outputs": [
    {
     "name": "stdout",
     "output_type": "stream",
     "text": [
      "[1, 2, 3] 1 2 3\n"
     ]
    }
   ],
   "source": [
    "t=[1,2,3]\n",
    "a,b,c=t\n",
    "print(t, a,b,c)"
   ]
  },
  {
   "cell_type": "code",
   "execution_count": 43,
   "id": "548f33fc-0fbd-4c59-87f6-9fad92eb8add",
   "metadata": {},
   "outputs": [
    {
     "name": "stdout",
     "output_type": "stream",
     "text": [
      "[[40, 50, 85, 95], [50, 60, 80, 90], [60, 65, 75, 85]]\n",
      "75\n"
     ]
    }
   ],
   "source": [
    "kor=[40,50,85,95]\n",
    "math=[50,60,80,90]\n",
    "eng=[60,65,75,85]\n",
    "score=[kor,math,eng]\n",
    "print(score)\n",
    "print(score[2][2])"
   ]
  },
  {
   "cell_type": "code",
   "execution_count": 45,
   "id": "4ef21685-1f55-43bd-834e-82c8638d586a",
   "metadata": {},
   "outputs": [
    {
     "name": "stdout",
     "output_type": "stream",
     "text": [
      "[[40, 50, 85, 95], [55, 60, 80, 90], [60, 65, 75, 85]]\n"
     ]
    }
   ],
   "source": [
    "math[0]=55\n",
    "print(score)"
   ]
  },
  {
   "cell_type": "code",
   "execution_count": 49,
   "id": "c5ed8042-97df-4b98-b310-bbabaf8cb661",
   "metadata": {},
   "outputs": [
    {
     "name": "stdout",
     "output_type": "stream",
     "text": [
      "[[40, 50, 85, 95], [55, 60, 80, 90], [60, 65, 75, 85]]\n"
     ]
    }
   ],
   "source": [
    "kor[3]=95\n",
    "print(score)"
   ]
  },
  {
   "cell_type": "code",
   "execution_count": 50,
   "id": "6075b125-bee4-485a-acbf-f1d240194b7b",
   "metadata": {},
   "outputs": [
    {
     "name": "stdout",
     "output_type": "stream",
     "text": [
      "True\n",
      "False\n"
     ]
    }
   ],
   "source": [
    "a=300\n",
    "b=300\n",
    "print(a == b)\n",
    "print(a is b)"
   ]
  },
  {
   "cell_type": "code",
   "execution_count": 51,
   "id": "b7fd59e7-f086-478d-9ece-ad9e015cbeff",
   "metadata": {},
   "outputs": [
    {
     "name": "stdout",
     "output_type": "stream",
     "text": [
      "True\n",
      "True\n"
     ]
    }
   ],
   "source": [
    "a=5\n",
    "b=5 #b=a\n",
    "print(a == b)\n",
    "print(a is b) #-5~256까지는 특정 영역에 저장된다. -> 참조하는 주소가 같다."
   ]
  },
  {
   "cell_type": "code",
   "execution_count": 53,
   "id": "6c8f6fce-b592-4176-b725-577ec9f10673",
   "metadata": {},
   "outputs": [
    {
     "name": "stdout",
     "output_type": "stream",
     "text": [
      "[50, 40, 30, 20, 10] [1, 2, 3, 4, 5]\n"
     ]
    }
   ],
   "source": [
    "a=[50,40,30,20,10]\n",
    "b=[1,2,3,4,5]\n",
    "print(a,b)"
   ]
  },
  {
   "cell_type": "code",
   "execution_count": 54,
   "id": "a3476dc8-8472-48ce-9d80-aac4adf7357e",
   "metadata": {},
   "outputs": [
    {
     "name": "stdout",
     "output_type": "stream",
     "text": [
      "[50, 40, 30, 20, 10] [50, 40, 30, 20, 10]\n"
     ]
    }
   ],
   "source": [
    "b=a\n",
    "print(a,b)"
   ]
  },
  {
   "cell_type": "code",
   "execution_count": 55,
   "id": "e1230856-aaa4-4eff-aec5-8758817f4fa7",
   "metadata": {},
   "outputs": [
    {
     "name": "stdout",
     "output_type": "stream",
     "text": [
      "[10, 20, 30, 40, 50]\n"
     ]
    }
   ],
   "source": [
    "a.sort()\n",
    "print(b)"
   ]
  }
 ],
 "metadata": {
  "kernelspec": {
   "display_name": "Python 3",
   "language": "python",
   "name": "python3"
  },
  "language_info": {
   "codemirror_mode": {
    "name": "ipython",
    "version": 3
   },
   "file_extension": ".py",
   "mimetype": "text/x-python",
   "name": "python",
   "nbconvert_exporter": "python",
   "pygments_lexer": "ipython3",
   "version": "3.8.8"
  }
 },
 "nbformat": 4,
 "nbformat_minor": 5
}
