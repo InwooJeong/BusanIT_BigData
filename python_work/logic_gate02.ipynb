{
 "cells": [
  {
   "cell_type": "code",
   "execution_count": 21,
   "id": "89d0a65c-2f49-4abf-af26-fbcb5bfe0a69",
   "metadata": {},
   "outputs": [],
   "source": [
    "import numpy as np\n",
    "\n",
    "def sigmoid(x):\n",
    "    return 1/(1+np.exp(-x))\n",
    "\n",
    "def numerical_derivative(f,x):\n",
    "    delta_x=1e-4\n",
    "    grad=np.zeros_like(x)\n",
    "    #print(\"debug1. initial input variable =\",x)\n",
    "    #print(\"debug2. initial grad =\",grad)\n",
    "    #print(\"==============================================\")\n",
    "    \n",
    "    it=np.nditer(x,flags=['multi_index'],op_flags=['readwrite'])\n",
    "    \n",
    "    while not it.finished:\n",
    "        idx=it.multi_index\n",
    "        #print(\"debug3. idx= \", idx, \", x[idx] =\",x[idx])\n",
    "        \n",
    "        tmp_val = x[idx]\n",
    "        x[idx] = float(tmp_val) + delta_x\n",
    "        fx1 = f(x) # f(x+delta_x)\n",
    "        \n",
    "        x[idx] = tmp_val - delta_x\n",
    "        fx2 = f(x) # f(x-delta_x)\n",
    "        grad[idx] = (fx1 - fx2) / (2*delta_x)\n",
    "        \n",
    "        #print(\"debug4. grad[idx] =\",grad[idx])\n",
    "        #print(\"debug5. grad =\",grad)\n",
    "        #print(\"==============================================\")\n",
    "        \n",
    "        x[idx] = tmp_val\n",
    "        it.iternext() \n",
    "        \n",
    "    return grad"
   ]
  },
  {
   "cell_type": "code",
   "execution_count": 22,
   "id": "3aa8e93f-eb6b-4913-9ddb-342b0ae2f602",
   "metadata": {},
   "outputs": [],
   "source": [
    "#LogicGate Class\n",
    "\n",
    "class LogicGate:\n",
    "    \n",
    "    def __init__(self,gate_name,xdata,tdata): #xdata,tdata => numpy.array(...)\n",
    "        \n",
    "        self.name=gate_name\n",
    "        \n",
    "        #입력 데이터, 정답 데이터 초기화\n",
    "        self.__xdata=xdata.reshape(4,2) #4개 입력데이터 x1, x2에 대하여 batch 처리 행렬\n",
    "        self.__tdata=tdata.reshape(4,1) #4개 입력데이터 x1, x2에 대하여 각각 계산 값 행렬\n",
    "        \n",
    "        #2층 hidden layer unit : 6개 가정, 가중치 W2, 바이어스 b2초기화\n",
    "        self.__W2=np.random.rand(2,6) #weight, 2X6 matrix\n",
    "        self.__b2=np.random.rand(6)\n",
    "        \n",
    "        #3층 output layer unit : 1개 , 가중치 W3, 바이어스 b3초기화\n",
    "        self.__W3=np.random.rand(6,1)\n",
    "        self.__b3=np.random.rand(1)\n",
    "        \n",
    "        #학습률 learning_rate 초기화\n",
    "        self.__learning_rate=1e-2\n",
    "        \n",
    "        print(self.name+'object is created')\n",
    "        \n",
    "    def feed_forward(self):\n",
    "        \n",
    "        delta=1e-7 #log 무한대 발산 방지\n",
    "    \n",
    "        z2=np.dot(self.__xdata,self.__W2)+self.__b2 #은닉층 선형회귀 값\n",
    "        a2=sigmoid(z2) #은닉층 출력\n",
    "        \n",
    "        z3=np.dot(a2,self.__W3)+self.__b3 #출력층 선형회귀 값\n",
    "        y=a3=sigmoid(z3) #출력층 출력\n",
    "    \n",
    "        return -np.sum(self.__tdata*np.log(y+delta)+(1-self.__tdata)*np.log((1-y)+delta))\n",
    "    \n",
    "    def loss_val(self):\n",
    "        \n",
    "        delta=1e-7 #log 무한대 발산 방지\n",
    "    \n",
    "        z2=np.dot(self.__xdata,self.__W2)+self.__b2 #은닉층 선형회귀 값\n",
    "        a2=sigmoid(z2) #은닉층 출력\n",
    "        \n",
    "        z3=np.dot(a2,self.__W3)+self.__b3 #출력층 선형회귀 값\n",
    "        y=a3=sigmoid(z3) #출력층 출력\n",
    "    \n",
    "        return -np.sum(self.__tdata*np.log(y+delta)+(1-self.__tdata)*np.log((1-y)+delta))\n",
    "        \n",
    "    def train(self):\n",
    "        \n",
    "        f=lambda x : self.feed_forward()\n",
    "        \n",
    "        print('Initial error value=',self.loss_val())\n",
    "        \n",
    "        for step in range(10001):\n",
    "            self.__W2-=self.__learning_rate*numerical_derivative(f,self.__W2)\n",
    "            self.__b2-=self.__learning_rate*numerical_derivative(f,self.__b2)\n",
    "            self.__W3-=self.__learning_rate*numerical_derivative(f,self.__W3)\n",
    "            self.__b3-=self.__learning_rate*numerical_derivative(f,self.__b3)\n",
    "    \n",
    "            if(step%400==0):\n",
    "                print('step=',step,', error value=',self.loss_val())\n",
    "                \n",
    "    def predict(self,xdata): #feed forward를 통하여 손실함수(cross-entropy 값 계산)\n",
    "        \n",
    "        z2=np.dot(xdata,self.__W2)+self.__b2 #은닉층 선형회귀 값\n",
    "        a2=sigmoid(z2) #은닉층 출력\n",
    "        \n",
    "        z3=np.dot(a2,self.__W3)+self.__b3 #출력층 선형회귀 값\n",
    "        y=a3=sigmoid(z3) #출력층 출력\n",
    "    \n",
    "        if y>0.5:\n",
    "            result=1 #True\n",
    "        else:\n",
    "            result=0 #False\n",
    "        \n",
    "        return y, result"
   ]
  },
  {
   "cell_type": "code",
   "execution_count": 23,
   "id": "efc23377-0a7f-439b-94c1-4c83bf7576ea",
   "metadata": {},
   "outputs": [
    {
     "name": "stdout",
     "output_type": "stream",
     "text": [
      "AND_GATEobject is created\n",
      "Initial error value= 6.943988598122676\n",
      "step= 0 , error value= 6.681059432703521\n",
      "step= 400 , error value= 2.2358282794109803\n",
      "step= 800 , error value= 2.1499510407866307\n",
      "step= 1200 , error value= 2.0203746981418007\n",
      "step= 1600 , error value= 1.8047366191260454\n",
      "step= 2000 , error value= 1.4728163694481031\n",
      "step= 2400 , error value= 1.0952573310036473\n",
      "step= 2800 , error value= 0.793570999791734\n",
      "step= 3200 , error value= 0.5816800552896513\n",
      "step= 3600 , error value= 0.4353629627078054\n",
      "step= 4000 , error value= 0.33432009969304066\n",
      "step= 4400 , error value= 0.2637132435451036\n",
      "step= 4800 , error value= 0.21334252444334112\n",
      "step= 5200 , error value= 0.17651380642055803\n",
      "step= 5600 , error value= 0.14890691827919356\n",
      "step= 6000 , error value= 0.12772166943642566\n",
      "step= 6400 , error value= 0.11111449182403697\n",
      "step= 6800 , error value= 0.09784638053845257\n",
      "step= 7200 , error value= 0.08706604346050338\n",
      "step= 7600 , error value= 0.07817567611987347\n",
      "step= 8000 , error value= 0.0707466937241966\n",
      "step= 8400 , error value= 0.06446585013831135\n",
      "step= 8800 , error value= 0.059100099120559496\n",
      "step= 9200 , error value= 0.05447321955393725\n",
      "step= 9600 , error value= 0.05044996484099325\n",
      "step= 10000 , error value= 0.046925116711970846\n"
     ]
    }
   ],
   "source": [
    "#AND GATE\n",
    "xdata=np.array([[0,0],[0,1],[1,0],[1,1]])\n",
    "tdata=np.array([0,0,0,1])\n",
    "\n",
    "AND_obj=LogicGate('AND_GATE',xdata,tdata)\n",
    "AND_obj.train()"
   ]
  },
  {
   "cell_type": "code",
   "execution_count": 24,
   "id": "8f58a944-7cc0-4458-9f25-14b6dd43571a",
   "metadata": {},
   "outputs": [
    {
     "name": "stdout",
     "output_type": "stream",
     "text": [
      "AND_GATE \n",
      "\n",
      "[0 0]  =  0 \n",
      "\n",
      "[0 1]  =  0 \n",
      "\n",
      "[1 0]  =  0 \n",
      "\n",
      "[1 1]  =  1 \n",
      "\n"
     ]
    }
   ],
   "source": [
    "#AND Gate prediction\n",
    "print(AND_obj.name, '\\n')\n",
    "\n",
    "test_data=np.array([[0,0],[0,1],[1,0],[1,1]])\n",
    "\n",
    "for input_data in test_data:\n",
    "    (sigmoid_val, logical_val)=AND_obj.predict(input_data)\n",
    "    print(input_data,' = ',logical_val,'\\n')"
   ]
  },
  {
   "cell_type": "code",
   "execution_count": 26,
   "id": "7df59129-d22c-45f4-889e-583a165ac2f7",
   "metadata": {},
   "outputs": [
    {
     "name": "stdout",
     "output_type": "stream",
     "text": [
      "OR_GATEobject is created\n",
      "Initial error value= 2.4821471711373895\n",
      "step= 0 , error value= 2.467066684265053\n",
      "step= 400 , error value= 1.7976505385610368\n",
      "step= 800 , error value= 1.465553199687986\n",
      "step= 1200 , error value= 1.0773117976075366\n",
      "step= 1600 , error value= 0.7436117455449711\n",
      "step= 2000 , error value= 0.5123268842906972\n",
      "step= 2400 , error value= 0.36529421652038263\n",
      "step= 2800 , error value= 0.27203769523416044\n",
      "step= 3200 , error value= 0.21091614523593666\n",
      "step= 3600 , error value= 0.16915804769483778\n",
      "step= 4000 , error value= 0.139466993399154\n",
      "step= 4400 , error value= 0.11759793736380318\n",
      "step= 4800 , error value= 0.10099521359762993\n",
      "step= 5200 , error value= 0.08806168672905361\n",
      "step= 5600 , error value= 0.07776288775741551\n",
      "step= 6000 , error value= 0.06940653714419405\n",
      "step= 6400 , error value= 0.06251559830806444\n",
      "step= 6800 , error value= 0.0567526910329417\n",
      "step= 7200 , error value= 0.05187363004862668\n",
      "step= 7600 , error value= 0.04769801351314284\n",
      "step= 8000 , error value= 0.04409009750137324\n",
      "step= 8400 , error value= 0.04094605169257475\n",
      "step= 8800 , error value= 0.03818527678897401\n",
      "step= 9200 , error value= 0.0357443688142073\n",
      "step= 9600 , error value= 0.03357284579775487\n",
      "step= 10000 , error value= 0.0316300712531769\n"
     ]
    }
   ],
   "source": [
    "#OR GATE\n",
    "xdata=np.array([[0,0],[0,1],[1,0],[1,1]])\n",
    "tdata=np.array([0,1,1,1])\n",
    "\n",
    "OR_obj=LogicGate('OR_GATE',xdata,tdata)\n",
    "OR_obj.train()"
   ]
  },
  {
   "cell_type": "code",
   "execution_count": 25,
   "id": "a439844f-7377-4813-8ffe-af26d8cea521",
   "metadata": {},
   "outputs": [
    {
     "name": "stdout",
     "output_type": "stream",
     "text": [
      "OR_GATE \n",
      "\n",
      "[0 0]  =  0 \n",
      "\n",
      "[0 1]  =  1 \n",
      "\n",
      "[1 0]  =  1 \n",
      "\n",
      "[1 1]  =  1 \n",
      "\n"
     ]
    }
   ],
   "source": [
    "#OR Gate prediction\n",
    "print(OR_obj.name, '\\n')\n",
    "\n",
    "test_data=np.array([[0,0],[0,1],[1,0],[1,1]])\n",
    "\n",
    "for input_data in test_data:\n",
    "    (sigmoid_val, logical_val)=OR_obj.predict(input_data)\n",
    "    print(input_data,' = ',logical_val,'\\n')"
   ]
  },
  {
   "cell_type": "code",
   "execution_count": 27,
   "id": "80192770-3c15-414e-8168-9bdfa712600c",
   "metadata": {},
   "outputs": [
    {
     "name": "stdout",
     "output_type": "stream",
     "text": [
      "NAND_GATEobject is created\n",
      "Initial error value= 2.995604243477096\n",
      "step= 0 , error value= 2.9721515737535444\n",
      "step= 400 , error value= 2.3132675632593362\n",
      "step= 800 , error value= 2.2347617938373268\n",
      "step= 1200 , error value= 2.1133251716144112\n",
      "step= 1600 , error value= 1.8703700804139844\n",
      "step= 2000 , error value= 1.5033430050315952\n",
      "step= 2400 , error value= 1.124697227444173\n",
      "step= 2800 , error value= 0.8194895174610387\n",
      "step= 3200 , error value= 0.6013883022986555\n",
      "step= 3600 , error value= 0.4505286117037855\n",
      "step= 4000 , error value= 0.3464919036564537\n",
      "step= 4400 , error value= 0.2738180806914161\n",
      "step= 4800 , error value= 0.22193727344702158\n",
      "step= 5200 , error value= 0.18395829971704042\n",
      "step= 5600 , error value= 0.1554487483376794\n",
      "step= 6000 , error value= 0.13353894434606456\n",
      "step= 6400 , error value= 0.11633947871959398\n",
      "step= 6800 , error value= 0.10257972379652452\n",
      "step= 7200 , error value= 0.09138585666946114\n",
      "step= 7600 , error value= 0.08214361432894315\n",
      "step= 8000 , error value= 0.07441214068882399\n",
      "step= 8400 , error value= 0.06786887879902265\n",
      "step= 8800 , error value= 0.06227360838583747\n",
      "step= 9200 , error value= 0.05744450419111742\n",
      "step= 9600 , error value= 0.053241887110433254\n",
      "step= 10000 , error value= 0.04955699319717059\n"
     ]
    }
   ],
   "source": [
    "#NAND GATE\n",
    "xdata=np.array([[0,0],[0,1],[1,0],[1,1]])\n",
    "tdata=np.array([1,1,1,0])\n",
    "\n",
    "NAND_obj=LogicGate('NAND_GATE',xdata,tdata)\n",
    "NAND_obj.train()"
   ]
  },
  {
   "cell_type": "code",
   "execution_count": 28,
   "id": "79551c9c-fe55-4a99-9460-a2f017f47d20",
   "metadata": {},
   "outputs": [
    {
     "name": "stdout",
     "output_type": "stream",
     "text": [
      "NAND_GATE \n",
      "\n",
      "[0 0]  =  1 \n",
      "\n",
      "[0 1]  =  1 \n",
      "\n",
      "[1 0]  =  1 \n",
      "\n",
      "[1 1]  =  0 \n",
      "\n"
     ]
    }
   ],
   "source": [
    "#NAND Gate prediction\n",
    "print(NAND_obj.name, '\\n')\n",
    "\n",
    "test_data=np.array([[0,0],[0,1],[1,0],[1,1]])\n",
    "\n",
    "for input_data in test_data:\n",
    "    (sigmoid_val, logical_val)=NAND_obj.predict(input_data)\n",
    "    print(input_data,' = ',logical_val,'\\n')"
   ]
  },
  {
   "cell_type": "code",
   "execution_count": 29,
   "id": "af81e538-e6d2-4ef6-94ec-e9583ac741b1",
   "metadata": {},
   "outputs": [
    {
     "name": "stdout",
     "output_type": "stream",
     "text": [
      "XOR_GATEobject is created\n",
      "Initial error value= 6.140851494058481\n",
      "step= 0 , error value= 5.998828747038331\n",
      "step= 400 , error value= 2.75924411062292\n",
      "step= 800 , error value= 2.75453601413981\n",
      "step= 1200 , error value= 2.74904780950714\n",
      "step= 1600 , error value= 2.7423425335245843\n",
      "step= 2000 , error value= 2.733909421344756\n",
      "step= 2400 , error value= 2.723123015738612\n",
      "step= 2800 , error value= 2.70920238569111\n",
      "step= 3200 , error value= 2.691166425754403\n",
      "step= 3600 , error value= 2.6677836425750465\n",
      "step= 4000 , error value= 2.6375240425172524\n",
      "step= 4400 , error value= 2.598544755857501\n",
      "step= 4800 , error value= 2.548778566493527\n",
      "step= 5200 , error value= 2.486201423184766\n",
      "step= 5600 , error value= 2.4092211883409096\n",
      "step= 6000 , error value= 2.316830594031608\n",
      "step= 6400 , error value= 2.2080908885613493\n",
      "step= 6800 , error value= 2.0811643870107996\n",
      "step= 7200 , error value= 1.9330767134814173\n",
      "step= 7600 , error value= 1.7614502746508203\n",
      "step= 8000 , error value= 1.5679420739044825\n",
      "step= 8400 , error value= 1.3610281842286203\n",
      "step= 8800 , error value= 1.1551691916416984\n",
      "step= 9200 , error value= 0.9655843247237982\n",
      "step= 9600 , error value= 0.8022969455878242\n",
      "step= 10000 , error value= 0.6681481184140636\n"
     ]
    }
   ],
   "source": [
    "#XOR GATE\n",
    "xdata=np.array([[0,0],[0,1],[1,0],[1,1]])\n",
    "tdata=np.array([0,1,1,0])\n",
    "\n",
    "XOR_obj=LogicGate('XOR_GATE',xdata,tdata)\n",
    "XOR_obj.train()"
   ]
  },
  {
   "cell_type": "code",
   "execution_count": 30,
   "id": "1864519b-fa5c-4122-9b94-c9cee6741f92",
   "metadata": {},
   "outputs": [
    {
     "name": "stdout",
     "output_type": "stream",
     "text": [
      "XOR_GATE \n",
      "\n",
      "[0 0]  =  0 \n",
      "\n",
      "[0 1]  =  1 \n",
      "\n",
      "[1 0]  =  1 \n",
      "\n",
      "[1 1]  =  0 \n",
      "\n"
     ]
    }
   ],
   "source": [
    "#XOR Gate prediction\n",
    "print(XOR_obj.name, '\\n')\n",
    "\n",
    "test_data=np.array([[0,0],[0,1],[1,0],[1,1]])\n",
    "\n",
    "for input_data in test_data:\n",
    "    (sigmoid_val, logical_val)=XOR_obj.predict(input_data)\n",
    "    print(input_data,' = ',logical_val,'\\n')"
   ]
  }
 ],
 "metadata": {
  "kernelspec": {
   "display_name": "Python 3",
   "language": "python",
   "name": "python3"
  },
  "language_info": {
   "codemirror_mode": {
    "name": "ipython",
    "version": 3
   },
   "file_extension": ".py",
   "mimetype": "text/x-python",
   "name": "python",
   "nbconvert_exporter": "python",
   "pygments_lexer": "ipython3",
   "version": "3.8.8"
  }
 },
 "nbformat": 4,
 "nbformat_minor": 5
}
