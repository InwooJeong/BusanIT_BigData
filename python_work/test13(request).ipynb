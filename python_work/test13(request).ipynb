{
 "cells": [
  {
   "cell_type": "code",
   "execution_count": 1,
   "id": "379c451d-78dd-4e8c-820e-ac2b1fc47a30",
   "metadata": {},
   "outputs": [],
   "source": [
    "import requests"
   ]
  },
  {
   "cell_type": "code",
   "execution_count": 3,
   "id": "79ea8583-5c25-48bf-bc37-c0efd523eb6f",
   "metadata": {},
   "outputs": [
    {
     "name": "stdout",
     "output_type": "stream",
     "text": [
      "<Response [200]>\n"
     ]
    }
   ],
   "source": [
    "res=requests.get('http://www.naver.com')\n",
    "print(res)"
   ]
  },
  {
   "cell_type": "code",
   "execution_count": 4,
   "id": "9abebbdb-ebe6-4cde-b543-d016c8758935",
   "metadata": {},
   "outputs": [
    {
     "name": "stdout",
     "output_type": "stream",
     "text": [
      "<class 'requests.models.Response'>\n",
      "<!DOCTYPE html>\n",
      "<html>\n",
      "<head>\n",
      "<meta charset=\"UTF-8\">\n",
      "<title>테스트</title>\n",
      "</head>\n",
      "<body>\n",
      "<h1>웹 크롤링을 테스트 합니다.</h1>\n",
      "</body>\n",
      "</html>\n"
     ]
    }
   ],
   "source": [
    "#res=requests.request('get','http://unico2013.dothome.co.kr/crawling/exam.html')\n",
    "res=requests.get('http://unico2013.dothome.co.kr/crawling/exam.html')\n",
    "res.encoding='utf-8'\n",
    "print(type(res))\n",
    "print(res.text)"
   ]
  },
  {
   "cell_type": "code",
   "execution_count": 5,
   "id": "43f4f4d4-bc9d-466a-99dd-6cfbe29cfaa0",
   "metadata": {},
   "outputs": [
    {
     "name": "stdout",
     "output_type": "stream",
     "text": [
      "<class 'requests.models.Response'>\n",
      "\n"
     ]
    }
   ],
   "source": [
    "res=requests.request('head','http://unico2013.dothome.co.kr/crawling/exam.html')\n",
    "res.encoding='utf-8'\n",
    "print(type(res))\n",
    "print(res.text)"
   ]
  },
  {
   "cell_type": "code",
   "execution_count": 8,
   "id": "1356832c-a93c-44b8-94dd-6ec65d38a0cf",
   "metadata": {},
   "outputs": [
    {
     "name": "stdout",
     "output_type": "stream",
     "text": [
      "<class 'requests.models.Response'>\n",
      "﻿<!DOCTYPE html>\n",
      "<html>\n",
      "  <head>\n",
      "    <meta charset=\"utf-8\">\n",
      "    <title>POST TEST</title>\n",
      "  </head>\n",
      "  <body>\n",
      "   <h1>POST : 이름은 홍길동이고 나이는 20이네요!!</h1>   </body>\n",
      "</html>\n"
     ]
    }
   ],
   "source": [
    "data1={'name':'홍길동','age':20}\n",
    "#res=requests.request('post','http://unico2013.dothome.co.kr/crawling/post.php',data=data1)\n",
    "res=requests.post('http://unico2013.dothome.co.kr/crawling/post.php',data=data1)\n",
    "res.encoding='utf-8'\n",
    "print(type(res))\n",
    "print(res.text)"
   ]
  },
  {
   "cell_type": "code",
   "execution_count": 13,
   "id": "a86383af-240c-4e0a-8b5b-b18466eee785",
   "metadata": {},
   "outputs": [],
   "source": [
    "from urllib.request import urlopen\n",
    "from urllib.parse import urlencode"
   ]
  },
  {
   "cell_type": "code",
   "execution_count": 15,
   "id": "7642da30-0b0a-4a89-a53a-daac61facc74",
   "metadata": {},
   "outputs": [
    {
     "name": "stdout",
     "output_type": "stream",
     "text": [
      "﻿<!DOCTYPE html>\n",
      "<html>  \n",
      "  <head>    \n",
      "   <meta charset=\"utf-8\">    \n",
      "   <title>TEST</title>  \n",
      "  </head>  \n",
      "  <body>   \n",
      "    <h1 style='color : red'>카테고리 : 역사</h1>\n",
      "    <h2 style='color : blue'>페이지 : 25</h2>   \n",
      "  </body>\n",
      "</html>\n"
     ]
    }
   ],
   "source": [
    "from urllib.request import urlopen\n",
    "from urllib.parse import urlencode\n",
    "params=urlencode({'category':'역사','page':25})\n",
    "#url=\"http://unico2013.dothome.co.kr/crawling/exercise.php\"\n",
    "#res=requests.get(url,params)\n",
    "#res.encoding='utf-8'\n",
    "#print(type(res))\n",
    "#print(res.text)\n",
    "url=\"http://unico2013.dothome.co.kr/crawling/exercise.php?%s\"%params\n",
    "res=urlopen(url)\n",
    "print(res.read().decode('utf-8'))"
   ]
  }
 ],
 "metadata": {
  "kernelspec": {
   "display_name": "Python 3",
   "language": "python",
   "name": "python3"
  },
  "language_info": {
   "codemirror_mode": {
    "name": "ipython",
    "version": 3
   },
   "file_extension": ".py",
   "mimetype": "text/x-python",
   "name": "python",
   "nbconvert_exporter": "python",
   "pygments_lexer": "ipython3",
   "version": "3.8.8"
  }
 },
 "nbformat": 4,
 "nbformat_minor": 5
}
