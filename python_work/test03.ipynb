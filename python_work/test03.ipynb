{
 "cells": [
  {
   "cell_type": "code",
   "execution_count": 4,
   "id": "160f384f-1816-44b2-aff2-314c3411f472",
   "metadata": {},
   "outputs": [
    {
     "name": "stdout",
     "output_type": "stream",
     "text": [
      "red\n",
      "green\n",
      "blue\n",
      "3\n",
      "['red', 'green', 'pink']\n"
     ]
    }
   ],
   "source": [
    "colors=['red','green','blue']\n",
    "print(colors[0])\n",
    "print(colors[1])\n",
    "print(colors[2])\n",
    "print(len(colors))\n",
    "colors[2]='pink'\n",
    "print(colors)"
   ]
  },
  {
   "cell_type": "code",
   "execution_count": 2,
   "id": "0212d639-8928-4b19-90ad-e3447cdefe17",
   "metadata": {},
   "outputs": [
    {
     "name": "stdout",
     "output_type": "stream",
     "text": [
      "['서울', '부산', '인천', '대구', '대전', '광주', '울산', '수원']\n",
      "<class 'list'>\n",
      "8\n"
     ]
    }
   ],
   "source": [
    "cities=['서울','부산','인천','대구','대전','광주','울산','수원']\n",
    "print(cities)\n",
    "print(type(cities))\n",
    "print(len(cities))"
   ]
  },
  {
   "cell_type": "code",
   "execution_count": 9,
   "id": "47cc2c74-c74d-4e18-a4d3-3dac47b96ee8",
   "metadata": {},
   "outputs": [
    {
     "name": "stdout",
     "output_type": "stream",
     "text": [
      "['부산', '인천', '대구']\n",
      "['서울', '부산', '인천', '대구']\n",
      "['서울', '부산', '인천', '대구']\n",
      "['대구', '대전', '광주', '울산', '수원']\n",
      "['대구', '대전', '광주', '울산', '수원']\n",
      "['서울', '부산', '인천', '대구', '대전', '광주', '울산', '수원']\n",
      "['서울', '부산', '인천', '대구', '대전', '광주', '울산', '수원']\n",
      "['서울', '부산', '인천', '대구', '대전', '광주', '울산', '수원']\n"
     ]
    }
   ],
   "source": [
    "print(cities[1:4])\n",
    "print(cities[0:4])\n",
    "print(cities[:4])\n",
    "print(cities[3:8])\n",
    "print(cities[3:])\n",
    "print(cities[0:8])\n",
    "print(cities[:])\n",
    "print(cities[-10:10])"
   ]
  }
 ],
 "metadata": {
  "kernelspec": {
   "display_name": "Python 3",
   "language": "python",
   "name": "python3"
  },
  "language_info": {
   "codemirror_mode": {
    "name": "ipython",
    "version": 3
   },
   "file_extension": ".py",
   "mimetype": "text/x-python",
   "name": "python",
   "nbconvert_exporter": "python",
   "pygments_lexer": "ipython3",
   "version": "3.8.8"
  }
 },
 "nbformat": 4,
 "nbformat_minor": 5
}
