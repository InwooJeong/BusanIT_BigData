{
 "cells": [
  {
   "cell_type": "code",
   "execution_count": 1,
   "id": "bdfecdfc-8cc7-4a5e-a2ad-59191fb57cf1",
   "metadata": {},
   "outputs": [
    {
     "name": "stdout",
     "output_type": "stream",
     "text": [
      "x_data.shape= (9, 2) , t_data.shape= (9, 1)\n"
     ]
    }
   ],
   "source": [
    "import numpy as np\n",
    "\n",
    "x_data=np.array([[2,4],[4,11],[6,6],[8,5],[10,7],[12,16],[14,8],[16,3],[18,7]]).reshape(9,2)\n",
    "t_data=np.array([0,0,0,0,1,1,1,1,1]).reshape(9,1)\n",
    "\n",
    "print('x_data.shape=',x_data.shape,', t_data.shape=',t_data.shape)"
   ]
  },
  {
   "cell_type": "code",
   "execution_count": 2,
   "id": "05b537e3-56b9-4eb2-930c-e0caa46318af",
   "metadata": {},
   "outputs": [
    {
     "name": "stdout",
     "output_type": "stream",
     "text": [
      "W= [[0.63697311]\n",
      " [0.36997782]] ,W.shape= (2, 1) ,b= [0.13539016] ,b.shape= (1,)\n"
     ]
    }
   ],
   "source": [
    "W=np.random.rand(2,1)\n",
    "b=np.random.rand(1)\n",
    "print('W=',W,',W.shape=',W.shape,',b=',b,',b.shape=',b.shape)"
   ]
  },
  {
   "cell_type": "code",
   "execution_count": 3,
   "id": "f47ab34e-b02b-4504-9b9a-2821b19b67cd",
   "metadata": {},
   "outputs": [],
   "source": [
    "#최종출력은 y=sigmoind(Wx+b)이며, 손실함수는 cross=entropy로 나타냄\n",
    "\n",
    "def sigmoid(x):\n",
    "    return 1/(1+np.exp(-x))"
   ]
  },
  {
   "cell_type": "code",
   "execution_count": 4,
   "id": "ea0a6baa-515a-4e12-b2da-0da2f16a5f5e",
   "metadata": {},
   "outputs": [],
   "source": [
    "def loss_func(x,t):\n",
    "    \n",
    "    delta=1e-7 #log 무한대 발산 방지\n",
    "    \n",
    "    z=np.dot(x,W)+b #y=Wx+b\n",
    "    y=sigmoid(z)\n",
    "    \n",
    "    return -np.sum(t*np.log(y+delta)+(1-t)*np.log((1-y)+delta))"
   ]
  },
  {
   "cell_type": "code",
   "execution_count": 5,
   "id": "cdcde515-a7ce-4bba-ac1f-35f1767a3119",
   "metadata": {},
   "outputs": [],
   "source": [
    "def numerical_derivative(f,x):\n",
    "    delta_x=1e-4\n",
    "    grad=np.zeros_like(x)\n",
    "    #print(\"debug1. initial input variable =\",x)\n",
    "    #print(\"debug2. initial grad =\",grad)\n",
    "    #print(\"==============================================\")\n",
    "    \n",
    "    it=np.nditer(x,flags=['multi_index'],op_flags=['readwrite'])\n",
    "    \n",
    "    while not it.finished:\n",
    "        idx=it.multi_index\n",
    "        #print(\"debug3. idx= \", idx, \", x[idx] =\",x[idx])\n",
    "        \n",
    "        tmp_val = x[idx]\n",
    "        x[idx] = float(tmp_val) + delta_x\n",
    "        fx1 = f(x) # f(x+delta_x)\n",
    "        \n",
    "        x[idx] = tmp_val - delta_x\n",
    "        fx2 = f(x) # f(x-delta_x)\n",
    "        grad[idx] = (fx1 - fx2) / (2*delta_x)\n",
    "        \n",
    "        #print(\"debug4. grad[idx] =\",grad[idx])\n",
    "        #print(\"debug5. grad =\",grad)\n",
    "        #print(\"==============================================\")\n",
    "        \n",
    "        x[idx] = tmp_val\n",
    "        it.iternext() \n",
    "        \n",
    "    return grad"
   ]
  },
  {
   "cell_type": "code",
   "execution_count": 6,
   "id": "9941672f-158b-4fc1-8168-27cfafd0dec5",
   "metadata": {},
   "outputs": [],
   "source": [
    "def error_val(x,t):\n",
    "    delta=1e-7 #log 무한대 발산 방지\n",
    "    \n",
    "    z=np.dot(x,W)+b #y=Wx+b\n",
    "    y=sigmoid(z)\n",
    "    \n",
    "    #cross-entropy\n",
    "    return -np.sum(t*np.log(y+delta)+(1-t)*np.log((1-y)+delta))"
   ]
  },
  {
   "cell_type": "code",
   "execution_count": 7,
   "id": "f932ca12-e0fa-478f-8be3-e4e0fc680e14",
   "metadata": {},
   "outputs": [],
   "source": [
    "#학습을 마친 후, 임의 데이터에 대한 미래 값 예측 함수\n",
    "#입력변수 x:numpy type\n",
    "def predict(x):\n",
    "    z=np.dot(x,W)+b\n",
    "    y=sigmoid(z)\n",
    "    \n",
    "    if y>0.5:\n",
    "        result=1 #True\n",
    "    else:\n",
    "        result=0 #False\n",
    "        \n",
    "    return y, result"
   ]
  },
  {
   "cell_type": "code",
   "execution_count": 8,
   "id": "4c197e2b-69fc-4491-bc47-6df2a0626b8a",
   "metadata": {},
   "outputs": [
    {
     "name": "stdout",
     "output_type": "stream",
     "text": [
      "Initial error value= 22.958529414614635 Initial W= [[0.63697311]\n",
      " [0.36997782]] \n",
      " ,b= [0.13539016]\n",
      "step= 0 , error value= 12.39717341296835 , W= [[0.43829496]\n",
      " [0.11240714]] , b= [0.09822306]\n",
      "step= 400 , error value= 2.1751325586560872 , W= [[ 0.43311394]\n",
      " [-0.07912876]] , b= [-2.81614607]\n",
      "step= 800 , error value= 1.5522550260949848 , W= [[ 0.54547388]\n",
      " [-0.02235394]] , b= [-4.3838156]\n",
      "step= 1200 , error value= 1.2588062911655764 , W= [[0.63064346]\n",
      " [0.01171226]] , b= [-5.4636116]\n",
      "step= 1600 , error value= 1.0846509796202775 , W= [[0.69973679]\n",
      " [0.03629324]] , b= [-6.29625418]\n",
      "step= 2000 , error value= 0.9671102634963483 , W= [[0.75815755]\n",
      " [0.05602448]] , b= [-6.98048655]\n",
      "step= 2400 , error value= 0.8810403083101361 , W= [[0.80891978]\n",
      " [0.07299932]] , b= [-7.56603144]\n",
      "step= 2800 , error value= 0.8143917989172356 , W= [[0.85387905]\n",
      " [0.08831191]] , b= [-8.08128764]\n",
      "step= 3200 , error value= 0.7606550971389141 , W= [[0.89426296]\n",
      " [0.10258973]] , b= [-8.54393251]\n",
      "step= 3600 , error value= 0.7159943361553619 , W= [[0.93092958]\n",
      " [0.11621496]] , b= [-8.96568533]\n",
      "step= 4000 , error value= 0.6779951110060063 , W= [[0.96450567]\n",
      " [0.12942891]] , b= [-9.35469993]\n",
      "step= 4400 , error value= 0.6450569539846718 , W= [[0.99546603]\n",
      " [0.14238604]] , b= [-9.71687037]\n",
      "step= 4800 , error value= 0.6160737703176681 , W= [[1.02418174]\n",
      " [0.15518421]] , b= [-10.05659112]\n",
      "step= 5200 , error value= 0.5902545020299662 , W= [[1.05095064]\n",
      " [0.16788274]] , b= [-10.3772232]\n",
      "step= 5600 , error value= 0.5670169964999614 , W= [[1.07601729]\n",
      " [0.18051403]] , b= [-10.68139258]\n",
      "step= 6000 , error value= 0.5459223427289517 , W= [[1.09958627]\n",
      " [0.19309142]] , b= [-10.97118842]\n",
      "step= 6400 , error value= 0.5266326801787103 , W= [[1.12183129]\n",
      " [0.20561498]] , b= [-11.24829878]\n",
      "step= 6800 , error value= 0.508883193268507 , W= [[1.14290152]\n",
      " [0.21807577]] , b= [-11.51410624]\n",
      "step= 7200 , error value= 0.4924629898128148 , W= [[1.16292603]\n",
      " [0.2304593 ]] , b= [-11.76975682]\n",
      "step= 7600 , error value= 0.47720171993221844 , W= [[1.18201703]\n",
      " [0.24274803]] , b= [-12.01621074]\n",
      "step= 8000 , error value= 0.46296000858344616 , W= [[1.20027236]\n",
      " [0.25492342]] , b= [-12.25428048]\n",
      "step= 8400 , error value= 0.44962248503922453 , W= [[1.21777739]\n",
      " [0.26696735]] , b= [-12.48465983]\n",
      "step= 8800 , error value= 0.4370926201973754 , W= [[1.23460661]\n",
      " [0.27886312]] , b= [-12.7079462]\n",
      "step= 9200 , error value= 0.4252888472287838 , W= [[1.250825  ]\n",
      " [0.29059606]] , b= [-12.92465819]\n",
      "step= 9600 , error value= 0.4141416090837572 , W= [[1.26648921]\n",
      " [0.30215389]] , b= [-13.1352494]\n",
      "step= 10000 , error value= 0.4035910855975821 , W= [[1.28164859]\n",
      " [0.31352677]] , b= [-13.34011936]\n",
      "step= 10400 , error value= 0.3935854255391928 , W= [[1.29634619]\n",
      " [0.32470726]] , b= [-13.5396224]\n",
      "step= 10800 , error value= 0.3840793582212228 , W= [[1.31061956]\n",
      " [0.33569013]] , b= [-13.73407471]\n",
      "step= 11200 , error value= 0.3750330933804584 , W= [[1.32450151]\n",
      " [0.34647217]] , b= [-13.92376015]\n",
      "step= 11600 , error value= 0.36641144203611553 , W= [[1.3380208 ]\n",
      " [0.35705188]] , b= [-14.10893498]\n",
      "step= 12000 , error value= 0.35818310818802485 , W= [[1.35120266]\n",
      " [0.36742925]] , b= [-14.28983167]\n",
      "step= 12400 , error value= 0.35032011364605964 , W= [[1.36406934]\n",
      " [0.37760547]] , b= [-14.46666219]\n",
      "step= 12800 , error value= 0.3427973273908735 , W= [[1.37664053]\n",
      " [0.38758274]] , b= [-14.63962061]\n",
      "step= 13200 , error value= 0.33559207760841825 , W= [[1.38893371]\n",
      " [0.39736404]] , b= [-14.80888533]\n",
      "step= 13600 , error value= 0.3286838295753259 , W= [[1.40096449]\n",
      " [0.40695297]] , b= [-14.974621]\n",
      "step= 14000 , error value= 0.32205391635947883 , W= [[1.41274685]\n",
      " [0.41635357]] , b= [-15.13698002]\n",
      "step= 14400 , error value= 0.31568531216977364 , W= [[1.42429338]\n",
      " [0.42557024]] , b= [-15.29610397]\n",
      "step= 14800 , error value= 0.30956244037632935 , W= [[1.43561548]\n",
      " [0.43460759]] , b= [-15.45212468]\n",
      "step= 15200 , error value= 0.30367100990035484 , W= [[1.44672351]\n",
      " [0.44347038]] , b= [-15.60516528]\n",
      "step= 15600 , error value= 0.29799787496714425 , W= [[1.45762692]\n",
      " [0.45216344]] , b= [-15.75534101]\n",
      "step= 16000 , error value= 0.29253091422000366 , W= [[1.46833437]\n",
      " [0.46069161]] , b= [-15.90275999]\n",
      "step= 16400 , error value= 0.2872589259763472 , W= [[1.47885385]\n",
      " [0.46905974]] , b= [-16.04752383]\n",
      "step= 16800 , error value= 0.2821715370214411 , W= [[1.48919273]\n",
      " [0.47727259]] , b= [-16.18972826]\n",
      "step= 17200 , error value= 0.27725912282076626 , W= [[1.49935785]\n",
      " [0.48533484]] , b= [-16.32946355]\n",
      "step= 17600 , error value= 0.2725127374157648 , W= [[1.50935558]\n",
      " [0.49325109]] , b= [-16.46681502]\n",
      "step= 18000 , error value= 0.26792405157511434 , W= [[1.51919185]\n",
      " [0.50102579]] , b= [-16.6018634]\n",
      "step= 18400 , error value= 0.2634852980190829 , W= [[1.52887224]\n",
      " [0.5086633 ]] , b= [-16.7346852]\n",
      "step= 18800 , error value= 0.2591892227330461 , W= [[1.53840195]\n",
      " [0.51616782]] , b= [-16.86535299]\n",
      "step= 19200 , error value= 0.25502904154701034 , W= [[1.54778591]\n",
      " [0.52354343]] , b= [-16.99393574]\n",
      "step= 19600 , error value= 0.2509984012887875 , W= [[1.55702876]\n",
      " [0.53079406]] , b= [-17.12049903]\n",
      "step= 20000 , error value= 0.24709134492574458 , W= [[1.56613488]\n",
      " [0.5379235 ]] , b= [-17.24510529]\n"
     ]
    }
   ],
   "source": [
    "learning_rate=1e-2 #발산하는 경우 1e-3 ~ 1e-6 등으로 바꿔서 실행\n",
    "\n",
    "f=lambda x : loss_func(x_data,t_data) #f(x)=loss_funcs(x_data,t_data)\n",
    "\n",
    "print('Initial error value=',error_val(x_data,t_data),'Initial W=',W,'\\n',',b=',b)\n",
    "\n",
    "for step in range(20001):\n",
    "    W-=learning_rate*numerical_derivative(f,W)\n",
    "    b-=learning_rate*numerical_derivative(f,b)\n",
    "    \n",
    "    if(step%400==0):\n",
    "        print('step=',step,', error value=',error_val(x_data,t_data),', W=',W,', b=',b)"
   ]
  },
  {
   "cell_type": "code",
   "execution_count": 9,
   "id": "831ab6aa-f2dc-4f1d-bf3c-1b6a53ce4811",
   "metadata": {},
   "outputs": [
    {
     "name": "stdout",
     "output_type": "stream",
     "text": [
      "[0.00015356] 0\n"
     ]
    }
   ],
   "source": [
    "(real_val,logical_val)=predict([3,7])\n",
    "print(real_val,logical_val)"
   ]
  },
  {
   "cell_type": "code",
   "execution_count": 10,
   "id": "cd227f3d-4083-491e-aaec-437d4189cdd0",
   "metadata": {},
   "outputs": [
    {
     "name": "stdout",
     "output_type": "stream",
     "text": [
      "[0.00599365] 0\n"
     ]
    }
   ],
   "source": [
    "(real_val,logical_val)=predict([5,8])\n",
    "print(real_val,logical_val)"
   ]
  },
  {
   "cell_type": "code",
   "execution_count": 11,
   "id": "5649e751-e725-424f-8ba2-16d3255b01e9",
   "metadata": {},
   "outputs": [
    {
     "name": "stdout",
     "output_type": "stream",
     "text": [
      "[0.99340111] 1\n"
     ]
    }
   ],
   "source": [
    "(real_val,logical_val)=predict([7,21])\n",
    "print(real_val,logical_val)"
   ]
  },
  {
   "cell_type": "code",
   "execution_count": 12,
   "id": "4d384b8b-025c-4691-9d1a-8f97179cee64",
   "metadata": {},
   "outputs": [
    {
     "name": "stdout",
     "output_type": "stream",
     "text": [
      "[0.8246989] 1\n"
     ]
    }
   ],
   "source": [
    "(real_val,logical_val)=predict([12,0])\n",
    "print(real_val,logical_val)"
   ]
  }
 ],
 "metadata": {
  "kernelspec": {
   "display_name": "Python 3",
   "language": "python",
   "name": "python3"
  },
  "language_info": {
   "codemirror_mode": {
    "name": "ipython",
    "version": 3
   },
   "file_extension": ".py",
   "mimetype": "text/x-python",
   "name": "python",
   "nbconvert_exporter": "python",
   "pygments_lexer": "ipython3",
   "version": "3.8.8"
  }
 },
 "nbformat": 4,
 "nbformat_minor": 5
}
