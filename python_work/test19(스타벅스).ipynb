{
 "cells": [
  {
   "cell_type": "code",
   "execution_count": 1,
   "id": "ae2373a8-7318-42f7-a7f9-106f7d229424",
   "metadata": {},
   "outputs": [],
   "source": [
    "from selenium import webdriver\n",
    "import time"
   ]
  },
  {
   "cell_type": "code",
   "execution_count": 19,
   "id": "3c8c4dd7-fb12-4495-8ca6-95e19af2d32b",
   "metadata": {},
   "outputs": [
    {
     "name": "stderr",
     "output_type": "stream",
     "text": [
      "<ipython-input-19-46a48c9d3de2>:5: DeprecationWarning: find_element_by_* commands are deprecated. Please use find_element() instead\n",
      "  loca=driver.find_element_by_class_name('loca_search')\n",
      "<ipython-input-19-46a48c9d3de2>:8: DeprecationWarning: find_element_by_* commands are deprecated. Please use find_element() instead\n",
      "  f_link=driver.find_element_by_css_selector('div.loca_step1_cont > ul > li:nth-child(6) > a')\n",
      "<ipython-input-19-46a48c9d3de2>:11: DeprecationWarning: find_element_by_* commands are deprecated. Please use find_element() instead\n",
      "  s_link=driver.find_element_by_css_selector('#mCSB_2_container > ul > li:nth-child(8) > a')\n",
      "<ipython-input-19-46a48c9d3de2>:13: DeprecationWarning: find_elements_by_* commands are deprecated. Please use find_elements() instead\n",
      "  shop_list=driver.find_elements_by_css_selector('#mCSB_3_container > ul > li')\n"
     ]
    },
    {
     "name": "stdout",
     "output_type": "stream",
     "text": [
      "18\n"
     ]
    }
   ],
   "source": [
    "driver=webdriver.Chrome('chromedriver')\n",
    "driver.implicitly_wait(3)\n",
    "driver.get('https://www.starbucks.co.kr/store/store_map.do')\n",
    "time.sleep(2)\n",
    "loca=driver.find_element_by_class_name('loca_search')\n",
    "loca.click()\n",
    "time.sleep(2)\n",
    "f_link=driver.find_element_by_css_selector('div.loca_step1_cont > ul > li:nth-child(6) > a')\n",
    "f_link.click()\n",
    "time.sleep(2)\n",
    "s_link=driver.find_element_by_css_selector('#mCSB_2_container > ul > li:nth-child(8) > a')\n",
    "s_link.click()\n",
    "shop_list=driver.find_elements_by_css_selector('#mCSB_3_container > ul > li')\n",
    "temp_list=[]\n",
    "time.sleep(2)\n",
    "count=0\n",
    "total=len(shop_list)\n",
    "print(total)"
   ]
  },
  {
   "cell_type": "code",
   "execution_count": 20,
   "id": "ea01f4d8-5237-4bc9-a00b-66f97a73dc2d",
   "metadata": {},
   "outputs": [],
   "source": [
    "for shop in shop_list:\n",
    "    #print(shop.text)\n",
    "    count+=1\n",
    "    shop_lat=shop.get_attribute('data-lat')\n",
    "    shop_long=shop.get_attribute('data-long')\n",
    "    shop_name=shop.find_element_by_tag_name('strong').text\n",
    "    shop_info=shop.find_element_by_tag_name('p').text\n",
    "    split_info=shop_info.split('\\n')\n",
    "    if len(split_info)==2:\n",
    "        address=split_info[0]\n",
    "        phone=split_info[1]\n",
    "    temp_list.append([shop_name,shop_lat,shop_long,address,phone])\n",
    "    \n",
    "    if count != total and count%3==0:\n",
    "        #(\\명령줄 연결)\n",
    "        driver.execute_script(\"var su=arguments[0];var dom=document.querySelectorAll('#mCSB_3_container > ul > li')[su];dom.scrollIntoView();\",count)\n",
    "#print(temp_list)\n",
    "with open(\"data/starbucks_shop.text\",'wt',encoding='utf-8') as f:\n",
    "    for item in temp_list:\n",
    "        f.write(str(item)+\"\\n\")"
   ]
  },
  {
   "cell_type": "code",
   "execution_count": 24,
   "id": "59f62075-12a0-4a67-860e-2329b358fcdc",
   "metadata": {},
   "outputs": [],
   "source": [
    "import pandas as pd\n",
    "df=pd.DataFrame(temp_list,columns=['shopName','shopLate','shopLong','address','phone'])\n",
    "df.to_csv('data/starbuck',index=False)"
   ]
  }
 ],
 "metadata": {
  "kernelspec": {
   "display_name": "Python 3",
   "language": "python",
   "name": "python3"
  },
  "language_info": {
   "codemirror_mode": {
    "name": "ipython",
    "version": 3
   },
   "file_extension": ".py",
   "mimetype": "text/x-python",
   "name": "python",
   "nbconvert_exporter": "python",
   "pygments_lexer": "ipython3",
   "version": "3.8.8"
  }
 },
 "nbformat": 4,
 "nbformat_minor": 5
}
