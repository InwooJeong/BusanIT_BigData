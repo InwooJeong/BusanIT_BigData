{
 "cells": [
  {
   "cell_type": "code",
   "execution_count": 2,
   "id": "94374844-2b7b-4e8d-955f-69e8c4bbf36e",
   "metadata": {},
   "outputs": [],
   "source": [
    "import tensorflow as tf\n",
    "import numpy as np\n",
    "from tensorflow.keras.datasets import mnist\n",
    "from tensorflow.keras.models import Sequential\n",
    "from tensorflow.keras.layers import Conv2D, MaxPool2D, Flatten, Dense, Dropout"
   ]
  },
  {
   "cell_type": "code",
   "execution_count": 3,
   "id": "d99569c6-0916-46b6-874b-3353542d6309",
   "metadata": {},
   "outputs": [
    {
     "name": "stdout",
     "output_type": "stream",
     "text": [
      "(60000, 28, 28, 1) (10000, 28, 28, 1)\n",
      "(60000,) (10000,)\n"
     ]
    }
   ],
   "source": [
    "(x_train,y_train),(x_test,y_test)=mnist.load_data()\n",
    "\n",
    "x_train=x_train.reshape(-1,28,28,1)\n",
    "x_test=x_test.reshape(-1,28,28,1)\n",
    "\n",
    "print(x_train.shape,x_test.shape)\n",
    "print(y_train.shape,y_test.shape)\n",
    "\n",
    "x_train=x_train.astype(np.float32)/255.0\n",
    "x_test=x_test.astype(np.float32)/255.0"
   ]
  },
  {
   "cell_type": "code",
   "execution_count": 4,
   "id": "60e94a0b-4073-41a3-b552-8fb6d8a0ccbd",
   "metadata": {},
   "outputs": [],
   "source": [
    "cnn=Sequential()\n",
    "\n",
    "cnn.add(Conv2D(input_shape=(28,28,1),kernel_size=(3,3),\n",
    "              filters=32,activation='relu'))\n",
    "cnn.add(Conv2D(kernel_size=(3,3),filters=64,activation='relu'))\n",
    "cnn.add(MaxPool2D(pool_size=(2,2)))\n",
    "cnn.add(Dropout(0.25))\n",
    "\n",
    "cnn.add(Flatten())\n",
    "\n",
    "cnn.add(Dense(128,activation='relu'))\n",
    "cnn.add(Dropout(0.5))\n",
    "cnn.add(Dense(10,activation='softmax'))"
   ]
  },
  {
   "cell_type": "code",
   "execution_count": 5,
   "id": "e436a6f6-42c2-4c1a-a3b8-9b8aee3b1aa4",
   "metadata": {},
   "outputs": [
    {
     "name": "stdout",
     "output_type": "stream",
     "text": [
      "Model: \"sequential\"\n",
      "_________________________________________________________________\n",
      " Layer (type)                Output Shape              Param #   \n",
      "=================================================================\n",
      " conv2d (Conv2D)             (None, 26, 26, 32)        320       \n",
      "                                                                 \n",
      " conv2d_1 (Conv2D)           (None, 24, 24, 64)        18496     \n",
      "                                                                 \n",
      " max_pooling2d (MaxPooling2D  (None, 12, 12, 64)       0         \n",
      " )                                                               \n",
      "                                                                 \n",
      " dropout (Dropout)           (None, 12, 12, 64)        0         \n",
      "                                                                 \n",
      " flatten (Flatten)           (None, 9216)              0         \n",
      "                                                                 \n",
      " dense (Dense)               (None, 128)               1179776   \n",
      "                                                                 \n",
      " dropout_1 (Dropout)         (None, 128)               0         \n",
      "                                                                 \n",
      " dense_1 (Dense)             (None, 10)                1290      \n",
      "                                                                 \n",
      "=================================================================\n",
      "Total params: 1,199,882\n",
      "Trainable params: 1,199,882\n",
      "Non-trainable params: 0\n",
      "_________________________________________________________________\n"
     ]
    }
   ],
   "source": [
    "cnn.compile(loss='sparse_categorical_crossentropy',optimizer=tf.keras.optimizers.Adam(),metrics=['accuracy'])\n",
    "\n",
    "cnn.summary()"
   ]
  },
  {
   "cell_type": "code",
   "execution_count": 6,
   "id": "13614f4c-0f47-4bf1-99ca-210679ffc72b",
   "metadata": {},
   "outputs": [
    {
     "name": "stdout",
     "output_type": "stream",
     "text": [
      "Epoch 1/30\n",
      "469/469 [==============================] - 89s 188ms/step - loss: 0.2363 - accuracy: 0.9281 - val_loss: 0.0506 - val_accuracy: 0.9841\n",
      "Epoch 2/30\n",
      "469/469 [==============================] - 89s 190ms/step - loss: 0.0838 - accuracy: 0.9749 - val_loss: 0.0358 - val_accuracy: 0.9880\n",
      "Epoch 3/30\n",
      "469/469 [==============================] - 95s 202ms/step - loss: 0.0620 - accuracy: 0.9813 - val_loss: 0.0298 - val_accuracy: 0.9905\n",
      "Epoch 4/30\n",
      "469/469 [==============================] - 94s 201ms/step - loss: 0.0519 - accuracy: 0.9837 - val_loss: 0.0334 - val_accuracy: 0.9891\n",
      "Epoch 5/30\n",
      "469/469 [==============================] - 91s 194ms/step - loss: 0.0440 - accuracy: 0.9861 - val_loss: 0.0292 - val_accuracy: 0.9914\n",
      "Epoch 6/30\n",
      "469/469 [==============================] - 91s 194ms/step - loss: 0.0395 - accuracy: 0.9875 - val_loss: 0.0290 - val_accuracy: 0.9907\n",
      "Epoch 7/30\n",
      "469/469 [==============================] - 91s 194ms/step - loss: 0.0255 - accuracy: 0.9918 - val_loss: 0.0326 - val_accuracy: 0.9911\n",
      "Epoch 11/30\n",
      "469/469 [==============================] - 90s 193ms/step - loss: 0.0230 - accuracy: 0.9925 - val_loss: 0.0276 - val_accuracy: 0.9924\n",
      "Epoch 12/30\n",
      "469/469 [==============================] - 74s 158ms/step - loss: 0.0208 - accuracy: 0.9930 - val_loss: 0.0287 - val_accuracy: 0.9919\n",
      "Epoch 14/30\n",
      "469/469 [==============================] - 48s 102ms/step - loss: 0.0194 - accuracy: 0.9935 - val_loss: 0.0275 - val_accuracy: 0.9929\n",
      "Epoch 15/30\n",
      "469/469 [==============================] - 48s 102ms/step - loss: 0.0169 - accuracy: 0.9945 - val_loss: 0.0272 - val_accuracy: 0.9933\n",
      "Epoch 16/30\n",
      "469/469 [==============================] - 48s 103ms/step - loss: 0.0161 - accuracy: 0.9946 - val_loss: 0.0276 - val_accuracy: 0.9934\n",
      "Epoch 17/30\n",
      "469/469 [==============================] - 48s 103ms/step - loss: 0.0173 - accuracy: 0.9941 - val_loss: 0.0287 - val_accuracy: 0.9927\n",
      "Epoch 18/30\n",
      "469/469 [==============================] - 49s 104ms/step - loss: 0.0155 - accuracy: 0.9949 - val_loss: 0.0305 - val_accuracy: 0.9924\n",
      "Epoch 19/30\n",
      "469/469 [==============================] - 51s 110ms/step - loss: 0.0148 - accuracy: 0.9949 - val_loss: 0.0294 - val_accuracy: 0.9928\n",
      "Epoch 20/30\n",
      "469/469 [==============================] - 50s 106ms/step - loss: 0.0146 - accuracy: 0.9952 - val_loss: 0.0317 - val_accuracy: 0.9922\n",
      "Epoch 21/30\n",
      "469/469 [==============================] - 50s 108ms/step - loss: 0.0118 - accuracy: 0.9959 - val_loss: 0.0307 - val_accuracy: 0.9930\n",
      "Epoch 22/30\n",
      "469/469 [==============================] - 49s 103ms/step - loss: 0.0133 - accuracy: 0.9953 - val_loss: 0.0294 - val_accuracy: 0.9933\n",
      "Epoch 23/30\n",
      "469/469 [==============================] - 48s 102ms/step - loss: 0.0116 - accuracy: 0.9959 - val_loss: 0.0317 - val_accuracy: 0.9927\n",
      "Epoch 24/30\n",
      "469/469 [==============================] - 54s 115ms/step - loss: 0.0132 - accuracy: 0.9954 - val_loss: 0.0339 - val_accuracy: 0.9920\n",
      "Epoch 25/30\n",
      "469/469 [==============================] - 56s 118ms/step - loss: 0.0117 - accuracy: 0.9963 - val_loss: 0.0309 - val_accuracy: 0.9935\n",
      "Epoch 26/30\n",
      "469/469 [==============================] - 53s 112ms/step - loss: 0.0108 - accuracy: 0.9964 - val_loss: 0.0350 - val_accuracy: 0.9925\n",
      "Epoch 27/30\n",
      "469/469 [==============================] - 55s 117ms/step - loss: 0.0114 - accuracy: 0.9963 - val_loss: 0.0368 - val_accuracy: 0.9924\n",
      "Epoch 28/30\n",
      "469/469 [==============================] - 55s 118ms/step - loss: 0.0113 - accuracy: 0.9963 - val_loss: 0.0352 - val_accuracy: 0.9928\n",
      "Epoch 29/30\n",
      "469/469 [==============================] - 55s 118ms/step - loss: 0.0107 - accuracy: 0.9966 - val_loss: 0.0332 - val_accuracy: 0.9934\n",
      "Epoch 30/30\n",
      "469/469 [==============================] - 52s 111ms/step - loss: 0.0088 - accuracy: 0.9968 - val_loss: 0.0318 - val_accuracy: 0.9934\n"
     ]
    }
   ],
   "source": [
    "hist=cnn.fit(x_train,y_train,batch_size=128,epochs=30,validation_data=(x_test,y_test))"
   ]
  },
  {
   "cell_type": "code",
   "execution_count": 7,
   "id": "4ea4cbf5-3d27-4526-a90b-718dd2967152",
   "metadata": {},
   "outputs": [
    {
     "name": "stdout",
     "output_type": "stream",
     "text": [
      "313/313 [==============================] - 2s 7ms/step - loss: 0.0318 - accuracy: 0.9934\n"
     ]
    },
    {
     "data": {
      "text/plain": [
       "[0.03175079822540283, 0.993399977684021]"
      ]
     },
     "execution_count": 7,
     "metadata": {},
     "output_type": "execute_result"
    }
   ],
   "source": [
    "cnn.evaluate(x_test,y_test)"
   ]
  },
  {
   "cell_type": "code",
   "execution_count": 8,
   "id": "ec023877-ee21-4d5a-a5ea-baf026eeea4c",
   "metadata": {},
   "outputs": [
    {
     "data": {
      "image/png": "[encoded data removed]",
      "text/plain": [
       "<Figure size 432x288 with 1 Axes>"
      ]
     },
     "metadata": {
      "needs_background": "light"
     },
     "output_type": "display_data"
    }
   ],
   "source": [
    "import matplotlib.pyplot as plt\n",
    "\n",
    "plt.plot(hist.history['accuracy'])\n",
    "plt.plot(hist.history['val_accuracy'])\n",
    "plt.title('Accuracy Trend')\n",
    "plt.xlabel('epoch')\n",
    "plt.ylabel('accuracy')\n",
    "plt.legend(['train','validation'],loc='best')\n",
    "plt.grid()\n",
    "plt.show()"
   ]
  },
  {
   "cell_type": "code",
   "execution_count": 9,
   "id": "3fe5a248-0a9d-4f78-be0a-94f358bfb70c",
   "metadata": {},
   "outputs": [
    {
     "data": {
      "image/png": "[encoded data removed]",
      "text/plain": [
       "<Figure size 432x288 with 1 Axes>"
      ]
     },
     "metadata": {
      "needs_background": "light"
     },
     "output_type": "display_data"
    }
   ],
   "source": [
    "plt.plot(hist.history['loss'])\n",
    "plt.plot(hist.history['val_loss'])\n",
    "plt.title('Loss Trend')\n",
    "plt.xlabel('epoch')\n",
    "plt.ylabel('loss')\n",
    "plt.legend(['train','validation'],loc='best')\n",
    "plt.grid()\n",
    "plt.show()"
   ]
  }
 ],
 "metadata": {
  "kernelspec": {
   "display_name": "Python 3",
   "language": "python",
   "name": "python3"
  },
  "language_info": {
   "codemirror_mode": {
    "name": "ipython",
    "version": 3
   },
   "file_extension": ".py",
   "mimetype": "text/x-python",
   "name": "python",
   "nbconvert_exporter": "python",
   "pygments_lexer": "ipython3",
   "version": "3.8.8"
  }
 },
 "nbformat": 4,
 "nbformat_minor": 5
}
