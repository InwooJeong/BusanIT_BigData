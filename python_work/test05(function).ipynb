{
 "cells": [
  {
   "cell_type": "code",
   "execution_count": 4,
   "id": "e46cd8c2-be4c-476b-8edc-87af59a9b4f2",
   "metadata": {},
   "outputs": [],
   "source": [
    "def f(x):\n",
    "    y=x\n",
    "    x=5\n",
    "    return x*y"
   ]
  },
  {
   "cell_type": "code",
   "execution_count": 5,
   "id": "783f991c-f88e-4e05-b6c4-7430d3bb48cf",
   "metadata": {},
   "outputs": [
    {
     "name": "stdout",
     "output_type": "stream",
     "text": [
      "15\n",
      "3\n"
     ]
    }
   ],
   "source": [
    "x=3\n",
    "print(f(x))\n",
    "print(x)"
   ]
  },
  {
   "cell_type": "code",
   "execution_count": 9,
   "id": "7551e14c-b88c-442a-bb0c-8933d0f2a6e2",
   "metadata": {},
   "outputs": [],
   "source": [
    "def spam(eggs):\n",
    "    eggs.append(1)\n",
    "    eggs.append(2)\n",
    "    eggs.append(3)"
   ]
  },
  {
   "cell_type": "code",
   "execution_count": 10,
   "id": "be14474a-5c7c-4ccd-a5b9-41dd3c42c844",
   "metadata": {},
   "outputs": [
    {
     "name": "stdout",
     "output_type": "stream",
     "text": [
      "[0, 1, 2, 3]\n"
     ]
    }
   ],
   "source": [
    "ham=[0]\n",
    "spam(ham)\n",
    "print(ham)"
   ]
  },
  {
   "cell_type": "code",
   "execution_count": 17,
   "id": "84d7595a-0751-421d-a430-b8c40a909043",
   "metadata": {},
   "outputs": [
    {
     "name": "stdout",
     "output_type": "stream",
     "text": [
      "I love Paris! 1\n",
      "I love London! 2\n",
      "I love London! 3\n"
     ]
    }
   ],
   "source": [
    "def f():\n",
    "    global s\n",
    "    s=\"I love London!\"\n",
    "    print(s, 2)\n",
    "    \n",
    "s=\"I love Paris!\"\n",
    "print(s, 1)\n",
    "f()\n",
    "print(s, 3)"
   ]
  },
  {
   "cell_type": "code",
   "execution_count": 27,
   "id": "01d10a52-aec0-4f33-a447-a1e573eba5ae",
   "metadata": {},
   "outputs": [],
   "source": [
    "def func(name, age=20):\n",
    "    print(name, age)"
   ]
  },
  {
   "cell_type": "code",
   "execution_count": 28,
   "id": "b29df206-afc7-432d-9538-1cc1a04c2571",
   "metadata": {},
   "outputs": [
    {
     "name": "stdout",
     "output_type": "stream",
     "text": [
      "홍길동 20\n",
      "홍길동 20\n",
      "aaa 30\n",
      "bbb 20\n"
     ]
    }
   ],
   "source": [
    "func('홍길동', 20)\n",
    "\n",
    "func(age=20, name=\"홍길동\")\n",
    "\n",
    "def func2(name, age=20): #디폴트값은 반드시 뒤에\n",
    "    print(name,age)\n",
    "    \n",
    "func('aaa',30)\n",
    "func('bbb')"
   ]
  },
  {
   "cell_type": "code",
   "execution_count": 39,
   "id": "3bd75488-de1c-43a7-a44a-4ec49b33dc1c",
   "metadata": {},
   "outputs": [],
   "source": [
    "def func3(a,b,*c):\n",
    "    print(a,b,c) #튜플"
   ]
  },
  {
   "cell_type": "code",
   "execution_count": 38,
   "id": "95f7304e-49b5-4a06-b716-d0acd36b3e00",
   "metadata": {},
   "outputs": [
    {
     "name": "stdout",
     "output_type": "stream",
     "text": [
      "1 2 (3,)\n",
      "1 2 (3, 4, 5)\n",
      "1 2 (3, 4, 5, 6, 7, 8, 9)\n"
     ]
    }
   ],
   "source": [
    "func3(1,2,3)\n",
    "func3(1,2,3,4,5)\n",
    "func3(1,2,3,4,5,6,7,8,9)"
   ]
  },
  {
   "cell_type": "code",
   "execution_count": 44,
   "id": "cd16c938-27b2-4341-9d9f-325e458f9a49",
   "metadata": {},
   "outputs": [],
   "source": [
    "def func4(*args):\n",
    "    print(args) #튜플\n",
    "    a,b,*c=args\n",
    "    print(a,b,c) #일반값, 2개 이상이면 리스트"
   ]
  },
  {
   "cell_type": "code",
   "execution_count": 43,
   "id": "73dbb5a7-bb52-4980-97d8-1428bccee9d1",
   "metadata": {},
   "outputs": [
    {
     "name": "stdout",
     "output_type": "stream",
     "text": [
      "(1, 2, 3, 4)\n",
      "1 2 [3, 4]\n"
     ]
    }
   ],
   "source": [
    "func4(1,2,3,4)"
   ]
  },
  {
   "cell_type": "code",
   "execution_count": 57,
   "id": "f387e0a3-76af-4f53-b6d7-457b5c2b011e",
   "metadata": {},
   "outputs": [],
   "source": [
    "def func5(**kargs): #키워드 가변인수 **\n",
    "    print(kargs)\n",
    "    print('첫 번째 값 {first}'.format(**kargs))\n",
    "    print('두 번째 값 {second}'.format(**kargs))\n",
    "    print('세 번째 값 {third}'.format(**kargs))"
   ]
  },
  {
   "cell_type": "code",
   "execution_count": 56,
   "id": "cda51021-a5f5-4720-8e24-83827890bdc7",
   "metadata": {},
   "outputs": [
    {
     "name": "stdout",
     "output_type": "stream",
     "text": [
      "{'first': 10, 'second': 20, 'third': 30}\n",
      "첫 번째 값 10\n",
      "두 번째 값 20\n",
      "세 번째 값 30\n"
     ]
    }
   ],
   "source": [
    "func5(first=10,second=20,third=30)"
   ]
  },
  {
   "cell_type": "code",
   "execution_count": 58,
   "id": "fcfba8ed-f977-47d4-b678-2cf568c69845",
   "metadata": {},
   "outputs": [],
   "source": [
    "def func6(one, two, *args, **kwargs):\n",
    "    print(one, two, args)\n",
    "    print(kwargs)"
   ]
  },
  {
   "cell_type": "code",
   "execution_count": 59,
   "id": "caeeaa10-cb80-4ae2-8437-49ad75751297",
   "metadata": {},
   "outputs": [
    {
     "name": "stdout",
     "output_type": "stream",
     "text": [
      "1 2 (3, 4)\n",
      "{'first': 10, 'second': 20, 'third': 30}\n"
     ]
    }
   ],
   "source": [
    "func6(1,2,3,4, first=10, second=20, third=30)"
   ]
  },
  {
   "cell_type": "code",
   "execution_count": 62,
   "id": "ac4b63f5-e06f-408b-a336-fe9fff315517",
   "metadata": {},
   "outputs": [
    {
     "name": "stdout",
     "output_type": "stream",
     "text": [
      "TEAM LAB1\n"
     ]
    }
   ],
   "source": [
    "a=\"TEAM\"\n",
    "b=\"LAB\"\n",
    "c=a+\" \"+b\n",
    "print(c+str(1))"
   ]
  },
  {
   "cell_type": "code",
   "execution_count": 78,
   "id": "de4dc0ed-8b87-474b-ad48-e6f6c8615a73",
   "metadata": {},
   "outputs": [
    {
     "name": "stdout",
     "output_type": "stream",
     "text": [
      "TEAMLAB X INFLEARN\n",
      "teamlab x inflearn\n",
      "Teamlab X Inflearn\n",
      "Teamlab x inflearn\n",
      "3\n",
      "False\n",
      "True\n",
      "False\n",
      "['TEAMLAB', 'X', 'Inflearn']\n"
     ]
    }
   ],
   "source": [
    "s1=\"TEAMLAB X Inflearn\"\n",
    "print(s1.upper())\n",
    "print(s1.lower())\n",
    "print(s1.title())\n",
    "print(s1.capitalize())\n",
    "print(s1.lower().count('a'))\n",
    "print(s1.isdigit())\n",
    "print(s1.lower().startswith(\"tea\"))\n",
    "print(s1.lower().endswith('.'))\n",
    "\n",
    "str_arr=s1.split()\n",
    "print(str_arr)"
   ]
  },
  {
   "cell_type": "code",
   "execution_count": 84,
   "id": "5441c0c7-4c80-47cd-abc3-ab0f1e127c20",
   "metadata": {},
   "outputs": [
    {
     "name": "stdout",
     "output_type": "stream",
     "text": [
      "\n",
      "    It's OK.\n",
      "    I'm Happy.\n",
      "    See you!\n",
      "\n"
     ]
    }
   ],
   "source": [
    "a='''\n",
    "    It\\'s OK.\n",
    "    I\\'m Happy.\n",
    "    See you!\n",
    "'''\n",
    "\n",
    "print(a)"
   ]
  },
  {
   "cell_type": "code",
   "execution_count": 87,
   "id": "26e3b060-d56c-41b7-9e7c-fc97b1c265fe",
   "metadata": {},
   "outputs": [
    {
     "name": "stdout",
     "output_type": "stream",
     "text": [
      "Yesterday all my troubles seemed so far away. Now it looks as though they're here to stay. Oh, I believe in yesterday.  Suddenly I'm not half the man I used to be. There's a shadow hanging over me. Oh, yesterday came suddenly.  Why she had to go, I don't know, she wouldn't say. I said something wrong, now I long for yesterday.  Yesterday love was such an easy game to play. Now I need a place to hide away. Oh, I believe in yesterday.  Why she had to go, I don't know, she wouldn't say. I said something wrong, now I long for yesterday.  Yesterday love was such an easy game to play. Now I need a place to hide away. Oh, I believe in yesterday.  Mm mm mm mm mm mm mm \n"
     ]
    }
   ],
   "source": [
    "f=open('data/yesterday.txt','r')\n",
    "yesterday_line = f.readlines()\n",
    "f.close\n",
    "\n",
    "contents = ''\n",
    "for line in yesterday_line:\n",
    "    contents+=line.strip()+\" \"\n",
    "else :\n",
    "    print(contents)"
   ]
  },
  {
   "cell_type": "code",
   "execution_count": 91,
   "id": "c2ddf734-ce74-4ee7-a961-79dbb6d7d665",
   "metadata": {},
   "outputs": [
    {
     "name": "stdout",
     "output_type": "stream",
     "text": [
      "Number of a Word 'yesterday' 9\n"
     ]
    }
   ],
   "source": [
    "n_of_yesterday = contents.lower().count('yesterday')\n",
    "print(\"Number of a Word 'yesterday'\", n_of_yesterday)"
   ]
  },
  {
   "cell_type": "code",
   "execution_count": 3,
   "id": "a87535d1-177e-4228-944f-37b67ede5995",
   "metadata": {},
   "outputs": [
    {
     "name": "stdout",
     "output_type": "stream",
     "text": [
      "이름은 홍길동이고, 나이는 20입니다\n",
      "이름은 홍길동이고 나이는 20입니다.\n"
     ]
    }
   ],
   "source": [
    "#문자열 서식\n",
    "name='홍길동'\n",
    "age=20\n",
    "s1=\"이름은 %s이고, 나이는 %d입니다\"%(name,age)\n",
    "print(s1)\n",
    "\n",
    "s2=\"이름은 {}이고 나이는 {}입니다.\".format(name, age)\n",
    "print(s2)"
   ]
  },
  {
   "cell_type": "code",
   "execution_count": 19,
   "id": "33741bf8-30af-4862-96cf-18f0d56fd99c",
   "metadata": {},
   "outputs": [
    {
     "name": "stdout",
     "output_type": "stream",
     "text": [
      "I'm 40    years old, my name is        홍길동 and price per unit 5.2\n",
      "I am    40 years old, my name is 홍길동        and Price per unit  5.23\n"
     ]
    }
   ],
   "source": [
    "age=40;name=\"홍길동\";unit=5.234\n",
    "print(\"I\\'m {1:<5d} years old, my name is {0:>10s} and price per unit {2:.1f}\".format(name, age, unit))\n",
    "\n",
    "print(\"I am %5d years old, my name is %-10s and Price per unit %5.2f\"%(age, name, unit))"
   ]
  },
  {
   "cell_type": "code",
   "execution_count": 22,
   "id": "4e5f89a6-7c64-4761-958c-883a83bcc85f",
   "metadata": {},
   "outputs": [
    {
     "name": "stdout",
     "output_type": "stream",
     "text": [
      "이름:Apple, price per unit:5.23450.\n"
     ]
    }
   ],
   "source": [
    "print(\"이름:%(name)5s, price per unit:%(price)5.5f.\"%{\"name\":\"Apple\",\"price\":5.2345})"
   ]
  },
  {
   "cell_type": "code",
   "execution_count": 23,
   "id": "b950f24e-dcb3-4281-98f4-45b0062ba616",
   "metadata": {},
   "outputs": [
    {
     "name": "stdout",
     "output_type": "stream",
     "text": [
      "이람:Apple, price per unit:5.12340.\n"
     ]
    }
   ],
   "source": [
    "print(\"이람:{name:>5s}, price per unit:{price:5.5f}.\".format(name=\"Apple\",price=5.1234))"
   ]
  }
 ],
 "metadata": {
  "kernelspec": {
   "display_name": "Python 3",
   "language": "python",
   "name": "python3"
  },
  "language_info": {
   "codemirror_mode": {
    "name": "ipython",
    "version": 3
   },
   "file_extension": ".py",
   "mimetype": "text/x-python",
   "name": "python",
   "nbconvert_exporter": "python",
   "pygments_lexer": "ipython3",
   "version": "3.8.8"
  }
 },
 "nbformat": 4,
 "nbformat_minor": 5
}
